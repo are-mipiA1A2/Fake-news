{
 "cells": [
  {
   "cell_type": "code",
   "execution_count": 30,
   "metadata": {},
   "outputs": [
    {
     "name": "stdout",
     "output_type": "stream",
     "text": [
      "[[0.71698865 0.50627807 0.00131763 0.95983479 0.85013529 0.31478922\n",
      "  0.56782697 0.21906282 0.07107638 0.10322674]\n",
      " [0.60737702 0.23950021 0.6104594  0.06284562 0.99299226 0.02487156\n",
      "  0.54483687 0.97014948 0.80244795 0.08226034]\n",
      " [0.44118988 0.13202204 0.49948632 0.43585733 0.64557089 0.33926492\n",
      "  0.569304   0.18157953 0.68146093 0.33841813]\n",
      " [0.19716025 0.40872565 0.18168811 0.7755649  0.01557861 0.86280005\n",
      "  0.08196886 0.44846206 0.78836199 0.27635316]\n",
      " [0.68764101 0.83358566 0.22721823 0.36377593 0.97181899 0.77986821\n",
      "  0.79862028 0.96222519 0.74314242 0.18994143]\n",
      " [0.92852127 0.90853696 0.43253984 0.92518774 0.73475071 0.01435902\n",
      "  0.75886306 0.73212032 0.78022187 0.53339412]\n",
      " [0.8257129  0.06662857 0.3573955  0.74489865 0.93449118 0.86109527\n",
      "  0.74039275 0.20922801 0.41516283 0.32976619]\n",
      " [0.84964547 0.01131684 0.13699798 0.5576486  0.89899809 0.04068602\n",
      "  0.12123637 0.26683678 0.35382772 0.75483236]\n",
      " [0.89500996 0.3247343  0.67813648 0.75318508 0.25617864 0.43932113\n",
      "  0.5851477  0.24810239 0.75793521 0.41535359]\n",
      " [0.47838158 0.02519038 0.76232543 0.38066069 0.44706945 0.59571526\n",
      "  0.93158604 0.23456471 0.15443627 0.44422718]]\n"
     ]
    }
   ],
   "source": [
    "import numpy as np\n",
    "import matplotlib.pyplot as plt\n",
    "import matplotlib.animation as anim\n",
    "import random as rd\n",
    "\n",
    "Ntot=100\n",
    "N_1dim=10\n",
    "\n",
    "Test_reseau=[(str(k),np.random.choice([0,1]),np.random.choice([False,True]),np.random.random_sample(),np.random.random_sample()) for k in range(Ntot)]\n",
    "\n",
    "def matrice_convic(reseau,N_1dim):\n",
    "    C=np.zeros((N_1dim,N_1dim))\n",
    "    i=0\n",
    "    j=0\n",
    "    for (nom,opinion,deja_vu,persu,p) in reseau:\n",
    "        C[i,j]=p\n",
    "        if j<(N_1dim-1):\n",
    "            j=j+1\n",
    "        elif j==(N_1dim-1):\n",
    "            j=0\n",
    "            i=i+1\n",
    "    return C\n",
    "\n",
    "Convictions=matrice_convic(Test_reseau,N_1dim)\n",
    "print(Convictions)"
   ]
  },
  {
   "cell_type": "code",
   "execution_count": 31,
   "metadata": {},
   "outputs": [
    {
     "data": {
      "image/png": "[encoded data removed]",
      "text/plain": [
       "<matplotlib.figure.Figure at 0x7f7ad0be87f0>"
      ]
     },
     "metadata": {},
     "output_type": "display_data"
    }
   ],
   "source": [
    "#L=np.random.uniform(0.0,1.0,size=(10,10))\n",
    "\n",
    "fig=plt.figure()\n",
    "im=plt.imshow(Convictions,cmap='seismic')"
   ]
  },
  {
   "cell_type": "code",
   "execution_count": 34,
   "metadata": {},
   "outputs": [
    {
     "name": "stdout",
     "output_type": "stream",
     "text": [
      "[0.6395645069410907, 0.5886509820368022, 0.3657176404839201, 0.016889075939404696, 0.2681607369317698, 0.661901694945186, 0.1506784104713793, 0.682320096814689, 0.6197897818183492, 0.5628857287415405, 0.4754385277594877, 0.7675148413827537, 0.6641145583770168, 0.7023961950560991, 0.09610667274989915, 0.13071289878054448, 0.8974065303333423, 0.32342497675620685, 0.5993174662810926, 0.6108381486947444, 0.14688857197652316, 0.3166163233804383, 0.24387947710184477, 0.26044947031554244, 0.6030941689167828]\n"
     ]
    }
   ],
   "source": [
    "L=np.random.uniform(0.0,1.0,size=(5,5))\n",
    "def test(L):\n",
    "    LR=[]\n",
    "    for k1 in L:\n",
    "        for k2 in k1:\n",
    "            LR.append(k2)\n",
    "    return LR\n",
    "print(test(L))"
   ]
  }
 ],
 "metadata": {
  "kernelspec": {
   "display_name": "Python 3",
   "language": "python",
   "name": "python3"
  },
  "language_info": {
   "codemirror_mode": {
    "name": "ipython",
    "version": 3
   },
   "file_extension": ".py",
   "mimetype": "text/x-python",
   "name": "python",
   "nbconvert_exporter": "python",
   "pygments_lexer": "ipython3",
   "version": "3.4.2"
  }
 },
 "nbformat": 4,
 "nbformat_minor": 2
}
