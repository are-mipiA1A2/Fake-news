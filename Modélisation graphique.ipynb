{
 "cells": [
  {
   "cell_type": "code",
   "execution_count": 5,
   "metadata": {},
   "outputs": [
    {
     "name": "stdout",
     "output_type": "stream",
     "text": [
      "[[0.26650379 0.48626683 0.81347804 0.69231986 0.08007538 0.11305835\n",
      "  0.69818438 0.81982204 0.99585396 0.85534165]\n",
      " [0.54137999 0.14849354 0.85132736 0.83287019 0.31580653 0.65778394\n",
      "  0.80084309 0.61216922 0.6332174  0.83586182]\n",
      " [0.72483403 0.31277114 0.07599391 0.56622186 0.32384292 0.60540526\n",
      "  0.8370249  0.61903554 0.97916981 0.89584119]\n",
      " [0.04576612 0.14670842 0.9469639  0.91425247 0.74700417 0.33345986\n",
      "  0.09695112 0.519354   0.92472927 0.27516749]\n",
      " [0.8773919  0.94214518 0.7101872  0.44665637 0.22007786 0.6848969\n",
      "  0.17816237 0.67201414 0.57671422 0.1782549 ]\n",
      " [0.03637011 0.78161349 0.8341342  0.04644735 0.71064559 0.9496\n",
      "  0.75437387 0.71726684 0.43785736 0.27748323]\n",
      " [0.73186564 0.39083871 0.57329672 0.68365242 0.4172739  0.01654301\n",
      "  0.92925569 0.19542083 0.88454428 0.84273884]\n",
      " [0.49005072 0.89691879 0.00947061 0.57339142 0.19934451 0.9642535\n",
      "  0.41646272 0.55904471 0.59336757 0.65976078]\n",
      " [0.36840258 0.65777776 0.24461317 0.22953922 0.82857415 0.18408586\n",
      "  0.32600298 0.51824529 0.53643371 0.11705705]\n",
      " [0.42561775 0.84968049 0.74873904 0.43939831 0.53063457 0.14277522\n",
      "  0.47801869 0.18656223 0.45965113 0.50276342]]\n"
     ]
    }
   ],
   "source": [
    "import numpy as np\n",
    "import matplotlib.pyplot as plt\n",
    "import matplotlib.animation as anim\n",
    "import random as rd\n",
    "\n",
    "Ntot=100\n",
    "N_1dim=10\n",
    "\n",
    "Test_reseau={str(k):(np.random.choice([0,1]),np.random.choice([False,True]),np.random.random_sample(),np.random.random_sample()) for k in range(Ntot)}\n",
    "\n",
    "def matrice_convic(reseau,N_1dim):\n",
    "    C=np.zeros((N_1dim,N_1dim))\n",
    "    i=0\n",
    "    j=0\n",
    "    for (nom,(opinion,deja_vu,persu,p)) in reseau.items():\n",
    "        C[i,j]=p\n",
    "        if j<(N_1dim-1):\n",
    "            j=j+1\n",
    "        elif j==(N_1dim-1):\n",
    "            j=0\n",
    "            i=i+1\n",
    "    return C\n",
    "\n",
    "print(matrice_convic(Test_reseau,N_1dim))"
   ]
  },
  {
   "cell_type": "code",
   "execution_count": 2,
   "metadata": {},
   "outputs": [
    {
     "data": {
      "image/png": "[encoded data removed]",
      "text/plain": [
       "<matplotlib.figure.Figure at 0x7f6de14e2630>"
      ]
     },
     "metadata": {},
     "output_type": "display_data"
    }
   ],
   "source": [
    "#L=np.random.uniform(0.0,1.0,size=(10,10))\n",
    "\n",
    "#Affichage des convictions (bleu -> 0 ; rouge -> 1)\n",
    "\n",
    "Convictions=matrice_convic(Test_reseau,N_1dim)\n",
    "fig=plt.figure()\n",
    "im=plt.imshow(Convictions,cmap='seismic')"
   ]
  },
  {
   "cell_type": "code",
   "execution_count": 6,
   "metadata": {},
   "outputs": [
    {
     "name": "stdout",
     "output_type": "stream",
     "text": [
      "[[0. 1. 0. 1. 1. 0. 0. 0. 1. 0.]\n",
      " [1. 0. 0. 0. 1. 1. 1. 0. 1. 0.]\n",
      " [0. 0. 0. 1. 0. 1. 0. 1. 1. 1.]\n",
      " [1. 0. 1. 0. 0. 0. 0. 1. 0. 1.]\n",
      " [1. 1. 0. 0. 1. 0. 1. 1. 1. 1.]\n",
      " [1. 1. 0. 0. 1. 1. 1. 0. 1. 0.]\n",
      " [1. 0. 1. 0. 1. 0. 1. 1. 0. 0.]\n",
      " [1. 0. 1. 1. 1. 0. 0. 1. 1. 0.]\n",
      " [0. 1. 1. 0. 0. 0. 1. 1. 0. 1.]\n",
      " [0. 0. 1. 1. 0. 1. 1. 1. 1. 1.]]\n"
     ]
    }
   ],
   "source": [
    "def matrice_opinions(reseau,n_1dim):\n",
    "    Op=np.zeros((n_1dim,n_1dim))\n",
    "    i=0\n",
    "    j=0\n",
    "    for (nom,(op,deja_vu,persu,p)) in reseau.items():\n",
    "        Op[i,j]=op\n",
    "        if j<(n_1dim-1):\n",
    "            j=j+1\n",
    "        elif j==(n_1dim-1):\n",
    "            j=0\n",
    "            i=i+1\n",
    "    return Op\n",
    "\n",
    "print(matrice_opinions(Test_reseau,N_1dim))"
   ]
  },
  {
   "cell_type": "code",
   "execution_count": 9,
   "metadata": {},
   "outputs": [
    {
     "data": {
      "image/png": "[encoded data removed]",
      "text/plain": [
       "<matplotlib.figure.Figure at 0x7f6dc88c11d0>"
      ]
     },
     "metadata": {},
     "output_type": "display_data"
    }
   ],
   "source": [
    "#Affichage des opinions\n",
    "\n",
    "Opinions=matrice_opinions(Test_reseau,N_1dim)\n",
    "fig=plt.figure()\n",
    "im=plt.imshow(Opinions,cmap='binary')"
   ]
  },
  {
   "cell_type": "code",
   "execution_count": 9,
   "metadata": {},
   "outputs": [
    {
     "name": "stdout",
     "output_type": "stream",
     "text": [
      "[0.24536713254819909, 0.071822456584517469, 0.84798953395481924, 0.020640027740460032, 0.76287169780706066, 0.22183951515350031, 0.90508888869043447, 0.1998496479424825, 0.63107101239009078, 0.95086703290013697, 0.088291570109884865, 0.60220170314755739, 0.42574716484863129, 0.89439279498085655, 0.31276873119360504, 0.23399660843829506, 0.035669768371882515, 0.84088790054612217, 0.95724882515696841, 0.31094161564919787, 0.80434438614760151, 0.6187960520298148, 0.61090166522734735, 0.58421458139640814, 0.22257917892895218]\n"
     ]
    }
   ],
   "source": [
    "L=np.random.uniform(0.0,1.0,size=(5,5))\n",
    "def test(L):\n",
    "    LR=[]\n",
    "    for k1 in L:\n",
    "        for k2 in k1:\n",
    "            LR.append(k2)\n",
    "    return LR\n",
    "print(test(L))"
   ]
  }
 ],
 "metadata": {
  "kernelspec": {
   "display_name": "Python 3",
   "language": "python",
   "name": "python3"
  },
  "language_info": {
   "codemirror_mode": {
    "name": "ipython",
    "version": 3
   },
   "file_extension": ".py",
   "mimetype": "text/x-python",
   "name": "python",
   "nbconvert_exporter": "python",
   "pygments_lexer": "ipython3",
   "version": "3.4.2"
  }
 },
 "nbformat": 4,
 "nbformat_minor": 2
}
