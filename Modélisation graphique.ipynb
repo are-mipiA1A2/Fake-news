{
 "cells": [
  {
   "cell_type": "code",
   "execution_count": 5,
   "metadata": {},
   "outputs": [
    {
     "name": "stdout",
     "output_type": "stream",
     "text": [
      "[[ 0.19347528  0.17063496  0.99184573  0.34216479  0.77351645  0.79842407\n",
      "   0.73589297  0.27562162  0.40951109  0.89033754]\n",
      " [ 0.34264876  0.58989353  0.9713817   0.29830138  0.4187184   0.41679435\n",
      "   0.36008211  0.17099311  0.95009594  0.31850214]\n",
      " [ 0.41930398  0.59709784  0.09260479  0.2752046   0.06478294  0.35161462\n",
      "   0.38623268  0.3888671   0.69567279  0.79447079]\n",
      " [ 0.28078121  0.37774191  0.91649172  0.99427024  0.67803695  0.38771723\n",
      "   0.61817828  0.51214548  0.45237952  0.1953757 ]\n",
      " [ 0.95028808  0.50206801  0.64551904  0.52248786  0.29563222  0.77417326\n",
      "   0.81840509  0.2452693   0.82835358  0.42661259]\n",
      " [ 0.45875911  0.15945741  0.43450518  0.35881382  0.04852734  0.33619898\n",
      "   0.76401296  0.13356197  0.68004004  0.06638814]\n",
      " [ 0.48229278  0.68564579  0.53241757  0.41650963  0.7170942   0.89391988\n",
      "   0.97912537  0.95241724  0.27012248  0.69854779]\n",
      " [ 0.80919412  0.2483775   0.21574401  0.40656482  0.0208699   0.69206929\n",
      "   0.64405418  0.80009891  0.63946073  0.04992508]\n",
      " [ 0.41120388  0.64972454  0.10360815  0.51650672  0.77119957  0.95465878\n",
      "   0.5397324   0.6280253   0.96708285  0.13455439]\n",
      " [ 0.57157807  0.31482103  0.75815133  0.6643776   0.325714    0.17064875\n",
      "   0.07191078  0.66313568  0.25702028  0.66605412]]\n"
     ]
    }
   ],
   "source": [
    "import numpy as np\n",
    "import matplotlib.pyplot as plt\n",
    "import matplotlib.animation as anim\n",
    "import random as rd\n",
    "\n",
    "Ntot=100\n",
    "N_1dim=10\n",
    "\n",
    "Test_reseau={str(k):(np.random.choice([0,1]),np.random.choice([False,True]),np.random.random_sample(),np.random.random_sample()) for k in range(Ntot)}\n",
    "\n",
    "def matrice_convic(reseau,N_1dim):\n",
    "    C=np.zeros((N_1dim,N_1dim))\n",
    "    i=0\n",
    "    j=0\n",
    "    for (nom,(opinion,deja_vu,persu,p)) in reseau.items():\n",
    "        C[i,j]=p\n",
    "        if j<(N_1dim-1):\n",
    "            j=j+1\n",
    "        elif j==(N_1dim-1):\n",
    "            j=0\n",
    "            i=i+1\n",
    "    return C\n",
    "\n",
    "Convictions=matrice_convic(Test_reseau,N_1dim)\n",
    "print(Convictions)"
   ]
  },
  {
   "cell_type": "code",
   "execution_count": 10,
   "metadata": {},
   "outputs": [],
   "source": [
    "#L=np.random.uniform(0.0,1.0,size=(10,10))\n",
    "\n",
    "fig=plt.figure()\n",
    "im=plt.imshow(Convictions,cmap='seismic')"
   ]
  },
  {
   "cell_type": "code",
   "execution_count": 9,
   "metadata": {},
   "outputs": [
    {
     "name": "stdout",
     "output_type": "stream",
     "text": [
      "[0.24536713254819909, 0.071822456584517469, 0.84798953395481924, 0.020640027740460032, 0.76287169780706066, 0.22183951515350031, 0.90508888869043447, 0.1998496479424825, 0.63107101239009078, 0.95086703290013697, 0.088291570109884865, 0.60220170314755739, 0.42574716484863129, 0.89439279498085655, 0.31276873119360504, 0.23399660843829506, 0.035669768371882515, 0.84088790054612217, 0.95724882515696841, 0.31094161564919787, 0.80434438614760151, 0.6187960520298148, 0.61090166522734735, 0.58421458139640814, 0.22257917892895218]\n"
     ]
    }
   ],
   "source": [
    "L=np.random.uniform(0.0,1.0,size=(5,5))\n",
    "def test(L):\n",
    "    LR=[]\n",
    "    for k1 in L:\n",
    "        for k2 in k1:\n",
    "            LR.append(k2)\n",
    "    return LR\n",
    "print(test(L))"
   ]
  }
 ],
 "metadata": {
  "kernelspec": {
   "display_name": "Python 3",
   "language": "python",
   "name": "python3"
  },
  "language_info": {
   "codemirror_mode": {
    "name": "ipython",
    "version": 3
   },
   "file_extension": ".py",
   "mimetype": "text/x-python",
   "name": "python",
   "nbconvert_exporter": "python",
   "pygments_lexer": "ipython3",
   "version": "3.6.3"
  }
 },
 "nbformat": 4,
 "nbformat_minor": 2
}
