{
 "cells": [
  {
   "cell_type": "markdown",
   "metadata": {},
   "source": [
    "# Modèles du Fake news"
   ]
  },
  {
   "cell_type": "markdown",
   "metadata": {},
   "source": [
    "Sujet d'ARE DYNAMIC 2018 (Jenny Ogolo, Aya SADOUKI, Ruxue ZENG)"
   ]
  },
  {
   "cell_type": "markdown",
   "metadata": {},
   "source": [
    "## Introduction"
   ]
  },
  {
   "cell_type": "markdown",
   "metadata": {},
   "source": [
    "Considérons un ensemble donné d'**individus** que l'on appelera **population**. Chacun de ces individus possède une **opinion binaire** face à un fake news. Naturellement, nous pouvons nous attendre à ce que l'opinion d'un individu donné évolue en fonction des **rencontres** faites avec d'autres individus, par contact physique (que l'on appelle les **voisins** , ou à distance (qu'ils sont appartiennent dans un même **réseau**).\n",
    "\n",
    "Dans ce contexte, une question émerge principalement :\n",
    "\n",
    "* Comment évolueront les opinions des individus au cours du temps ?"
   ]
  },
  {
   "cell_type": "markdown",
   "metadata": {},
   "source": [
    "Dans la première partie de cette mpdèle, nous allons étudier ce modèle en particulier : le **modèle du fake news par contact physique**. Ce modèle effectue les deux hypothèses suivantes :\n",
    "\n",
    "* L'opinion d'un individu $ i $ est une valeur entier réel ( $ 0 $ ou $ 1 $ ), que nous noterons $ op_i $.\n",
    "\n",
    "* chaque individu possède une conviction que nous notrerons $ p_i $ (une valeur réel comprise entre $ 0 $ et $ 1 $ inclus)\n",
    "\n",
    "* Le premier mise à jour consiste à faire évoluer la conviction d'un individu $ i $, lorsqu'il rencontre un individu $ j $ (ou un groupe d'individus en fonction des trois paramètres:\n",
    "\n",
    "    * l'influence de la force de persuasion $ fp_i $, caractéristique d\"un individu, une valeur compris entre $ 0 $ et $ 1 $ inclus, $ p_i $ évolue lorsque $  fp_i $ < $  fp_j $ en appliquant la formule: $ p_i \\leftarrow p_i + fp_i  \\cdot ( p_j - p_i ) $\n",
    "    * l'influence du voisinage en appliquant $ p_i \\leftarrow p_i + \\mu \\cdot ( p_j - p_i ) $  si la discussion a eu lieu qu'entre seulement **2 personnes**, **sinon**,l'agent $ i $ adopte la conviction de la majorité.\n",
    "    * la crédibilité du news $ c_news $ : une valeur réel aléatoire comprise entre $ 0 $ et $ 1 $, influence $ p_i $ de façon suivante: $ p_i \\leftarrow p_i + \\lambda \\cdot ( c - p_i ) $\n",
    "    \n",
    "* Le mise à jour de l'opinion consiste à faire évoluer l'opinion d'un individu en fonction de sa nouvelle conviction: if $ p_i  > 0.5 , $ $ op_i $ change. \n",
    "\n",
    "Où $ \\mu $ est appelé le **paramètre de la force de persuasion**. Ce paramètre permet de contrôler la vitesse de convergence des opinions. Sa valeur est comprise entre $ 0 $ et $ 0.5 $.\n",
    "\n",
    "Où $ \\lambda $ est appelé le **paramètre de la .....................**. Ce paramètre permet de contrôler la vitesse de convergence des opinions. Sa valeur est comprise entre $ 0 $ et $ 0.5 $.\n",
    "\n",
    "\n"
   ]
  },
  {
   "cell_type": "markdown",
   "metadata": {},
   "source": [
    "## Initialisation"
   ]
  },
  {
   "cell_type": "markdown",
   "metadata": {},
   "source": [
    "Nous initialisons une matrice de $ N*N $ individus, et un dictionaire qui associe à chaque individu un tuple sous la forme $ dict $ {$ i:(op,dejavu,fp,p) $}"
   ]
  },
  {
   "cell_type": "code",
   "execution_count": 64,
   "metadata": {},
   "outputs": [
    {
     "name": "stdout",
     "output_type": "stream",
     "text": [
      "Nb_Pop= 25\n",
      "Dict_pop= {'15': (0, False, 0.4581073511059687, 0.5), '19': (0, False, 0.22276262936409463, 0.5), '3': (0, False, 0.5142159593145164, 0.5), '25': (0, False, 0.7711715287761396, 0.5), '11': (0, False, 0.9847660094366336, 0.5), '20': (0, False, 0.7115499847637752, 0.5), '22': (0, False, 0.4920017953921212, 0.5), '24': (0, False, 0.4893261627552421, 0.5), '7': (0, False, 0.9009779017355161, 0.5), '21': (0, False, 0.15683278067694406, 0.5), '14': (0, False, 0.4751000393283388, 0.5), '10': (0, False, 0.35824461622925097, 0.5), '2': (0, False, 0.5477511635810686, 0.5), '18': (0, False, 0.6758840747793654, 0.5), '9': (0, False, 0.857868254653665, 0.5), '13': (0, False, 0.8263497379220672, 0.5), '5': (0, False, 0.7365617588515823, 0.5), '16': (0, False, 0.8227224734945374, 0.5), '4': (0, False, 0.08055164961776906, 0.5), '1': (0, False, 0.3933804945540872, 0.5), '6': (0, False, 0.5047588736579721, 0.5), '17': (0, False, 0.8386702021420397, 0.5), '23': (0, False, 0.5525248007328273, 0.5), '8': (0, False, 0.9513623420109504, 0.5), '12': (0, False, 0.4621942762179686, 0.5)}\n"
     ]
    }
   ],
   "source": [
    "import numpy as np\n",
    "\n",
    "def init_systeme(N):\n",
    "    \"\"\"cet algorithme crée un groupe de population sous la forme d'une matrice de taille N, et un dictionnaire qui associe\n",
    "    à chaque individu un tuple sous la forme dict{i:(op,dej_vu,fp,p)} où \n",
    "       op:opinion binaire de l'individu\n",
    "       dej_vu: l'individu a déja vu ou pas le fake news\n",
    "       fp: le pouvoir de persuasion de l'individu\n",
    "       p:la conviction de l'individu \"\"\"\n",
    "    Population=np.arange(1,N*N+1).reshape(N,N)\n",
    "    Dict_pop={str(i):(0,False,fp,0.5) for i in np.arange(1,N*N+1) \n",
    "        for fp in np.random.uniform(low=0.0, high=1.0, size=(N*N))}\n",
    "        \n",
    "    return Dict_pop\n",
    "\n",
    "\n",
    "N=5\n",
    "print(\"Nb_Pop=\",N*N)\n",
    "print(\"Dict_pop=\",init_systeme(N))"
   ]
  },
  {
   "cell_type": "code",
   "execution_count": 67,
   "metadata": {},
   "outputs": [
    {
     "name": "stdout",
     "output_type": "stream",
     "text": [
      "Pop_av_malv= {'15': (0, False, 0.12723886602485746, 0.5), '19': (0, False, 0.033519220604085964, 0.5), '3': (0, False, 0.29082648869343597, 0.5), '25': (0, False, 0.27326731994238096, 0.5), '11': (0, False, 0.7494316380730954, 0.5), '20': (0, False, 0.2969992086925549, 0.5), '22': (0, False, 0.7562504228548276, 0.5), '24': (1, True, 0.9, 0.8), '7': (0, False, 0.7934558648330614, 0.5), '21': (0, False, 0.6965570068118266, 0.5), '14': (0, False, 0.8970842661002495, 0.5), '10': (0, False, 0.6574344777414223, 0.5), '2': (1, True, 0.9, 0.8), '18': (0, False, 0.5135471708240923, 0.5), '9': (0, False, 0.7031673129037337, 0.5), '13': (0, False, 0.6373635449584413, 0.5), '5': (1, True, 0.9, 0.8), '16': (1, True, 0.9, 0.8), '4': (1, True, 0.9, 0.8), '1': (0, False, 0.5892831739085161, 0.5), '6': (0, False, 0.528037575420983, 0.5), '17': (0, False, 0.4699110060080194, 0.5), '23': (0, False, 0.17418385362845523, 0.5), '8': (0, False, 0.11905947081878165, 0.5), '12': (0, False, 0.8256330178751361, 0.5)}\n"
     ]
    }
   ],
   "source": [
    "def init_sys_avec_malv(N):\n",
    "    \n",
    "    Pop=init_systeme(N)\n",
    "    L= np.random.randint(low=0, high=N*N, size=6,dtype=int)\n",
    "    for e in L:\n",
    "        Pop[str(e)]=(1,True,0.9,0.8)\n",
    "    \n",
    "    return Pop\n",
    "\n",
    "print(\"Pop_av_malv=\",init_sys_avec_malv(N))\n",
    "    "
   ]
  },
  {
   "cell_type": "markdown",
   "metadata": {},
   "source": [
    "## Contact physique"
   ]
  },
  {
   "cell_type": "markdown",
   "metadata": {},
   "source": [
    "### Influence de la force de persuasion"
   ]
  },
  {
   "cell_type": "code",
   "execution_count": 74,
   "metadata": {},
   "outputs": [],
   "source": [
    "import numpy as np\n",
    "Dict_pop=init_sys_avec_malv(N)\n",
    "\n",
    "\n",
    "def force_de_persuasion(x, y, Dict_pop):\n",
    "    \"\"\"Rule to use to update the opinions.\"\"\"\n",
    "    \n",
    "    #modification du paramètre fpx en fonction de la force de persuasion de y et vice versa.\n",
    "    \n",
    "    opx,dej_vux,fpx,px=Dict_pop[x]\n",
    "    opy,dej_vuy,fpy,py=Dict_pop[y]\n",
    "    if fpx>fpy:\n",
    "        py=py+fpy*(px-py)\n",
    "    elif fpy>fpx:\n",
    "        px=px+fpx*(py-px)\n",
    "                \n",
    "    Dict_pop[x]=(opx,dej_vux,fpx,px)\n",
    "    Dict_pop[y]=(opy,dej_vuy,fpy,py)\n",
    "    \n",
    "    return Dict_pop\n"
   ]
  },
  {
   "cell_type": "code",
   "execution_count": 75,
   "metadata": {},
   "outputs": [
    {
     "ename": "NameError",
     "evalue": "name 'Ma' is not defined",
     "output_type": "error",
     "traceback": [
      "\u001b[0;31m---------------------------------------------------------------------------\u001b[0m",
      "\u001b[0;31mNameError\u001b[0m                                 Traceback (most recent call last)",
      "\u001b[0;32m<ipython-input-75-47742c4711a8>\u001b[0m in \u001b[0;36m<module>\u001b[0;34m()\u001b[0m\n\u001b[1;32m     15\u001b[0m \u001b[0;34m\u001b[0m\u001b[0m\n\u001b[1;32m     16\u001b[0m     \u001b[0;32mreturn\u001b[0m \u001b[0mMa\u001b[0m\u001b[0;34m\u001b[0m\u001b[0m\n\u001b[0;32m---> 17\u001b[0;31m \u001b[0mprint\u001b[0m\u001b[0;34m(\u001b[0m\u001b[0mMa\u001b[0m\u001b[0;34m)\u001b[0m\u001b[0;34m\u001b[0m\u001b[0m\n\u001b[0m",
      "\u001b[0;31mNameError\u001b[0m: name 'Ma' is not defined"
     ]
    }
   ],
   "source": [
    "def selection_voisinage(Matrice,i):\n",
    "    \"Sélection aléatoire des voisinages d'un individu\"\n",
    "    Ma=[]\n",
    "    n=1\n",
    "\n",
    "    for l in Dict_pop:\n",
    "        if n==(a-1) or n==a:\n",
    "            Ma.append([l[b-2],l[b-1],l[b]])\n",
    "            n=n+1\n",
    "        elif n==a+1:\n",
    "            Ma.append([l[b-2],l[b-1],l[b]])\n",
    "            return Ma\n",
    "        else:\n",
    "            n=n+1\n",
    "            \n",
    "    return Ma\n",
    "print(Ma)"
   ]
  },
  {
   "cell_type": "code",
   "execution_count": null,
   "metadata": {},
   "outputs": [],
   "source": []
  }
 ],
 "metadata": {
  "kernelspec": {
   "display_name": "Python 3",
   "language": "python",
   "name": "python3"
  },
  "language_info": {
   "codemirror_mode": {
    "name": "ipython",
    "version": 3
   },
   "file_extension": ".py",
   "mimetype": "text/x-python",
   "name": "python",
   "nbconvert_exporter": "python",
   "pygments_lexer": "ipython3",
   "version": "3.4.2"
  }
 },
 "nbformat": 4,
 "nbformat_minor": 2
}
