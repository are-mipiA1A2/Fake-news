{
 "cells": [
  {
   "cell_type": "markdown",
   "metadata": {},
   "source": [
    "# Modèles du Fake news"
   ]
  },
  {
   "cell_type": "markdown",
   "metadata": {},
   "source": [
    "Sujet d'ARE DYNAMIC 2018 (Jenny Ogolo, Aya SADOUKI, Ruxue ZENG)"
   ]
  },
  {
   "cell_type": "markdown",
   "metadata": {},
   "source": [
    "## Introduction"
   ]
  },
  {
   "cell_type": "markdown",
   "metadata": {},
   "source": [
    "Considérons un ensemble donné d'**individus** que l'on appelera **population**. Chacun de ces individus possède une **opinion binaire** face à un fake news. Naturellement, nous pouvons nous attendre à ce que l'opinion d'un individu donné évolue en fonction des **rencontres** faites avec d'autres individus, par contact physique (que l'on appelle les **voisins** , ou à distance (qu'ils sont appartiennent dans un même **réseau**).\n",
    "\n",
    "Dans ce contexte, une question émerge principalement :\n",
    "\n",
    "* Comment évolueront les opinions des individus au cours du temps ?"
   ]
  },
  {
   "cell_type": "markdown",
   "metadata": {},
   "source": [
    "Dans la première partie de cette étude, nous allons étudier ce modèle en particulier : le **modèle de propagation de fake news par discussion physique**. Ce modèle effectue les deux hypothèses suivantes :\n",
    "\n",
    "* L'opinion d'un individu $ i $ est une valeur binaire ( $ 0 $ ou $ 1 $ ), que nous noterons $ op_i $.\n",
    "\n",
    "* chaque individu possède une conviction que nous notrerons $ p_i $ (une valeur réelle comprise entre $ 0 $ et $ 1 $ inclus)\n",
    "\n",
    "* La première mise à jour consiste à faire évoluer la conviction d'un individu $ i $, lorsqu'il rencontre un individu $ j $ (ou un groupe d'individus) en fonction des trois paramètres:\n",
    "\n",
    "    * l'influence de la force de persuasion $ fp_i $, caractéristique d\"un individu, une valeur compris entre $ 0 $ et $ 1 $ inclus, $ p_i $ évolue lorsque $  fp_i $ < $  fp_j $ en appliquant la formule: $ p_i \\leftarrow p_i + fp_i  \\cdot ( p_j - p_i ) $\n",
    "    * l'influence du voisinage en appliquant $ p_i \\leftarrow p_i + \\mu \\cdot ( p_j - p_i ) $  si la discussion a lieu entre seulement **2 personnes**, **sinon**,l'agent $ i $ adopte la conviction de la majorité.\n",
    "    * la crédibilité du news $ c_news $ : une valeur réel aléatoire comprise entre $ 0 $ et $ 1 $, influence $ p_i $ de façon suivante: $ p_i \\leftarrow p_i + \\lambda \\cdot ( c - p_i ) $\n",
    "    \n",
    "* Le mise à jour de l'opinion consiste à faire évoluer l'opinion d'un individu en fonction de sa nouvelle conviction: if $ p_i  > 0.5 , $ $ op_i $ change. \n",
    "\n",
    "Où $ \\mu $ est appelé le **paramètre de la force de persuasion**. Ce paramètre permet de contrôler la vitesse de convergence des opinions. Sa valeur est comprise entre $ 0 $ et $ 0.5 $.\n",
    "\n",
    "Où $ \\lambda $ est appelé le **paramètre de la .....................**. Ce paramètre permet de contrôler la vitesse de convergence des opinions. Sa valeur est comprise entre $ 0 $ et $ 0.5 $.\n",
    "\n",
    "\n"
   ]
  },
  {
   "cell_type": "markdown",
   "metadata": {},
   "source": [
    "## Initialisation"
   ]
  },
  {
   "cell_type": "markdown",
   "metadata": {},
   "source": [
    "Nous initialisons une matrice de $ N*N $ individus, et un dictionaire qui associe à chaque individu un tuple sous la forme $ dict $ {$ i:(op,dejavu,fp,p) $}"
   ]
  },
  {
   "cell_type": "code",
   "execution_count": 6,
   "metadata": {},
   "outputs": [
    {
     "name": "stdout",
     "output_type": "stream",
     "text": [
      "Nb_Pop= 25\n",
      "Dict_pop= {'1': (0, False, 0.5385195107296048, 0.5), '2': (0, False, 0.27466287274598034, 0.5), '3': (0, False, 0.37846736116649959, 0.5), '4': (0, False, 0.91330370993612353, 0.5), '5': (0, False, 0.92987117119480922, 0.5), '6': (0, False, 0.96649725134851627, 0.5), '7': (0, False, 0.40924617108580097, 0.5), '8': (0, False, 0.98414115304072003, 0.5), '9': (0, False, 0.56355715048413668, 0.5), '10': (0, False, 0.018138570162373413, 0.5), '11': (0, False, 0.2190383465139536, 0.5), '12': (0, False, 0.78011187358658618, 0.5), '13': (0, False, 0.60533658418800973, 0.5), '14': (0, False, 0.84410963134336581, 0.5), '15': (0, False, 0.61961787254421807, 0.5), '16': (0, False, 0.96742645804757721, 0.5), '17': (0, False, 0.29921250055296245, 0.5), '18': (0, False, 0.90105495063953389, 0.5), '19': (0, False, 0.69373714213828064, 0.5), '20': (0, False, 0.72054661743317994, 0.5), '21': (0, False, 0.27738115519093409, 0.5), '22': (0, False, 0.65565536208844544, 0.5), '23': (0, False, 0.55892797023710494, 0.5), '24': (0, False, 0.53693761733891732, 0.5), '25': (0, False, 0.47505136933077241, 0.5)}\n"
     ]
    }
   ],
   "source": [
    "import numpy as np\n",
    "\n",
    "def init_systeme(N):\n",
    "    \"\"\"cet algorithme crée un groupe de population sous la forme d'une matrice de taille N, et un dictionnaire qui associe\n",
    "    à chaque individu un tuple sous la forme dict{i:(op,deja_vu,fp,p)} où \n",
    "       op:opinion binaire de l'individu\n",
    "       deja_vu: l'individu a déja vu ou pas le fake news\n",
    "       fp: le pouvoir de persuasion de l'individu\n",
    "       p:la conviction de l'individu \"\"\"\n",
    "    Population=np.arange(1,N*N+1).reshape(N,N)\n",
    "    Dict_pop={str(i):(0,False,fp,0.5) for i in np.arange(1,N*N+1) \n",
    "        for fp in np.random.uniform(low=0.0, high=1.0, size=(N*N))}\n",
    "        \n",
    "    return Dict_pop\n",
    "\n",
    "\n",
    "N=5\n",
    "print(\"Nb_Pop=\",N*N)\n",
    "print(\"Dict_pop=\",init_systeme(N))"
   ]
  },
  {
   "cell_type": "code",
   "execution_count": 7,
   "metadata": {},
   "outputs": [
    {
     "name": "stdout",
     "output_type": "stream",
     "text": [
      "Pop_av_malv= {'1': (0, False, 0.061362906284729068, 0.5), '2': (1, True, 0.9, 0.8), '3': (0, False, 0.20316462794035262, 0.5), '4': (0, False, 0.79763862694888499, 0.5), '5': (0, False, 0.58591840599294864, 0.5), '6': (1, True, 0.9, 0.8), '7': (0, False, 0.64400311936537247, 0.5), '8': (0, False, 0.12416837012018234, 0.5), '9': (0, False, 0.20865311236729411, 0.5), '10': (0, False, 0.04684488607790871, 0.5), '11': (0, False, 0.36778942167685458, 0.5), '12': (0, False, 0.2587145168103121, 0.5), '13': (1, True, 0.9, 0.8), '14': (0, False, 0.25612421620355652, 0.5), '15': (0, False, 0.28065715596813834, 0.5), '16': (0, False, 0.67120351828603209, 0.5), '17': (0, False, 0.52153248592039381, 0.5), '18': (1, True, 0.9, 0.8), '19': (0, False, 0.39960027659579367, 0.5), '20': (1, True, 0.9, 0.8), '21': (0, False, 0.70460660126297914, 0.5), '22': (1, True, 0.9, 0.8), '23': (0, False, 0.9015396327146119, 0.5), '24': (0, False, 0.39210722833452039, 0.5), '25': (0, False, 0.53516287983915023, 0.5)}\n"
     ]
    }
   ],
   "source": [
    "def init_sys_avec_malv(N):\n",
    "    \n",
    "    Pop=init_systeme(N)\n",
    "    L= np.random.randint(low=0, high=N*N, size=6,dtype=int)\n",
    "    for e in L:\n",
    "        Pop[str(e)]=(1,True,0.9,0.8)\n",
    "    \n",
    "    return Pop\n",
    "\n",
    "print(\"Pop_av_malv=\",init_sys_avec_malv(N))\n",
    "    "
   ]
  },
  {
   "cell_type": "markdown",
   "metadata": {},
   "source": [
    "## Contact physique"
   ]
  },
  {
   "cell_type": "markdown",
   "metadata": {},
   "source": [
    "### Influence de la force de persuasion"
   ]
  },
  {
   "cell_type": "code",
   "execution_count": 8,
   "metadata": {
    "collapsed": true
   },
   "outputs": [],
   "source": [
    "import numpy as np\n",
    "Dict_pop=init_sys_avec_malv(N)\n",
    "\n",
    "\n",
    "def force_de_persuasion(x, y, Dict_pop):\n",
    "    \"\"\"Rule to use to update the opinions.\"\"\"\n",
    "    \n",
    "    #modification du paramètre fpx en fonction de la force de persuasion de y et vice versa.\n",
    "    \n",
    "    opx,dej_vux,fpx,px=Dict_pop[x]\n",
    "    opy,dej_vuy,fpy,py=Dict_pop[y]\n",
    "    if fpx>fpy:\n",
    "        py=py+fpy*(px-py)\n",
    "    elif fpy>fpx:\n",
    "        px=px+fpx*(py-px)\n",
    "                \n",
    "    Dict_pop[x]=(opx,dej_vux,fpx,px)\n",
    "    Dict_pop[y]=(opy,dej_vuy,fpy,py)\n",
    "    \n",
    "    return Dict_pop\n"
   ]
  },
  {
   "cell_type": "code",
   "execution_count": 9,
   "metadata": {},
   "outputs": [
    {
     "ename": "NameError",
     "evalue": "name 'a' is not defined",
     "output_type": "error",
     "traceback": [
      "\u001b[1;31m---------------------------------------------------------------------------\u001b[0m",
      "\u001b[1;31mNameError\u001b[0m                                 Traceback (most recent call last)",
      "\u001b[1;32m<ipython-input-9-0eb996768687>\u001b[0m in \u001b[0;36m<module>\u001b[1;34m()\u001b[0m\n\u001b[0;32m     16\u001b[0m     \u001b[1;32mreturn\u001b[0m \u001b[0mMa\u001b[0m\u001b[1;33m\u001b[0m\u001b[0m\n\u001b[0;32m     17\u001b[0m \u001b[1;33m\u001b[0m\u001b[0m\n\u001b[1;32m---> 18\u001b[1;33m \u001b[0mprint\u001b[0m\u001b[1;33m(\u001b[0m\u001b[0mselection_voisinage\u001b[0m\u001b[1;33m(\u001b[0m\u001b[0minit_systeme\u001b[0m\u001b[1;33m(\u001b[0m\u001b[0mN\u001b[0m\u001b[1;33m)\u001b[0m\u001b[1;33m)\u001b[0m\u001b[1;33m)\u001b[0m\u001b[1;33m\u001b[0m\u001b[0m\n\u001b[0m",
      "\u001b[1;32m<ipython-input-9-0eb996768687>\u001b[0m in \u001b[0;36mselection_voisinage\u001b[1;34m(reseau)\u001b[0m\n\u001b[0;32m      5\u001b[0m \u001b[1;33m\u001b[0m\u001b[0m\n\u001b[0;32m      6\u001b[0m     \u001b[1;32mfor\u001b[0m \u001b[0ml\u001b[0m \u001b[1;32min\u001b[0m \u001b[0mreseau\u001b[0m\u001b[1;33m:\u001b[0m\u001b[1;33m\u001b[0m\u001b[0m\n\u001b[1;32m----> 7\u001b[1;33m         \u001b[1;32mif\u001b[0m \u001b[0mn\u001b[0m\u001b[1;33m==\u001b[0m\u001b[1;33m(\u001b[0m\u001b[0ma\u001b[0m\u001b[1;33m-\u001b[0m\u001b[1;36m1\u001b[0m\u001b[1;33m)\u001b[0m \u001b[1;32mor\u001b[0m \u001b[0mn\u001b[0m\u001b[1;33m==\u001b[0m\u001b[0ma\u001b[0m\u001b[1;33m:\u001b[0m\u001b[1;33m\u001b[0m\u001b[0m\n\u001b[0m\u001b[0;32m      8\u001b[0m             \u001b[0mMa\u001b[0m\u001b[1;33m.\u001b[0m\u001b[0mappend\u001b[0m\u001b[1;33m(\u001b[0m\u001b[1;33m[\u001b[0m\u001b[0ml\u001b[0m\u001b[1;33m[\u001b[0m\u001b[0mb\u001b[0m\u001b[1;33m-\u001b[0m\u001b[1;36m2\u001b[0m\u001b[1;33m]\u001b[0m\u001b[1;33m,\u001b[0m\u001b[0ml\u001b[0m\u001b[1;33m[\u001b[0m\u001b[0mb\u001b[0m\u001b[1;33m-\u001b[0m\u001b[1;36m1\u001b[0m\u001b[1;33m]\u001b[0m\u001b[1;33m,\u001b[0m\u001b[0ml\u001b[0m\u001b[1;33m[\u001b[0m\u001b[0mb\u001b[0m\u001b[1;33m]\u001b[0m\u001b[1;33m]\u001b[0m\u001b[1;33m)\u001b[0m\u001b[1;33m\u001b[0m\u001b[0m\n\u001b[0;32m      9\u001b[0m             \u001b[0mn\u001b[0m\u001b[1;33m=\u001b[0m\u001b[0mn\u001b[0m\u001b[1;33m+\u001b[0m\u001b[1;36m1\u001b[0m\u001b[1;33m\u001b[0m\u001b[0m\n",
      "\u001b[1;31mNameError\u001b[0m: name 'a' is not defined"
     ]
    }
   ],
   "source": [
    "def selection_voisinage(reseau):\n",
    "    \"Sélection aléatoire du voisinage d'un individu\"\n",
    "    Ma=[]\n",
    "    n=1\n",
    "\n",
    "    for l in reseau:\n",
    "        if n==(a-1) or n==a:\n",
    "            Ma.append([l[b-2],l[b-1],l[b]])\n",
    "            n=n+1\n",
    "        elif n==a+1:\n",
    "            Ma.append([l[b-2],l[b-1],l[b]])\n",
    "            return Ma\n",
    "        else:\n",
    "            n=n+1\n",
    "            \n",
    "    return Ma\n",
    "\n",
    "print(selection_voisinage(init_systeme(N)))"
   ]
  },
  {
   "cell_type": "code",
   "execution_count": null,
   "metadata": {
    "collapsed": true
   },
   "outputs": [],
   "source": []
  }
 ],
 "metadata": {
  "kernelspec": {
   "display_name": "Python 3",
   "language": "python",
   "name": "python3"
  },
  "language_info": {
   "codemirror_mode": {
    "name": "ipython",
    "version": 3
   },
   "file_extension": ".py",
   "mimetype": "text/x-python",
   "name": "python",
   "nbconvert_exporter": "python",
   "pygments_lexer": "ipython3",
   "version": "3.6.3"
  }
 },
 "nbformat": 4,
 "nbformat_minor": 2
}
