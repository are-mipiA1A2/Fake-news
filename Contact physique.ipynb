{
 "cells": [
  {
   "cell_type": "markdown",
   "metadata": {},
   "source": [
    "# Modèles du Fake news"
   ]
  },
  {
   "cell_type": "markdown",
   "metadata": {},
   "source": [
    "Sujet d'ARE DYNAMIC 2018 (Jenny Ogolo, Aya SADOUKI, Ruxue ZENG)"
   ]
  },
  {
   "cell_type": "markdown",
   "metadata": {},
   "source": [
    "## Introduction"
   ]
  },
  {
   "cell_type": "markdown",
   "metadata": {},
   "source": [
    "Considérons un ensemble donné d'**individus** que l'on appelera **population**. Chacun de ces individus possède une **opinion binaire** face à un fake news. Naturellement, nous pouvons nous attendre à ce que l'opinion d'un individu donné évolue en fonction des **rencontres** faites avec d'autres individus, par contact physique (que l'on appelle les **voisins** , ou à distance (qu'ils sont appartiennent dans un même **réseau**).\n",
    "\n",
    "Dans ce contexte, une question émerge principalement :\n",
    "\n",
    "* Comment évolueront les opinions des individus au cours du temps ?"
   ]
  },
  {
   "cell_type": "markdown",
   "metadata": {},
   "source": [
    "Dans la première partie de cette modèle, nous allons étudier ce modèle en particulier : le **modèle du fake news par contact physique**. Ce modèle effectue les deux hypothèses suivantes :\n",
    "\n",
    "* L'opinion d'un individu $ i $ est une valeur entier réel ( $ 0 $ ou $ 1 $ ), que nous noterons $ op_i $.\n",
    "\n",
    "* chaque individu possède une conviction que nous notrerons $ p_i $ (une valeur réel comprise entre $ 0 $ et $ 1 $ inclus)\n",
    "\n",
    "* Le premier mise à jour consiste à faire évoluer la conviction d'un individu $ i $, lorsqu'il rencontre un individu $ j $ (ou un groupe d'individus en fonction des trois paramètres:\n",
    "\n",
    "    * l'influence de la force de persuasion $ fp_i $, caractéristique d\"un individu, une valeur compris entre $ 0 $ et $ 1 $ inclus, $ p_i $ évolue lorsque $  fp_i $ < $  fp_j $ en appliquant la formule: $ p_i \\leftarrow p_i + fp_i  \\cdot ( p_j - p_i ) $\n",
    "    * l'influence du voisinage en appliquant $ p_i \\leftarrow p_i + fp_j \\cdot ( p_j - p_i ) $  si la discussion a eu lieu qu'entre seulement **2 personnes**, sinon,chaque individu modifie sa conviction en fonction de la **moyenne pondérée  $MP$ des convictions des autres** ($ = \\frac{\\sum p_i*fp_i}{\\sum fp_i} $) et la seuil de persuasion \\sigma : si $ p_i < \\sigma $, alors $ p_i \\leftarrow MP $  .\n",
    "    * la **crédibilité de la news $ c_news $ **: une valeur réel aléatoire comprise entre $ 0 $ et $ 1 $, influence $ p_i $ de façon suivante: $ p_i \\leftarrow p_i + \\lambda \\cdot ( c - p_i ) $\n",
    "    \n",
    "* Le mise à jour de l'opinion consiste à faire évoluer l'opinion d'un individu en fonction de sa nouvelle conviction: if $ p_i  > 0.5 , $ $ op_i $ change. \n",
    "\n",
    "\n",
    "Où $ \\lambda $ est appelé le **paramètre de la .....................**. Ce paramètre permet de contrôler la vitesse de convergence des opinions. Sa valeur est comprise entre $ 0 $ et $ 0.5 $.\n",
    "\n",
    "\n"
   ]
  },
  {
   "cell_type": "markdown",
   "metadata": {},
   "source": [
    "## Initialisation"
   ]
  },
  {
   "cell_type": "markdown",
   "metadata": {},
   "source": [
    "Nous initialisons une matrice de $ N*N $ individus, et un dictionaire qui associe à chaque individu un tuple sous la forme $ dict $ {$ i:(op,dejavu,fp,p) $}"
   ]
  },
  {
   "cell_type": "code",
   "execution_count": 124,
   "metadata": {
    "scrolled": false
   },
   "outputs": [
    {
     "name": "stdout",
     "output_type": "stream",
     "text": [
      "Nb_Pop= 25\n",
      "Dict_pop= {'1': (0, False, 0.40649332273338523, 0.5), '2': (0, False, 0.9980815060597354, 0.5), '3': (0, False, 0.8898874526350087, 0.5), '4': (0, False, 0.2488229063952333, 0.5), '5': (0, False, 0.0558157020462543, 0.5), '6': (0, False, 0.12348771085034316, 0.5), '7': (0, False, 0.14911214784910154, 0.5), '8': (0, False, 0.8776521885765007, 0.5), '9': (0, False, 0.26690797177143544, 0.5), '10': (0, False, 0.24050542203570058, 0.5), '11': (0, False, 0.6685303897610533, 0.5), '12': (0, False, 0.3693725256567467, 0.5), '13': (0, False, 0.7097068008273014, 0.5), '14': (0, False, 0.5246873815465273, 0.5), '15': (0, False, 0.4323027301711091, 0.5), '16': (0, False, 0.6946157700186864, 0.5), '17': (0, False, 0.8475227378779543, 0.5), '18': (0, False, 0.3255981974034008, 0.5), '19': (0, False, 0.7984237410607022, 0.5), '20': (0, False, 0.5050625146765456, 0.5), '21': (0, False, 0.3163349963039279, 0.5), '22': (0, False, 0.4481741251361676, 0.5), '23': (0, False, 0.43060758307201386, 0.5), '24': (0, False, 0.8769697367596079, 0.5), '25': (0, False, 0.3236080423493811, 0.5)}\n"
     ]
    }
   ],
   "source": [
    "import numpy as np\n",
    "\n",
    "def init_systeme(N):\n",
    "    \"\"\"cet algorithme crée un groupe de population sous la forme d'une matrice de taille N, et un dictionnaire qui associe\n",
    "    à chaque individu un tuple sous la forme dict{i:(op,dej_vu,fp,p)} où \n",
    "       op:opinion binaire de l'individu\n",
    "       dej_vu: l'individu a déja vu ou pas le fake news\n",
    "       fp: le pouvoir de persuasion de l'individu\n",
    "       p:la conviction de l'individu \"\"\"\n",
    "    Population=np.arange(1,N*N+1).reshape(N,N)\n",
    "    Dict_pop={str(i):(0,False,fp,0.5) for i in np.arange(1,N*N+1) \n",
    "        for fp in np.random.uniform(low=0.0, high=1.0, size=(N*N))}\n",
    "        \n",
    "    return Dict_pop\n",
    "\n",
    "\n",
    "N_1dim=5\n",
    "N=25\n",
    "print(\"Nb_Pop=\",N_1dim**2)\n",
    "print(\"Dict_pop=\",init_systeme(N_1dim))"
   ]
  },
  {
   "cell_type": "code",
   "execution_count": 125,
   "metadata": {},
   "outputs": [
    {
     "name": "stdout",
     "output_type": "stream",
     "text": [
      "Pop_av_malv= {'1': (0, False, 0.3506250417115868, 0.5), '2': (0, False, 0.2563024107190197, 0.5), '3': (1, True, 0.9, 0.8), '4': (1, True, 0.9, 0.8), '5': (1, True, 0.9, 0.8), '6': (0, False, 0.29236680635497414, 0.5), '7': (0, False, 0.5015169089643362, 0.5), '8': (0, False, 0.8362948913473042, 0.5), '9': (0, False, 0.3849185226691034, 0.5), '10': (0, False, 0.25088938482365797, 0.5), '11': (0, False, 0.6378245723054321, 0.5), '12': (0, False, 0.9611324267280285, 0.5), '13': (1, True, 0.9, 0.8), '14': (0, False, 0.6831530967530507, 0.5), '15': (0, False, 0.9239821889861309, 0.5), '16': (1, True, 0.9, 0.8), '17': (0, False, 0.5566073486042309, 0.5), '18': (0, False, 0.33189067565621444, 0.5), '19': (0, False, 0.0407158518660794, 0.5), '20': (0, False, 0.6357040799274745, 0.5), '21': (0, False, 0.3868139421557498, 0.5), '22': (0, False, 0.782438261402482, 0.5), '23': (0, False, 0.20957092724871318, 0.5), '24': (1, True, 0.9, 0.8), '25': (0, False, 0.35245509313429135, 0.5)}\n"
     ]
    }
   ],
   "source": [
    "def init_sys_avec_malv(N_1dim):\n",
    "    \n",
    "    Pop=init_systeme(N_1dim)\n",
    "    L= np.random.randint(low=0, high=N_1dim**2, size=6,dtype=int)\n",
    "    for e in L:\n",
    "        Pop[str(e)]=(1,True,0.9,0.8)\n",
    "    \n",
    "    return Pop\n",
    "\n",
    "print(\"Pop_av_malv=\",init_sys_avec_malv(N_1dim))\n",
    "    "
   ]
  },
  {
   "cell_type": "markdown",
   "metadata": {},
   "source": [
    "## Contact physique"
   ]
  },
  {
   "cell_type": "markdown",
   "metadata": {},
   "source": [
    "### Influence de la force de persuasion"
   ]
  },
  {
   "cell_type": "code",
   "execution_count": 7,
   "metadata": {},
   "outputs": [],
   "source": [
    "import numpy as np\n",
    "Dict_pop=init_sys_avec_malv(N_1dim)\n",
    "\n",
    "\n",
    "def force_de_persuasion(x, y, Dict_pop):\n",
    "    \"\"\"Rule to use to update the opinions.\"\"\"\n",
    "    \n",
    "    #modification du paramètre fpx en fonction de la force de persuasion de y et vice versa.\n",
    "    \n",
    "    opx,dej_vux,fpx,px=Dict_pop[x]\n",
    "    opy,dej_vuy,fpy,py=Dict_pop[y]\n",
    "    if fpx>fpy:\n",
    "        py=py+fpy*(px-py)\n",
    "    elif fpy>fpx:\n",
    "        px=px+fpx*(py-px)\n",
    "                \n",
    "    Dict_pop[x]=(opx,dej_vux,fpx,px)\n",
    "    Dict_pop[y]=(opy,dej_vuy,fpy,py)\n",
    "    \n",
    "    return Dict_pop\n"
   ]
  },
  {
   "cell_type": "markdown",
   "metadata": {},
   "source": [
    "### Selection voisinage d'un individu"
   ]
  },
  {
   "cell_type": "code",
   "execution_count": 51,
   "metadata": {},
   "outputs": [
    {
     "name": "stdout",
     "output_type": "stream",
     "text": [
      "[[ 1  2  3  4  5]\n",
      " [ 6  7  8  9 10]\n",
      " [11 12 13 14 15]\n",
      " [16 17 18 19 20]\n",
      " [21 22 23 24 25]]\n",
      "[[17 18 19]\n",
      " [22 23 24]\n",
      " [ 0  0  0]]\n"
     ]
    }
   ],
   "source": [
    "def selection_voisinage(Matrice,i):\n",
    "    '''Sélection des voisinages d'un individu\n",
    "    '''\n",
    "    Ma=[]\n",
    "    n=1  #numéro de la ligne\n",
    "\n",
    "    if (i-1)//N_1dim==0:\n",
    "        Ma.append([0,0,0])\n",
    "        \n",
    "    for l in Matrice:\n",
    "        if (n==(i//N_1dim) or n==(i//N_1dim+1) or n==(i//N_1dim+2)) and (i%N_1dim!=0):\n",
    "                if (i%N_1dim!=1) and (i%N_1dim!=0):\n",
    "                    Ma.append([l[i%N_1dim-2],l[i%N_1dim-1],l[i%N_1dim]])\n",
    "                    n=n+1\n",
    "                elif (i%N_1dim==1):\n",
    "                    Ma.append([0,l[i%N_1dim-1],l[i%N_1dim]])\n",
    "                    n=n+1\n",
    "        elif (n==(i//N_1dim-1) or n==(i//N_1dim) or n==(i//N_1dim+1)) and (i%N_1dim==0):\n",
    "            Ma.append([l[i%N_1dim-2],l[i%N_1dim-1],0])\n",
    "            n=n+1\n",
    "            \n",
    "        else:\n",
    "            n=n+1\n",
    "            \n",
    "    if (i-1)//N_1dim==(N_1dim-1):\n",
    "        Ma.append([0,0,0])\n",
    "    \n",
    "    A=np.mat(Ma)\n",
    "    return A\n",
    "\n",
    "Population=np.arange(1,(N+1)).reshape(N_1dim,N_1dim)\n",
    "print(Population)\n",
    "print(selection_voisinage(Population,23))"
   ]
  },
  {
   "cell_type": "markdown",
   "metadata": {},
   "source": [
    "**Influence de la crédibilité de la news sur p**"
   ]
  },
  {
   "cell_type": "code",
   "execution_count": 52,
   "metadata": {},
   "outputs": [
    {
     "name": "stdout",
     "output_type": "stream",
     "text": [
      "Crédibilité de l'info: 0.4656940143781858\n",
      "0.74\n"
     ]
    }
   ],
   "source": [
    "#numpy.random.choice(liste(ou entier) , taille de l'array , replace=False pour pas avoir deux fois la meme valeur , proba)\n",
    "\n",
    "import numpy as np\n",
    "import random as rd\n",
    "\n",
    "\n",
    "news = np.random.random_sample()\n",
    "print('Crédibilité de l\\'info:',news)\n",
    "\n",
    "def influ_credib_news(news,p):\n",
    "    #news: crédibilité de la news\n",
    "    #p: param déterminant le chgt ou non de l'opinion    \n",
    "    i = p\n",
    "    i = i+news*(news-i)\n",
    "    return i\n",
    "\n",
    "print(influ_credib_news(0.8,0.5))"
   ]
  },
  {
   "cell_type": "markdown",
   "metadata": {},
   "source": [
    "**Influence du voisinage sur p**"
   ]
  },
  {
   "cell_type": "code",
   "execution_count": 56,
   "metadata": {},
   "outputs": [
    {
     "name": "stdout",
     "output_type": "stream",
     "text": [
      "{'1': (1, True, 0.03995411170492369, 0.2596384135505943), '2': (1, False, 0.152678614358422, 0.557663974236126), '3': (1, True, 0.22207014782330836, 0.5651965255507644), '4': (0, False, 0.24972255988256153, 0.7719044952362586), '5': (0, True, 0.3763460465232831, 0.19641322577414688), '6': (0, True, 0.3153745823684072, 0.37216516972096925), '7': (1, False, 0.04685018817486286, 0.37216516972096925), '8': (1, True, 0.5299063178673084, 0.3364700318144028), '9': (1, True, 0.28845391474512305, 0.5412956301392867), '10': (1, True, 0.2309785477759395, 0.8661270250924337), '11': (0, False, 0.3367004062170198, 0.6455373010364475), '12': (0, False, 0.3366913450492752, 0.07206270054029507), '13': (1, True, 0.3876014217314816, 0.5824219840316488), '14': (1, True, 0.3203632922665617, 0.9797045483657458), '15': (0, False, 0.2702890518545972, 0.6610124310882267), '16': (1, True, 0.9994767594230257, 0.6220599969742885), '17': (0, False, 0.2697588037051917, 0.41794152712682153), '18': (1, True, 0.8002273325163244, 0.0806058700649388), '19': (0, False, 0.6598733229948843, 0.11718342999701103), '20': (1, True, 0.3417537417183516, 0.7812537337494297), '21': (0, False, 0.2582360375743118, 0.6261766103217946), '22': (1, True, 0.7941481380003028, 0.2055155551865936), '23': (0, False, 0.39701862086163586, 0.9928723008613913), '24': (1, True, 0.40670938752690033, 0.4077765292361508), '25': (0, False, 0.3730157816812142, 0.271280608453227)}\n"
     ]
    }
   ],
   "source": [
    "#Influence du voisinage :\n",
    "    # si 2 personnes, force persu. Sinon, moyenne des p pondérée des fp, puis si (pi-moy)>seuil, pi ne change pas, sinon pi->moy\n",
    "def influ_voisinage(mat_discu,reseau,seuil):\n",
    "    \n",
    "    P=[]   #liste des convictions des membres de la discussion\n",
    "    F=[]   #liste des forces de persuasion des membres de la discussion\n",
    "    N=[]   #liste des noms des membres de la discussion\n",
    "    a_central=mat_discu[1,1] #agent central de la matrice discu\n",
    "    i=0\n",
    "    \n",
    "    for k in np.nditer(mat_discu):\n",
    "        if k!=0:\n",
    "            op_k,deja_k,fp_k,p_k=reseau[str(k)]\n",
    "            N.append(int(k))\n",
    "            P.append(p_k)\n",
    "            F.append(fp_k)\n",
    "            \n",
    "    if len(N)==2:\n",
    "        reseau=force_persu(N[0],N[1],reseau)\n",
    "    else:\n",
    "        for a in N:\n",
    "            op_a,deja_a,fp_a,p_a=reseau[str(a)]\n",
    "            other_p=P[0:a]+P[a+1:len(P)]\n",
    "            other_fp=F[0:a]+F[a+1:len(F)]            \n",
    "            moy=np.average(other_p,weights=other_fp)\n",
    "            if abs(p_a-moy)<seuil:\n",
    "                p_a=moy\n",
    "            reseau[str(a)]=(op_a,deja_a,fp_a,p_a)\n",
    "    \n",
    "            \n",
    "    return reseau\n",
    "\n",
    "#Réseau à valeurs quelconques (au milieu de la simulation par exemple)\n",
    "Test_reseau={str(k):(np.random.choice([0,1]),np.random.choice([False,True]),np.random.random_sample(),np.random.random_sample()) for k in range(1,N+1)}\n",
    "\n",
    "Mat_discu=selection_voisinage(Population,1)\n",
    "print(influ_voisinage(Mat_discu,Test_reseau,0.2))"
   ]
  },
  {
   "cell_type": "code",
   "execution_count": 132,
   "metadata": {},
   "outputs": [
    {
     "data": {
      "text/plain": [
       "{'1': (0, False, 0.018691707898032095, 0.5),\n",
       " '10': (0, False, 0.40748218851873697, 0.5),\n",
       " '11': (0, False, 0.7116244318626864, 0.5),\n",
       " '12': (0, False, 0.3540661415720493, 0.5),\n",
       " '13': (0, False, 0.1621265633900929, 0.5),\n",
       " '14': (0, False, 0.2818671900066272, 0.5),\n",
       " '15': (0, False, 0.5285184897628399, 0.5),\n",
       " '16': (0, False, 0.2803443947507408, 0.5),\n",
       " '17': (0, False, 0.10816901532427181, 0.5),\n",
       " '18': (0, False, 0.6996283353931461, 0.5),\n",
       " '19': (0, False, 0.31139755226977417, 0.5),\n",
       " '2': (0, False, 0.568049359865478, 0.5),\n",
       " '20': (1, True, 0.9, 0.8),\n",
       " '21': (0, False, 0.5195181928667572, 0.5),\n",
       " '22': (0, False, 0.4104808855276779, 0.5),\n",
       " '23': (0, False, 0.3164478295824976, 0.5),\n",
       " '24': (0, False, 0.07085219133256071, 0.5),\n",
       " '25': (0, False, 0.032286864580189145, 0.5),\n",
       " '3': (1, True, 0.9, 0.8),\n",
       " '4': (0, False, 0.5762941678787759, 0.5),\n",
       " '5': (1, True, 0.9, 0.8),\n",
       " '6': (0, False, 0.8813755852085234, 0.5),\n",
       " '7': (0, False, 0.5785592985689955, 0.5),\n",
       " '8': (0, False, 0.23945480643979766, 0.5),\n",
       " '9': (1, True, 0.9, 0.8)}"
      ]
     },
     "execution_count": 132,
     "metadata": {},
     "output_type": "execute_result"
    }
   ],
   "source": [
    "Pop_av_malv=init_sys_avec_malv(N_1dim)\n",
    "Pop_av_malv"
   ]
  },
  {
   "cell_type": "markdown",
   "metadata": {},
   "source": [
    "### Simulation"
   ]
  },
  {
   "cell_type": "code",
   "execution_count": 133,
   "metadata": {},
   "outputs": [
    {
     "data": {
      "text/plain": [
       "[array([[0.57020466, 0.5       , 0.57643156, 0.5       , 0.8       ],\n",
       "        [0.57292718, 0.5665044 , 0.5635022 , 0.8       , 0.5       ],\n",
       "        [0.56116973, 0.56116973, 0.56116973, 0.5       , 0.5       ],\n",
       "        [0.5       , 0.5       , 0.5       , 0.5       , 0.8       ],\n",
       "        [0.5       , 0.5       , 0.5       , 0.5       , 0.5       ]]),\n",
       " array([[0.57020466, 0.5       , 0.57643156, 0.5       , 0.8       ],\n",
       "        [0.57292718, 0.5665044 , 0.58359304, 0.62755362, 0.62755362],\n",
       "        [0.56116973, 0.56116973, 0.62755362, 0.62755362, 0.62755362],\n",
       "        [0.5       , 0.5       , 0.62755362, 0.62755362, 0.62755362],\n",
       "        [0.5       , 0.5       , 0.5       , 0.5       , 0.5       ]]),\n",
       " array([[0.57020466, 0.5       , 0.57643156, 0.5       , 0.8       ],\n",
       "        [0.57292718, 0.5665044 , 0.58359304, 0.62755362, 0.62755362],\n",
       "        [0.56116973, 0.56116973, 0.62755362, 0.62755362, 0.62755362],\n",
       "        [0.5       , 0.5       , 0.60458978, 0.60458978, 0.60458978],\n",
       "        [0.5       , 0.5       , 0.60458978, 0.60458978, 0.60458978]]),\n",
       " array([[0.57020466, 0.5       , 0.63724028, 0.63587482, 0.63470911],\n",
       "        [0.57292718, 0.5665044 , 0.63396591, 0.63396591, 0.63396591],\n",
       "        [0.56116973, 0.56116973, 0.62755362, 0.62755362, 0.62755362],\n",
       "        [0.5       , 0.5       , 0.60458978, 0.60458978, 0.60458978],\n",
       "        [0.5       , 0.5       , 0.60458978, 0.60458978, 0.60458978]]),\n",
       " array([[0.57020466, 0.5       , 0.63724028, 0.63587482, 0.63470911],\n",
       "        [0.57868092, 0.57521373, 0.56656158, 0.63396591, 0.63396591],\n",
       "        [0.57318756, 0.57318756, 0.57318756, 0.62755362, 0.62755362],\n",
       "        [0.57318756, 0.57318756, 0.57318756, 0.60458978, 0.60458978],\n",
       "        [0.5       , 0.5       , 0.60458978, 0.60458978, 0.60458978]]),\n",
       " array([[0.57020466, 0.59469379, 0.60348435, 0.60174517, 0.63470911],\n",
       "        [0.57868092, 0.60088235, 0.59807584, 0.59989778, 0.63396591],\n",
       "        [0.57318756, 0.59989778, 0.59989778, 0.59989778, 0.62755362],\n",
       "        [0.57318756, 0.57318756, 0.57318756, 0.60458978, 0.60458978],\n",
       "        [0.5       , 0.5       , 0.60458978, 0.60458978, 0.60458978]]),\n",
       " array([[0.57020466, 0.59469379, 0.60348435, 0.60174517, 0.63470911],\n",
       "        [0.57868092, 0.60088235, 0.59807584, 0.59989778, 0.63396591],\n",
       "        [0.57318756, 0.59989778, 0.59989778, 0.59989778, 0.62755362],\n",
       "        [0.5482893 , 0.5482893 , 0.5482893 , 0.60458978, 0.60458978],\n",
       "        [0.5482893 , 0.5482893 , 0.5482893 , 0.60458978, 0.60458978]]),\n",
       " array([[0.57020466, 0.60002494, 0.60018051, 0.60043883, 0.63470911],\n",
       "        [0.57868092, 0.60028844, 0.60028844, 0.60028844, 0.63396591],\n",
       "        [0.57318756, 0.59989778, 0.59989778, 0.59989778, 0.62755362],\n",
       "        [0.5482893 , 0.5482893 , 0.5482893 , 0.60458978, 0.60458978],\n",
       "        [0.5482893 , 0.5482893 , 0.5482893 , 0.60458978, 0.60458978]]),\n",
       " array([[0.57020466, 0.60014824, 0.60016992, 0.60017922, 0.63470911],\n",
       "        [0.57868092, 0.60019554, 0.60020388, 0.60018496, 0.63396591],\n",
       "        [0.57318756, 0.60018496, 0.60018496, 0.60018496, 0.62755362],\n",
       "        [0.5482893 , 0.5482893 , 0.5482893 , 0.60458978, 0.60458978],\n",
       "        [0.5482893 , 0.5482893 , 0.5482893 , 0.60458978, 0.60458978]]),\n",
       " array([[0.57020466, 0.60014824, 0.60016992, 0.60017922, 0.63470911],\n",
       "        [0.57868092, 0.60019554, 0.60020388, 0.60018496, 0.63396591],\n",
       "        [0.57318756, 0.60018496, 0.59035342, 0.59035342, 0.59035342],\n",
       "        [0.5482893 , 0.5482893 , 0.59035342, 0.59035342, 0.59035342],\n",
       "        [0.5482893 , 0.5482893 , 0.59035342, 0.59035342, 0.59035342]])]"
      ]
     },
     "execution_count": 133,
     "metadata": {},
     "output_type": "execute_result"
    }
   ],
   "source": [
    "def simulation(steps,N_1dim,seuil,reseau,verbose=False):\n",
    "    \"\"\"retourne la matrice Population et le dictionnaire d'après des étapes\"\"\"\n",
    "    \n",
    "    results=[]\n",
    "    Pop=np.arange(1,N_1dim**2+1)\n",
    "    Population=np.arange(1,N_1dim**2+1).reshape(N_1dim,N_1dim)\n",
    "    Dict_pop={str(i):(0,False,fp,0.5) for i in np.arange(1,N**2+1) for fp in np.random.uniform(low=0.0, high=1.0, size=(N**2))}\n",
    "    \n",
    "    for simu in range(steps):\n",
    "        i=np.random.choice(Pop)\n",
    "        Mat_discu=selection_voisinage(Population,i)\n",
    "        Res_p_changé=influ_voisinage(Mat_discu,reseau,seuil)\n",
    "        for c in Res_p_changé:\n",
    "            op,deja,fp,p=Res_p_changé[c]\n",
    "            if p>0.5 and op==0:\n",
    "                op=1\n",
    "                Res_p_changé[c]=(op,deja,fp,p)\n",
    "            elif p<0.5 and op==1:\n",
    "                op=0\n",
    "                Res_p_changé[c]=(op,deja,fp,p)\n",
    "        Op=[]\n",
    "        P=[]\n",
    "        for e in Res_p_changé:\n",
    "            op,deja,fp,p=Res_p_changé[e]\n",
    "            Op.append(op)\n",
    "            P.append(p)\n",
    "        Op_final=np.reshape(Op, (N_1dim,N_1dim))\n",
    "        P_final=np.reshape(P, (N_1dim,N_1dim))\n",
    "        results.append(P_final.copy())\n",
    "        \n",
    "    return results\n",
    "\n",
    "simulation(10,5,0.5,Pop_av_malv,verbose=True)\n",
    "        \n",
    "    "
   ]
  },
  {
   "cell_type": "code",
   "execution_count": 135,
   "metadata": {},
   "outputs": [
    {
     "data": {
      "image/png": "[encoded data removed]",
      "text/plain": [
       "<matplotlib.figure.Figure at 0x9db8826c88>"
      ]
     },
     "metadata": {},
     "output_type": "display_data"
    },
    {
     "data": {
      "image/png": "[encoded data removed]",
      "text/plain": [
       "<matplotlib.figure.Figure at 0x9db8834e80>"
      ]
     },
     "metadata": {},
     "output_type": "display_data"
    }
   ],
   "source": [
    "import matplotlib.pyplot as plt\n",
    "\n",
    "fig = plt.figure()\n",
    "\n",
    "results = simulation(1000,5,0.2,Pop_av_malv,verbose=True)\n",
    "\n",
    "# results[i] contient l'état au pas de temps i sous forme de matrice\n",
    "im = plt.imshow(results[0], animated=True)\n",
    "plt.show()\n",
    "\n",
    "im = plt.imshow(results[999], animated=True)\n",
    "plt.show()\n",
    "\n",
    "\n",
    "\n",
    "def updatefig(i):\n",
    "    im.set_array(results[i+1])\n",
    "    return im\n",
    "\n",
    "#ani = animation.FuncAnimation(fig, updatefig, frames=1000, interval=50, blit=True)\n",
    "#HTML(ani.to_html5_video())\n",
    "# Pour sauvegarder la vidéo dans un fichier externe\n",
    "# ani.save('test.mp4', fps=30, extra_args=['-vcodec', 'libx264'])"
   ]
  },
  {
   "cell_type": "code",
   "execution_count": 213,
   "metadata": {},
   "outputs": [],
   "source": [
    "import numpy as np\n",
    "def b_u_o(px, py, N_1dim):\n",
    "    L1= np.random.uniform(low=0.0, high=1.0, size=5)\n",
    "    for i in np.random.choice(L1, size=1):\n",
    "          for j in np.random.choice(L1, size=1):\n",
    "                if i>j:\n",
    "                    px=py+i*(px-py)\n",
    "                elif j>i:\n",
    "                    py=px+j*(py-px)\n",
    "    return px, py\n"
   ]
  },
  {
   "cell_type": "code",
   "execution_count": 214,
   "metadata": {},
   "outputs": [
    {
     "data": {
      "text/plain": [
       "[array([[0.35728436, 0.16064076, 1.61913412, 1.41398544, 3.98273933],\n",
       "        [1.06795212, 1.74737129, 2.13691373, 0.19674878, 4.67517388],\n",
       "        [0.63507902, 3.48005483, 4.7083843 , 4.67417327, 0.27862121],\n",
       "        [0.69730195, 3.59706659, 3.73790011, 1.8600497 , 1.790766  ],\n",
       "        [2.34678842, 2.72592348, 3.51656619, 3.11072389, 3.88651281]])]"
      ]
     },
     "execution_count": 214,
     "metadata": {},
     "output_type": "execute_result"
    }
   ],
   "source": [
    "import numpy as np\n",
    "import random\n",
    "\n",
    "def une_étape(steps, verbose = False):\n",
    "    N_1dim=5\n",
    "\n",
    "    state = np.random.uniform(low=0.0, high=N_1dim, size=(N_1dim,N_1dim))\n",
    "    results =[]\n",
    "  \n",
    "    for simu in range(steps):\n",
    "        px = random.randint(0,N_1dim - 1)\n",
    "        py = random.randint(0,N_1dim - 1)\n",
    "        \n",
    "        state[px],state[py] = b_u_o(state[px], state[py], N_1dim)\n",
    "        results.append(state.copy())\n",
    "        \n",
    "        return results\n",
    "\n",
    "une_étape(10, verbose = True)"
   ]
  },
  {
   "cell_type": "code",
   "execution_count": 215,
   "metadata": {},
   "outputs": [
    {
     "data": {
      "image/png": "[encoded data removed]",
      "text/plain": [
       "<matplotlib.figure.Figure at 0x7f1cb601b588>"
      ]
     },
     "metadata": {},
     "output_type": "display_data"
    },
    {
     "ename": "IndexError",
     "evalue": "list index out of range",
     "output_type": "error",
     "traceback": [
      "\u001b[0;31m---------------------------------------------------------------------------\u001b[0m",
      "\u001b[0;31mIndexError\u001b[0m                                Traceback (most recent call last)",
      "\u001b[0;32m<ipython-input-215-13919f214c71>\u001b[0m in \u001b[0;36m<module>\u001b[0;34m()\u001b[0m\n\u001b[1;32m      9\u001b[0m \u001b[0mplt\u001b[0m\u001b[0;34m.\u001b[0m\u001b[0mshow\u001b[0m\u001b[0;34m(\u001b[0m\u001b[0;34m)\u001b[0m\u001b[0;34m\u001b[0m\u001b[0m\n\u001b[1;32m     10\u001b[0m \u001b[0;34m\u001b[0m\u001b[0m\n\u001b[0;32m---> 11\u001b[0;31m \u001b[0mim\u001b[0m \u001b[0;34m=\u001b[0m \u001b[0mplt\u001b[0m\u001b[0;34m.\u001b[0m\u001b[0mimshow\u001b[0m\u001b[0;34m(\u001b[0m\u001b[0mresults\u001b[0m\u001b[0;34m[\u001b[0m\u001b[0;36m999\u001b[0m\u001b[0;34m]\u001b[0m\u001b[0;34m,\u001b[0m \u001b[0manimated\u001b[0m\u001b[0;34m=\u001b[0m\u001b[0;32mTrue\u001b[0m\u001b[0;34m)\u001b[0m\u001b[0;34m\u001b[0m\u001b[0m\n\u001b[0m\u001b[1;32m     12\u001b[0m \u001b[0mplt\u001b[0m\u001b[0;34m.\u001b[0m\u001b[0mshow\u001b[0m\u001b[0;34m(\u001b[0m\u001b[0;34m)\u001b[0m\u001b[0;34m\u001b[0m\u001b[0m\n\u001b[1;32m     13\u001b[0m \u001b[0;34m\u001b[0m\u001b[0m\n",
      "\u001b[0;31mIndexError\u001b[0m: list index out of range"
     ]
    }
   ],
   "source": [
    "import matplotlib.pyplot as plt\n",
    "\n",
    "fig = plt.figure()\n",
    "\n",
    "results = une_étape(1000,verbose=True)\n",
    "\n",
    "# results[i] contient l'état au pas de temps i sous forme de matrice\n",
    "im = plt.imshow(results[0], animated=True)\n",
    "plt.show()\n",
    "\n",
    "im = plt.imshow(results[999], animated=True)\n",
    "plt.show()\n",
    "\n",
    "\n",
    "\n",
    "def updatefig(i):\n",
    "    im.set_array(results[i+1])\n",
    "    return im\n"
   ]
  },
  {
   "cell_type": "code",
   "execution_count": null,
   "metadata": {},
   "outputs": [],
   "source": [
    "definir degré de malveillance: nb de prsn malveillantes"
   ]
  },
  {
   "cell_type": "code",
   "execution_count": null,
   "metadata": {},
   "outputs": [],
   "source": [
    "créer une fct qui montre ce qui se passe en une etape\n",
    "si p individu !=0.5 alors deja_vu=True\n",
    "prendre en compte influ voisinage\n",
    "afficher en sortie la grille des p"
   ]
  }
 ],
 "metadata": {
  "kernelspec": {
   "display_name": "Python 3",
   "language": "python",
   "name": "python3"
  },
  "language_info": {
   "codemirror_mode": {
    "name": "ipython",
    "version": 3
   },
   "file_extension": ".py",
   "mimetype": "text/x-python",
   "name": "python",
   "nbconvert_exporter": "python",
   "pygments_lexer": "ipython3",
   "version": "3.6.4"
  }
 },
 "nbformat": 4,
 "nbformat_minor": 2
}
