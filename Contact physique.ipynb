{
 "cells": [
  {
   "cell_type": "markdown",
   "metadata": {},
   "source": [
    "# Modèles du Fake news"
   ]
  },
  {
   "cell_type": "markdown",
   "metadata": {},
   "source": [
    "Sujet d'ARE DYNAMIC 2018 (Jenny Ogolo, Aya SADOUKI, Ruxue ZENG)"
   ]
  },
  {
   "cell_type": "markdown",
   "metadata": {},
   "source": [
    "## Introduction"
   ]
  },
  {
   "cell_type": "markdown",
   "metadata": {},
   "source": [
    "Considérons un ensemble donné d'**individus** que l'on appelera **population**. Chacun de ces individus possède une **opinion binaire** face à un fake news. Naturellement, nous pouvons nous attendre à ce que l'opinion d'un individu donné évolue en fonction des **rencontres** faites avec d'autres individus, par contact physique (que l'on appelle les **voisins** , ou à distance (qu'ils sont appartiennent dans un même **réseau**).\n",
    "\n",
    "Dans ce contexte, une question émerge principalement :\n",
    "\n",
    "* Comment évolueront les opinions des individus au cours du temps ?"
   ]
  },
  {
   "cell_type": "markdown",
   "metadata": {},
   "source": [
    "Dans la première partie de cette mpdèle, nous allons étudier ce modèle en particulier : le **modèle du fake news par contact physique**. Ce modèle effectue les deux hypothèses suivantes :\n",
    "\n",
    "* L'opinion d'un individu $ i $ est une valeur entier réel ( $ 0 $ ou $ 1 $ ), que nous noterons $ op_i $.\n",
    "\n",
    "* chaque individu possède une conviction que nous notrerons $ p_i $ (une valeur réel comprise entre $ 0 $ et $ 1 $ inclus)\n",
    "\n",
    "* Le premier mise à jour consiste à faire évoluer la conviction d'un individu $ i $, lorsqu'il rencontre un individu $ j $ (ou un groupe d'individus en fonction des trois paramètres:\n",
    "\n",
    "    * l'influence de la force de persuasion $ fp_i $, caractéristique d\"un individu, une valeur compris entre $ 0 $ et $ 1 $ inclus, $ p_i $ évolue lorsque $  fp_i $ < $  fp_j $ en appliquant la formule: $ p_i \\leftarrow p_i + fp_i  \\cdot ( p_j - p_i ) $\n",
    "    * l'influence du voisinage en appliquant $ p_i \\leftarrow p_i + \\mu \\cdot ( p_j - p_i ) $  si la discussion a eu lieu qu'entre seulement **2 personnes**, **sinon**,l'agent $ i $ adopte la conviction de la majorité.\n",
    "    * la crédibilité du news $ c_news $ : une valeur réel aléatoire comprise entre $ 0 $ et $ 1 $, influence $ p_i $ de façon suivante: $ p_i \\leftarrow p_i + \\lambda \\cdot ( c - p_i ) $\n",
    "    \n",
    "* Le mise à jour de l'opinion consiste à faire évoluer l'opinion d'un individu en fonction de sa nouvelle conviction: if $ p_i  > 0.5 , $ $ op_i $ change. \n",
    "\n",
    "Où $ \\mu $ est appelé le **paramètre de la force de persuasion**. Ce paramètre permet de contrôler la vitesse de convergence des opinions. Sa valeur est comprise entre $ 0 $ et $ 0.5 $.\n",
    "\n",
    "Où $ \\lambda $ est appelé le **paramètre de la .....................**. Ce paramètre permet de contrôler la vitesse de convergence des opinions. Sa valeur est comprise entre $ 0 $ et $ 0.5 $.\n",
    "\n",
    "\n"
   ]
  },
  {
   "cell_type": "markdown",
   "metadata": {},
   "source": [
    "## Initialisation"
   ]
  },
  {
   "cell_type": "markdown",
   "metadata": {},
   "source": [
    "Nous initialisons une matrice de $ N*N $ individus, et un dictionaire qui associe à chaque individu un tuple sous la forme $ dict $ {$ i:(op,dejavu,fp,p) $}"
   ]
  },
  {
   "cell_type": "code",
   "execution_count": 44,
   "metadata": {},
   "outputs": [
    {
     "name": "stdout",
     "output_type": "stream",
     "text": [
      "Nb_Pop= 25\n",
      "Dict_pop= {'15': (0, False, 0.3959284740558925, 0.5), '19': (0, False, 0.7991600591755668, 0.5), '18': (0, False, 0.06662639270895288, 0.5), '13': (0, False, 0.4862908560972029, 0.5), '3': (0, False, 0.294896158197832, 0.5), '20': (0, False, 0.9630988382407265, 0.5), '10': (0, False, 0.42638419523308746, 0.5), '25': (0, False, 0.9967593005115281, 0.5), '11': (0, False, 0.058940446039987826, 0.5), '17': (0, False, 0.13825666232104572, 0.5), '22': (0, False, 0.9158127767524995, 0.5), '24': (0, False, 0.43556273159924097, 0.5), '4': (0, False, 0.9729946010768747, 0.5), '21': (0, False, 0.7427652096309061, 0.5), '2': (0, False, 0.9035735797055665, 0.5), '8': (0, False, 0.5154687324629756, 0.5), '9': (0, False, 0.15766347604953102, 0.5), '1': (0, False, 0.20918104376209878, 0.5), '7': (0, False, 0.7208961741030142, 0.5), '14': (0, False, 0.5405317178431224, 0.5), '5': (0, False, 0.04569957239493139, 0.5), '16': (0, False, 0.17089374892871378, 0.5), '12': (0, False, 0.4040068122870175, 0.5), '23': (0, False, 0.18950366391028273, 0.5), '6': (0, False, 0.09480005355034238, 0.5)}\n"
     ]
    }
   ],
   "source": [
    "import numpy as np\n",
    "\n",
    "def init_systeme(N):\n",
    "    \"\"\"cet algorithme crée un groupe de population sous la forme d'une matrice de taille N, et un dictionnaire qui associe\n",
    "    à chaque individu un tuple sous la forme dict{i:(op,dej_vu,fp,p)} où \n",
    "       op:opinion binaire de l'individu\n",
    "       dej_vu: l'individu a déja vu ou pas le fake news\n",
    "       fp: le pouvoir de persuasion de l'individu\n",
    "       p:la conviction de l'individu \"\"\"\n",
    "    Population=np.arange(1,N*N+1).reshape(N,N)\n",
    "    Dict_pop={str(i):(0,False,fp,0.5) for i in np.arange(1,N*N+1) \n",
    "        for fp in np.random.uniform(low=0.0, high=1.0, size=(N*N))}\n",
    "        \n",
    "    return Dict_pop\n",
    "\n",
    "\n",
    "N=5\n",
    "print(\"Nb_Pop=\",N*N)\n",
    "print(\"Dict_pop=\",init_systeme(N))"
   ]
  },
  {
   "cell_type": "code",
   "execution_count": 45,
   "metadata": {},
   "outputs": [
    {
     "name": "stdout",
     "output_type": "stream",
     "text": [
      "Pop_av_malv= {'0': (1, True, 0.9, 0.8), '15': (0, False, 0.6754321717464348, 0.5), '19': (0, False, 0.08875141971871636, 0.5), '18': (0, False, 0.8821336838915971, 0.5), '13': (1, True, 0.9, 0.8), '3': (0, False, 0.7121427562417336, 0.5), '20': (0, False, 0.38822457237333285, 0.5), '10': (0, False, 0.3142434055878508, 0.5), '25': (0, False, 0.12421962658223995, 0.5), '11': (0, False, 0.4466383554641493, 0.5), '17': (0, False, 0.1738171449809195, 0.5), '22': (1, True, 0.9, 0.8), '24': (1, True, 0.9, 0.8), '4': (0, False, 0.357861936890312, 0.5), '21': (0, False, 0.27489168101421224, 0.5), '2': (0, False, 0.47010852978004636, 0.5), '8': (0, False, 0.5315820075294541, 0.5), '9': (0, False, 0.7237980349442641, 0.5), '1': (1, True, 0.9, 0.8), '7': (0, False, 0.2744168268797814, 0.5), '14': (0, False, 0.11208770420440584, 0.5), '5': (0, False, 0.7223621925249547, 0.5), '16': (0, False, 0.7332244463419784, 0.5), '12': (0, False, 0.031814196092795566, 0.5), '23': (0, False, 0.4509824528291475, 0.5), '6': (0, False, 0.7098130014046032, 0.5)}\n"
     ]
    }
   ],
   "source": [
    "def init_sys_avec_malv(N):\n",
    "    \n",
    "    Pop=init_systeme(N)\n",
    "    L= np.random.randint(low=0, high=N*N, size=6,dtype=int)\n",
    "    for e in L:\n",
    "        Pop[str(e)]=(1,True,0.9,0.8)\n",
    "    \n",
    "    return Pop\n",
    "\n",
    "print(\"Pop_av_malv=\",init_sys_avec_malv(N))\n",
    "    "
   ]
  },
  {
   "cell_type": "markdown",
   "metadata": {},
   "source": [
    "## Contact physique"
   ]
  },
  {
   "cell_type": "markdown",
   "metadata": {},
   "source": [
    "### Influence de la force de persuasion"
   ]
  },
  {
   "cell_type": "code",
   "execution_count": 46,
   "metadata": {},
   "outputs": [],
   "source": [
    "import numpy as np\n",
    "Dict_pop=init_sys_avec_malv(N)\n",
    "\n",
    "\n",
    "def force_de_persuasion(x, y, Dict_pop):\n",
    "    \"\"\"Rule to use to update the opinions.\"\"\"\n",
    "    \n",
    "    #modification du paramètre fpx en fonction de la force de persuasion de y et vice versa.\n",
    "    \n",
    "    opx,dej_vux,fpx,px=Dict_pop[x]\n",
    "    opy,dej_vuy,fpy,py=Dict_pop[y]\n",
    "    if fpx>fpy:\n",
    "        py=py+fpy*(px-py)\n",
    "    elif fpy>fpx:\n",
    "        px=px+fpx*(py-px)\n",
    "                \n",
    "    Dict_pop[x]=(opx,dej_vux,fpx,px)\n",
    "    Dict_pop[y]=(opy,dej_vuy,fpy,py)\n",
    "    \n",
    "    return Dict_pop\n"
   ]
  },
  {
   "cell_type": "code",
   "execution_count": 116,
   "metadata": {},
   "outputs": [
    {
     "name": "stdout",
     "output_type": "stream",
     "text": [
      "[[ 1  2  3  4  5]\n",
      " [ 6  7  8  9 10]\n",
      " [11 12 13 14 15]\n",
      " [16 17 18 19 20]\n",
      " [21 22 23 24 25]]\n",
      "[[0 0 0]\n",
      " [0 1 2]\n",
      " [0 6 7]]\n"
     ]
    }
   ],
   "source": [
    "def selection_voisinage(Matrice,i):\n",
    "    '''Sélection aléatoire des voisinages d'un individu\n",
    "    '''\n",
    "    Ma=[]\n",
    "    n=1  #numéro de la ligne\n",
    "\n",
    "    if i//N==0:\n",
    "        Ma.append([0,0,0])\n",
    "        \n",
    "    for l in Matrice:\n",
    "        if (n==(i//N) or n==(i//N+1) or n==(i//N+2)) and (i%N!=0):\n",
    "                if (i%N!=1) and (i%N!=0):\n",
    "                    Ma.append([l[i%N-2],l[i%N-1],l[i%N]])\n",
    "                    n=n+1\n",
    "                elif (i%N==1):\n",
    "                    Ma.append([0,l[i%N-1],l[i%N]])\n",
    "                    n=n+1\n",
    "        elif (n==(i//N-1) or n==(i//N) or n==(i//N+1)) and (i%N==0):\n",
    "            Ma.append([l[i%N-2],l[i%N-1],0])\n",
    "            n=n+1\n",
    "            \n",
    "        else:\n",
    "            n=n+1\n",
    "            \n",
    "    if i//N==(N-1):\n",
    "        Ma.append([0,0,0])\n",
    "    \n",
    "    A=np.mat(Ma)\n",
    "    return A\n",
    "\n",
    "Population=np.arange(1,N*N+1).reshape(N,N)\n",
    "print(Population)\n",
    "print(selection_voisinage(Population,1))"
   ]
  },
  {
   "cell_type": "code",
   "execution_count": null,
   "metadata": {},
   "outputs": [],
   "source": []
  },
  {
   "cell_type": "code",
   "execution_count": 113,
   "metadata": {},
   "outputs": [
    {
     "data": {
      "text/plain": [
       "4"
      ]
     },
     "execution_count": 113,
     "metadata": {},
     "output_type": "execute_result"
    }
   ],
   "source": []
  },
  {
   "cell_type": "code",
   "execution_count": null,
   "metadata": {},
   "outputs": [],
   "source": []
  }
 ],
 "metadata": {
  "kernelspec": {
   "display_name": "Python 3",
   "language": "python",
   "name": "python3"
  },
  "language_info": {
   "codemirror_mode": {
    "name": "ipython",
    "version": 3
   },
   "file_extension": ".py",
   "mimetype": "text/x-python",
   "name": "python",
   "nbconvert_exporter": "python",
   "pygments_lexer": "ipython3",
   "version": "3.4.2"
  }
 },
 "nbformat": 4,
 "nbformat_minor": 2
}
