{
 "cells": [
  {
   "cell_type": "markdown",
   "metadata": {},
   "source": [
    "# Modèles du Fake news"
   ]
  },
  {
   "cell_type": "markdown",
   "metadata": {},
   "source": [
    "Sujet d'ARE DYNAMIC 2018 (Jenny Ogolo, Aya SADOUKI, Ruxue ZENG)"
   ]
  },
  {
   "cell_type": "markdown",
   "metadata": {},
   "source": [
    "## Introduction"
   ]
  },
  {
   "cell_type": "markdown",
   "metadata": {},
   "source": [
    "Considérons un ensemble donné d'**individus** que l'on appelera **population**. Chacun de ces individus possède une **opinion binaire** face à un fake news. Naturellement, nous pouvons nous attendre à ce que l'opinion d'un individu donné évolue en fonction des **rencontres** faites avec d'autres individus, par contact physique (que l'on appelle les **voisins** , ou à distance (qu'ils sont appartiennent dans un même **réseau**).\n",
    "\n",
    "Dans ce contexte, une question émerge principalement :\n",
    "\n",
    "* Comment évolueront les opinions des individus au cours du temps ?"
   ]
  },
  {
   "cell_type": "markdown",
   "metadata": {},
   "source": [
    "Dans la première partie de cette modèle, nous allons étudier ce modèle en particulier : le **modèle du fake news par contact physique**. Ce modèle effectue les deux hypothèses suivantes :\n",
    "\n",
    "* L'opinion d'un individu $ i $ est une valeur entier réel ( $ 0 $ ou $ 1 $ ), que nous noterons $ op_i $.\n",
    "\n",
    "* chaque individu possède une conviction que nous notrerons $ p_i $ (une valeur réel comprise entre $ 0 $ et $ 1 $ inclus)\n",
    "\n",
    "* Le premier mise à jour consiste à faire évoluer la conviction d'un individu $ i $, lorsqu'il rencontre un individu $ j $ (ou un groupe d'individus en fonction des trois paramètres:\n",
    "\n",
    "    * l'influence de la force de persuasion $ fp_i $, caractéristique d\"un individu, une valeur compris entre $ 0 $ et $ 1 $ inclus, $ p_i $ évolue lorsque $  fp_i $ < $  fp_j $ en appliquant la formule: $ p_i \\leftarrow p_i + fp_i  \\cdot ( p_j - p_i ) $\n",
    "    * l'influence du voisinage en appliquant $ p_i \\leftarrow p_i + fp_j \\cdot ( p_j - p_i ) $  si la discussion a eu lieu qu'entre seulement **2 personnes**, sinon,chaque individu modifie sa conviction en fonction de la **moyenne pondérée  $MP$ des convictions des autres** ($ = \\frac{\\sum p_i*fp_i}{\\sum fp_i} $) et la seuil de persuasion \\sigma : si $ p_i < \\sigma $, alors $ p_i \\leftarrow MP $  .\n",
    "    * la **crédibilité de la news $ c_news $ **: une valeur réel aléatoire comprise entre $ 0 $ et $ 1 $, influence $ p_i $ de façon suivante: $ p_i \\leftarrow p_i + \\lambda \\cdot ( c - p_i ) $\n",
    "    \n",
    "* Le mise à jour de l'opinion consiste à faire évoluer l'opinion d'un individu en fonction de sa nouvelle conviction: if $ p_i  > 0.5 , $ $ op_i $ change. \n",
    "\n",
    "\n",
    "Où $ \\lambda $ est appelé le **paramètre de la .....................**. Ce paramètre permet de contrôler la vitesse de convergence des opinions. Sa valeur est comprise entre $ 0 $ et $ 0.5 $.\n",
    "\n",
    "\n"
   ]
  },
  {
   "cell_type": "markdown",
   "metadata": {},
   "source": [
    "## Initialisation"
   ]
  },
  {
   "cell_type": "markdown",
   "metadata": {},
   "source": [
    "Nous initialisons une matrice de $ N*N $ individus, et un dictionaire qui associe à chaque individu un tuple sous la forme $ dict $ {$ i:(op,dejavu,fp,p) $}"
   ]
  },
  {
   "cell_type": "code",
   "execution_count": 117,
   "metadata": {
    "scrolled": false
   },
   "outputs": [
    {
     "name": "stdout",
     "output_type": "stream",
     "text": [
      "Nb_Pop= 25\n",
      "Dict_pop= {'15': (0, False, 0.7245583701135687, 0.5), '19': (0, False, 0.18870345672666444, 0.5), '18': (0, False, 0.91919114788124, 0.5), '13': (0, False, 0.9639216674873371, 0.5), '3': (0, False, 0.2601186815643559, 0.5), '20': (0, False, 0.9233013894305544, 0.5), '10': (0, False, 0.016849351804202883, 0.5), '25': (0, False, 0.8866888663131842, 0.5), '11': (0, False, 0.7705370945466019, 0.5), '17': (0, False, 0.9149925846968083, 0.5), '22': (0, False, 0.17114557312296508, 0.5), '24': (0, False, 0.6533037489425771, 0.5), '4': (0, False, 0.8956569666190027, 0.5), '21': (0, False, 0.8866756329074872, 0.5), '2': (0, False, 0.9646657590725257, 0.5), '8': (0, False, 0.327297749722091, 0.5), '9': (0, False, 0.456904833813925, 0.5), '1': (0, False, 0.12872441060222528, 0.5), '7': (0, False, 0.8128455139970999, 0.5), '14': (0, False, 0.5762042054103268, 0.5), '5': (0, False, 0.19645712262535675, 0.5), '16': (0, False, 0.9179002640793578, 0.5), '12': (0, False, 0.6126889683999897, 0.5), '23': (0, False, 0.8463367197938504, 0.5), '6': (0, False, 0.5652874921200313, 0.5)}\n"
     ]
    }
   ],
   "source": [
    "import numpy as np\n",
    "\n",
    "def init_systeme(N):\n",
    "    \"\"\"cet algorithme crée un groupe de population sous la forme d'une matrice de taille N, et un dictionnaire qui associe\n",
    "    à chaque individu un tuple sous la forme dict{i:(op,dej_vu,fp,p)} où \n",
    "       op:opinion binaire de l'individu\n",
    "       dej_vu: l'individu a déja vu ou pas le fake news\n",
    "       fp: le pouvoir de persuasion de l'individu\n",
    "       p:la conviction de l'individu \"\"\"\n",
    "    Population=np.arange(1,N*N+1).reshape(N,N)\n",
    "    Dict_pop={str(i):(0,False,fp,0.5) for i in np.arange(1,N*N+1) \n",
    "        for fp in np.random.uniform(low=0.0, high=1.0, size=(N*N))}\n",
    "        \n",
    "    return Dict_pop\n",
    "\n",
    "\n",
    "N_1dim=5\n",
    "print(\"Nb_Pop=\",N_1dim**2)\n",
    "print(\"Dict_pop=\",init_systeme(N_1dim))"
   ]
  },
  {
   "cell_type": "code",
   "execution_count": 118,
   "metadata": {},
   "outputs": [
    {
     "name": "stdout",
     "output_type": "stream",
     "text": [
      "Pop_av_malv= {'15': (0, False, 0.7463885198618456, 0.5), '19': (0, False, 0.7887443417634226, 0.5), '18': (0, False, 0.4120238066973998, 0.5), '13': (0, False, 0.39659318461687565, 0.5), '3': (0, False, 0.4454571386917259, 0.5), '20': (0, False, 0.44967489029220253, 0.5), '10': (0, False, 0.3739572463829862, 0.5), '25': (0, False, 0.23228198629482388, 0.5), '11': (0, False, 0.3382014247466839, 0.5), '17': (1, True, 0.9, 0.8), '22': (1, True, 0.9, 0.8), '24': (0, False, 0.16552928041050508, 0.5), '4': (0, False, 0.05313819374465756, 0.5), '21': (0, False, 0.4102047075290093, 0.5), '2': (0, False, 0.09729740236712103, 0.5), '8': (1, True, 0.9, 0.8), '9': (0, False, 0.0584584289342448, 0.5), '1': (0, False, 0.6236985717325098, 0.5), '7': (0, False, 0.3586452389907271, 0.5), '14': (0, False, 0.2890429733383181, 0.5), '5': (0, False, 0.3900736035639075, 0.5), '16': (1, True, 0.9, 0.8), '12': (1, True, 0.9, 0.8), '23': (0, False, 0.6963021132661471, 0.5), '6': (1, True, 0.9, 0.8)}\n"
     ]
    }
   ],
   "source": [
    "def init_sys_avec_malv(N_1dim):\n",
    "    \n",
    "    Pop=init_systeme(N_1dim)\n",
    "    L= np.random.randint(low=0, high=N_1dim**2, size=6,dtype=int)\n",
    "    for e in L:\n",
    "        Pop[str(e)]=(1,True,0.9,0.8)\n",
    "    \n",
    "    return Pop\n",
    "\n",
    "print(\"Pop_av_malv=\",init_sys_avec_malv(N_1dim))\n",
    "    "
   ]
  },
  {
   "cell_type": "markdown",
   "metadata": {},
   "source": [
    "## Contact physique"
   ]
  },
  {
   "cell_type": "markdown",
   "metadata": {},
   "source": [
    "### Influence de la force de persuasion"
   ]
  },
  {
   "cell_type": "code",
   "execution_count": 124,
   "metadata": {},
   "outputs": [],
   "source": [
    "import numpy as np\n",
    "Dict_pop=init_sys_avec_malv(N_1dim)\n",
    "\n",
    "\n",
    "def force_de_persuasion(x, y, Dict_pop):\n",
    "    \"\"\"Rule to use to update the opinions.\"\"\"\n",
    "    \n",
    "    #modification du paramètre fpx en fonction de la force de persuasion de y et vice versa.\n",
    "    \n",
    "    opx,dej_vux,fpx,px=Dict_pop[x]\n",
    "    opy,dej_vuy,fpy,py=Dict_pop[y]\n",
    "    if fpx>fpy:\n",
    "        py=py+fpy*(px-py)\n",
    "    elif fpy>fpx:\n",
    "        px=px+fpx*(py-px)\n",
    "                \n",
    "    Dict_pop[x]=(opx,dej_vux,fpx,px)\n",
    "    Dict_pop[y]=(opy,dej_vuy,fpy,py)\n",
    "    \n",
    "    return Dict_pop\n"
   ]
  },
  {
   "cell_type": "markdown",
   "metadata": {},
   "source": [
    "### Selection voisinage d'un individu"
   ]
  },
  {
   "cell_type": "code",
   "execution_count": 125,
   "metadata": {},
   "outputs": [
    {
     "name": "stdout",
     "output_type": "stream",
     "text": [
      "[[ 1  2  3  4  5]\n",
      " [ 6  7  8  9 10]\n",
      " [11 12 13 14 15]\n",
      " [16 17 18 19 20]\n",
      " [21 22 23 24 25]]\n",
      "[[0 0 0]\n",
      " [0 1 2]\n",
      " [0 6 7]]\n"
     ]
    }
   ],
   "source": [
    "def selection_voisinage(Matrice,i):\n",
    "    '''Sélection des voisinages d'un individu\n",
    "    '''\n",
    "    Ma=[]\n",
    "    n=1  #numéro de la ligne\n",
    "\n",
    "    if i//N_1dim==0:\n",
    "        Ma.append([0,0,0])\n",
    "        \n",
    "    for l in Matrice:\n",
    "        if (n==(i//N) or n==(i//N_1dim+1) or n==(i//N_1dim+2)) and (i%N_1dim!=0):\n",
    "                if (i%N_1dim!=1) and (i%N_1dim!=0):\n",
    "                    Ma.append([l[i%N_1dim-2],l[i%N_1dim-1],l[i%N_1dim]])\n",
    "                    n=n+1\n",
    "                elif (i%N_1dim==1):\n",
    "                    Ma.append([0,l[i%N_1dim-1],l[i%N_1dim]])\n",
    "                    n=n+1\n",
    "        elif (n==(i//N_1dim-1) or n==(i//N_1dim) or n==(i//N_1dim+1)) and (i%N_1dim==0):\n",
    "            Ma.append([l[i%N_1dim-2],l[i%N_1dim-1],0])\n",
    "            n=n+1\n",
    "            \n",
    "        else:\n",
    "            n=n+1\n",
    "            \n",
    "    if i//N_1dim==(N_1dim-1):\n",
    "        Ma.append([0,0,0])\n",
    "    \n",
    "    A=np.mat(Ma)\n",
    "    return A\n",
    "\n",
    "Population=np.arange(1,N*N+1).reshape(N_1dim,N_1dim)\n",
    "print(Population)\n",
    "print(selection_voisinage(Population,1))"
   ]
  },
  {
   "cell_type": "code",
   "execution_count": 213,
   "metadata": {},
   "outputs": [],
   "source": [
    "import numpy as np\n",
    "def b_u_o(px, py, N_1dim):\n",
    "    L1= np.random.uniform(low=0.0, high=1.0, size=5)\n",
    "    for i in np.random.choice(L1, size=1):\n",
    "          for j in np.random.choice(L1, size=1):\n",
    "                if i>j:\n",
    "                    px=py+i*(px-py)\n",
    "                elif j>i:\n",
    "                    py=px+j*(py-px)\n",
    "    return px, py\n"
   ]
  },
  {
   "cell_type": "code",
   "execution_count": 214,
   "metadata": {},
   "outputs": [
    {
     "data": {
      "text/plain": [
       "[array([[0.35728436, 0.16064076, 1.61913412, 1.41398544, 3.98273933],\n",
       "        [1.06795212, 1.74737129, 2.13691373, 0.19674878, 4.67517388],\n",
       "        [0.63507902, 3.48005483, 4.7083843 , 4.67417327, 0.27862121],\n",
       "        [0.69730195, 3.59706659, 3.73790011, 1.8600497 , 1.790766  ],\n",
       "        [2.34678842, 2.72592348, 3.51656619, 3.11072389, 3.88651281]])]"
      ]
     },
     "execution_count": 214,
     "metadata": {},
     "output_type": "execute_result"
    }
   ],
   "source": [
    "import numpy as np\n",
    "import random\n",
    "\n",
    "def une_étape(steps, verbose = False):\n",
    "    N_1dim=5\n",
    "\n",
    "    state = np.random.uniform(low=0.0, high=N_1dim, size=(N_1dim,N_1dim))\n",
    "    results =[]\n",
    "  \n",
    "    for simu in range(steps):\n",
    "        px = random.randint(0,N_1dim - 1)\n",
    "        py = random.randint(0,N_1dim - 1)\n",
    "        \n",
    "        state[px],state[py] = b_u_o(state[px], state[py], N_1dim)\n",
    "        results.append(state.copy())\n",
    "        \n",
    "        return results\n",
    "\n",
    "une_étape(10, verbose = True)"
   ]
  },
  {
   "cell_type": "code",
   "execution_count": 215,
   "metadata": {},
   "outputs": [
    {
     "data": {
      "image/png": "[encoded data removed]",
      "text/plain": [
       "<matplotlib.figure.Figure at 0x7f1cb601b588>"
      ]
     },
     "metadata": {},
     "output_type": "display_data"
    },
    {
     "ename": "IndexError",
     "evalue": "list index out of range",
     "output_type": "error",
     "traceback": [
      "\u001b[0;31m---------------------------------------------------------------------------\u001b[0m",
      "\u001b[0;31mIndexError\u001b[0m                                Traceback (most recent call last)",
      "\u001b[0;32m<ipython-input-215-13919f214c71>\u001b[0m in \u001b[0;36m<module>\u001b[0;34m()\u001b[0m\n\u001b[1;32m      9\u001b[0m \u001b[0mplt\u001b[0m\u001b[0;34m.\u001b[0m\u001b[0mshow\u001b[0m\u001b[0;34m(\u001b[0m\u001b[0;34m)\u001b[0m\u001b[0;34m\u001b[0m\u001b[0m\n\u001b[1;32m     10\u001b[0m \u001b[0;34m\u001b[0m\u001b[0m\n\u001b[0;32m---> 11\u001b[0;31m \u001b[0mim\u001b[0m \u001b[0;34m=\u001b[0m \u001b[0mplt\u001b[0m\u001b[0;34m.\u001b[0m\u001b[0mimshow\u001b[0m\u001b[0;34m(\u001b[0m\u001b[0mresults\u001b[0m\u001b[0;34m[\u001b[0m\u001b[0;36m999\u001b[0m\u001b[0;34m]\u001b[0m\u001b[0;34m,\u001b[0m \u001b[0manimated\u001b[0m\u001b[0;34m=\u001b[0m\u001b[0;32mTrue\u001b[0m\u001b[0;34m)\u001b[0m\u001b[0;34m\u001b[0m\u001b[0m\n\u001b[0m\u001b[1;32m     12\u001b[0m \u001b[0mplt\u001b[0m\u001b[0;34m.\u001b[0m\u001b[0mshow\u001b[0m\u001b[0;34m(\u001b[0m\u001b[0;34m)\u001b[0m\u001b[0;34m\u001b[0m\u001b[0m\n\u001b[1;32m     13\u001b[0m \u001b[0;34m\u001b[0m\u001b[0m\n",
      "\u001b[0;31mIndexError\u001b[0m: list index out of range"
     ]
    }
   ],
   "source": [
    "import matplotlib.pyplot as plt\n",
    "\n",
    "fig = plt.figure()\n",
    "\n",
    "results = une_étape(1000,verbose=True)\n",
    "\n",
    "# results[i] contient l'état au pas de temps i sous forme de matrice\n",
    "im = plt.imshow(results[0], animated=True)\n",
    "plt.show()\n",
    "\n",
    "im = plt.imshow(results[999], animated=True)\n",
    "plt.show()\n",
    "\n",
    "\n",
    "\n",
    "def updatefig(i):\n",
    "    im.set_array(results[i+1])\n",
    "    return im\n"
   ]
  },
  {
   "cell_type": "code",
   "execution_count": null,
   "metadata": {},
   "outputs": [],
   "source": [
    "definir degré de malveillance: nb de prsn malveillantes"
   ]
  },
  {
   "cell_type": "code",
   "execution_count": null,
   "metadata": {},
   "outputs": [],
   "source": [
    "créer une fct qui montre ce qui se passe en une etape\n",
    "si p individu !=0.5 alors deja_vu=True\n",
    "prendre en compte influ voisinage\n",
    "afficher en sortie la grille des p"
   ]
  }
 ],
 "metadata": {
  "kernelspec": {
   "display_name": "Python 3",
   "language": "python",
   "name": "python3"
  },
  "language_info": {
   "codemirror_mode": {
    "name": "ipython",
    "version": 3
   },
   "file_extension": ".py",
   "mimetype": "text/x-python",
   "name": "python",
   "nbconvert_exporter": "python",
   "pygments_lexer": "ipython3",
   "version": "3.4.2"
  }
 },
 "nbformat": 4,
 "nbformat_minor": 2
}
