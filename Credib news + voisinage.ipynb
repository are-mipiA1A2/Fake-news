{
 "cells": [
  {
   "cell_type": "markdown",
   "metadata": {},
   "source": [
    "**Influence de la crédibilité de la news sur p**"
   ]
  },
  {
   "cell_type": "code",
   "execution_count": 2,
   "metadata": {
    "scrolled": true
   },
   "outputs": [
    {
     "name": "stdout",
     "output_type": "stream",
     "text": [
      "Crédibilité de l'info: 0.3682252116776281\n",
      "0.74\n"
     ]
    }
   ],
   "source": [
    "#numpy.random.choice(liste(ou entier) , taille de l'array , replace=False pour pas avoir deux fois la meme valeur , proba)\n",
    "\n",
    "import numpy as np\n",
    "import random as rd\n",
    "\n",
    "\n",
    "news = np.random.random_sample()\n",
    "print('Crédibilité de l\\'info:',news)\n",
    "\n",
    "def influ_credib_news(news,p):\n",
    "    #news: crédibilité de la news\n",
    "    #p: param déterminant le chgt ou non de l'opinion    \n",
    "    i = p\n",
    "    i = i+news*(news-i)\n",
    "    return i\n",
    "\n",
    "print(influ_credib_news(0.8,0.5))"
   ]
  },
  {
   "cell_type": "markdown",
   "metadata": {},
   "source": [
    "**Influence du voisinage sur p**"
   ]
  },
  {
   "cell_type": "code",
   "execution_count": 8,
   "metadata": {},
   "outputs": [
    {
     "name": "stdout",
     "output_type": "stream",
     "text": [
      "Membres de la discussion ['9' '13' '2' '12' '14']\n"
     ]
    },
    {
     "ename": "ValueError",
     "evalue": "need more than 2 values to unpack",
     "output_type": "error",
     "traceback": [
      "\u001b[0;31m---------------------------------------------------------------------------\u001b[0m",
      "\u001b[0;31mValueError\u001b[0m                                Traceback (most recent call last)",
      "\u001b[0;32m<ipython-input-8-b6369c1fd1fa>\u001b[0m in \u001b[0;36m<module>\u001b[0;34m()\u001b[0m\n\u001b[1;32m     22\u001b[0m     \u001b[0;32mreturn\u001b[0m \u001b[0mmatrice\u001b[0m\u001b[0;34m\u001b[0m\u001b[0m\n\u001b[1;32m     23\u001b[0m \u001b[0;34m\u001b[0m\u001b[0m\n\u001b[0;32m---> 24\u001b[0;31m \u001b[0mprint\u001b[0m\u001b[0;34m(\u001b[0m\u001b[0mmatrice_discu\u001b[0m\u001b[0;34m(\u001b[0m\u001b[0mDiscu\u001b[0m\u001b[0;34m.\u001b[0m\u001b[0mcopy\u001b[0m\u001b[0;34m(\u001b[0m\u001b[0;34m)\u001b[0m\u001b[0;34m)\u001b[0m\u001b[0;34m)\u001b[0m\u001b[0;34m\u001b[0m\u001b[0m\n\u001b[0m\u001b[1;32m     25\u001b[0m \u001b[0;34m\u001b[0m\u001b[0m\n\u001b[1;32m     26\u001b[0m \u001b[0mTest_reseau\u001b[0m\u001b[0;34m=\u001b[0m\u001b[0;34m[\u001b[0m\u001b[0;34m(\u001b[0m\u001b[0mstr\u001b[0m\u001b[0;34m(\u001b[0m\u001b[0mk\u001b[0m\u001b[0;34m)\u001b[0m\u001b[0;34m,\u001b[0m\u001b[0mnp\u001b[0m\u001b[0;34m.\u001b[0m\u001b[0mrandom\u001b[0m\u001b[0;34m.\u001b[0m\u001b[0mchoice\u001b[0m\u001b[0;34m(\u001b[0m\u001b[0;34m[\u001b[0m\u001b[0;36m0\u001b[0m\u001b[0;34m,\u001b[0m\u001b[0;36m1\u001b[0m\u001b[0;34m]\u001b[0m\u001b[0;34m)\u001b[0m\u001b[0;34m,\u001b[0m\u001b[0mnp\u001b[0m\u001b[0;34m.\u001b[0m\u001b[0mrandom\u001b[0m\u001b[0;34m.\u001b[0m\u001b[0mchoice\u001b[0m\u001b[0;34m(\u001b[0m\u001b[0;34m[\u001b[0m\u001b[0;32mFalse\u001b[0m\u001b[0;34m,\u001b[0m\u001b[0;32mTrue\u001b[0m\u001b[0;34m]\u001b[0m\u001b[0;34m)\u001b[0m\u001b[0;34m,\u001b[0m\u001b[0mnp\u001b[0m\u001b[0;34m.\u001b[0m\u001b[0mrandom\u001b[0m\u001b[0;34m.\u001b[0m\u001b[0mrandom_sample\u001b[0m\u001b[0;34m(\u001b[0m\u001b[0;34m)\u001b[0m\u001b[0;34m,\u001b[0m\u001b[0mnp\u001b[0m\u001b[0;34m.\u001b[0m\u001b[0mrandom\u001b[0m\u001b[0;34m.\u001b[0m\u001b[0mrandom_sample\u001b[0m\u001b[0;34m(\u001b[0m\u001b[0;34m)\u001b[0m\u001b[0;34m)\u001b[0m \u001b[0;32mfor\u001b[0m \u001b[0mk\u001b[0m \u001b[0;32min\u001b[0m \u001b[0mrange\u001b[0m\u001b[0;34m(\u001b[0m\u001b[0mN\u001b[0m\u001b[0;34m)\u001b[0m\u001b[0;34m]\u001b[0m\u001b[0;34m\u001b[0m\u001b[0m\n",
      "\u001b[0;32m<ipython-input-8-b6369c1fd1fa>\u001b[0m in \u001b[0;36mmatrice_discu\u001b[0;34m(L)\u001b[0m\n\u001b[1;32m     12\u001b[0m     \u001b[0mi\u001b[0m\u001b[0;34m=\u001b[0m\u001b[0;36m0\u001b[0m\u001b[0;34m\u001b[0m\u001b[0m\n\u001b[1;32m     13\u001b[0m     \u001b[0mj\u001b[0m\u001b[0;34m=\u001b[0m\u001b[0;36m0\u001b[0m\u001b[0;34m\u001b[0m\u001b[0m\n\u001b[0;32m---> 14\u001b[0;31m     \u001b[0;32mfor\u001b[0m \u001b[0;34m(\u001b[0m\u001b[0mnom\u001b[0m\u001b[0;34m,\u001b[0m\u001b[0mopinion\u001b[0m\u001b[0;34m,\u001b[0m\u001b[0mdeja_vu\u001b[0m\u001b[0;34m,\u001b[0m\u001b[0mpersu\u001b[0m\u001b[0;34m,\u001b[0m\u001b[0mp\u001b[0m\u001b[0;34m)\u001b[0m \u001b[0;32min\u001b[0m \u001b[0mReseau_discu\u001b[0m\u001b[0;34m:\u001b[0m\u001b[0;34m\u001b[0m\u001b[0m\n\u001b[0m\u001b[1;32m     15\u001b[0m         \u001b[0;32mif\u001b[0m \u001b[0mnom\u001b[0m \u001b[0;32min\u001b[0m \u001b[0mL\u001b[0m\u001b[0;34m:\u001b[0m\u001b[0;34m\u001b[0m\u001b[0m\n\u001b[1;32m     16\u001b[0m             \u001b[0mmatrice\u001b[0m\u001b[0;34m[\u001b[0m\u001b[0mi\u001b[0m\u001b[0;34m,\u001b[0m\u001b[0mj\u001b[0m\u001b[0;34m]\u001b[0m\u001b[0;34m=\u001b[0m\u001b[0mnom\u001b[0m\u001b[0;34m\u001b[0m\u001b[0m\n",
      "\u001b[0;31mValueError\u001b[0m: need more than 2 values to unpack"
     ]
    }
   ],
   "source": [
    "N=15 #nombre de membres du réseau discussion physique\n",
    "#description d'un agent : (nom,opinion,deja_vu,persuasion,chgt_opinion)\n",
    "Reseau_discu={str(k):(0,False,fp,0.5) for k in range(N) for fp in np.random.uniform(low=0.0, high=1.0,size=N)}\n",
    "Noms_reseau_discu=[str(k) for k in range(N)]\n",
    "\n",
    "size = int(np.random.choice(range(2,10)))\n",
    "Discu = np.random.choice(Noms_reseau_discu,size,replace=False)\n",
    "print('Membres de la discussion',Discu)\n",
    "\n",
    "def matrice_discu(L):\n",
    "    matrice=np.matrix([['00','00','00'],['00','00','00'],['00','00','00']])\n",
    "    i=0\n",
    "    j=0\n",
    "    for (nom,opinion,deja_vu,persu,p) in Reseau_discu:\n",
    "        if nom in L:\n",
    "            matrice[i,j]=nom\n",
    "            if j!=2:\n",
    "                j=j+1\n",
    "            elif j==2:\n",
    "                j=0\n",
    "                i=i+1\n",
    "    return matrice\n",
    "    \n",
    "print(matrice_discu(Discu.copy()))\n",
    "\n",
    "Test_reseau=[(str(k),np.random.choice([0,1]),np.random.choice([False,True]),np.random.random_sample(),np.random.random_sample()) for k in range(N)]\n",
    "print('Réseau aléatoire :',Test_reseau)\n",
    "\n",
    "def influ_voisinage(discussion,reseau):\n",
    "    \n",
    "    P=[]    #liste des p (conviction) des agents de la discussion\n",
    "    for listes in discussion:\n",
    "        for k in listes:\n",
    "            for (nom,opinion,deja_vu,persu,p) in reseau:\n",
    "                if k == str(nom):\n",
    "                    if deja_vu:\n",
    "                        P.append(p)\n",
    "    plus_convaincu=max(P)     #p du plus convaincu\n",
    "    moins_convaicnu=min(P)    #p du moins convaincu\n",
    "    pi=0.5                    #current conviction\n",
    "    Pi=[]                     #list of the current convictions\n",
    "    for listes in discussion:\n",
    "        for k in listes:\n",
    "            for (nom,opinion,deja_vu,persu,p) in reseau:\n",
    "                if k == str(nom):\n",
    "                    pi=p\n",
    "                    if pi<plus_convaincu:\n",
    "                        pi=pi+((plus_convaincu-pi)/2)\n",
    "                    if pi>moins_convaincu:\n",
    "                        pi=pi+((moins_convaincu-pi)/2)\n",
    "                    Pi.append(nom,pi)\n",
    "    for (name,pi) in Pi:\n",
    "        for (nom,opinion,deja_vu,persu,p) in reseau:\n",
    "            if name == str(nom):\n",
    "                p=pi\n",
    "    return reseau\n",
    "\n",
    "print(influ_voisinage(matrice_discu(Discu.copy()),Test_reseau))"
   ]
  },
  {
   "cell_type": "code",
   "execution_count": 35,
   "metadata": {},
   "outputs": [
    {
     "name": "stdout",
     "output_type": "stream",
     "text": [
      "Membres de la discussion ['0' '11' '21' '3' '1' '22' '6' '2' '20']\n",
      "Réseau aléatoire : {'24': (0, False, 0.03963931630837125, 0.5609136656665318), '23': (0, False, 0.9506141343234398, 0.8557563463008362), '16': (1, False, 0.21846677263875336, 0.3705308551739078), '3': (1, True, 0.37064943534464734, 0.699545430473262), '25': (0, True, 0.2877084267412756, 0.7712181826645307), '10': (1, False, 0.20855649912581542, 0.09014785826259664), '21': (0, True, 0.6774065227413522, 0.7121633659241908), '6': (0, False, 0.9858583395950102, 0.15519798208642877), '18': (1, True, 0.11559312641246522, 0.2932330570228898), '1': (1, False, 0.5349966791843139, 0.4299864107025141), '19': (0, True, 0.01134999898723188, 0.3129384373583707), '20': (1, False, 0.31402228578462577, 0.8555181734173511), '2': (1, True, 0.5420723037930618, 0.520758070693653), '9': (1, False, 0.6829488005821124, 0.8933144205320176), '22': (1, False, 0.5175503063777815, 0.8036977320134873), '12': (1, False, 0.3723332229646362, 0.6862977989676475), '11': (1, False, 0.2430933309800386, 0.314933460698272), '17': (0, True, 0.47427900518307686, 0.29310108129721957), '13': (0, True, 0.828117358029046, 0.20926559642562725), '4': (1, True, 0.2224373607131721, 0.38701199328948555), '5': (1, True, 0.9029377307903641, 0.3173354519959899), '15': (0, False, 0.40265121841947593, 0.3603280245292251), '14': (0, True, 0.0704097200353404, 0.37622806025734323), '8': (1, True, 0.5288651847106861, 0.09025971753916928), '7': (1, True, 0.37858273265864506, 0.8718170416933411)}\n",
      "Matrice des agents : \n",
      " [[24. 23. 16.  3. 25.]\n",
      " [10. 21.  6. 18.  1.]\n",
      " [19. 20.  2.  9. 22.]\n",
      " [12. 11. 17. 13.  4.]\n",
      " [ 5. 15. 14.  8.  7.]]\n",
      "Un agent 21\n"
     ]
    },
    {
     "data": {
      "text/plain": [
       "str"
      ]
     },
     "execution_count": 35,
     "metadata": {},
     "output_type": "execute_result"
    }
   ],
   "source": [
    "N = 25      #nombre de membres du réseau discussion physique\n",
    "N_1dim = 5  #nombre de membres du réseau sur une dimension (racine de N)\n",
    "#description d'un agent : (nom,opinion,deja_vu,persuasion,chgt_opinion)\n",
    "Reseau_discu={str(k):(0,False,fp,0.5) for k in range(1,N+1) for fp in np.random.uniform(low=0.0, high=1.0,size=N)}\n",
    "Noms_reseau_discu=[str(k) for k in range(N)]\n",
    "\n",
    "size = int(np.random.choice(range(2,10)))\n",
    "Discu = np.random.choice(Noms_reseau_discu,size,replace=False)\n",
    "print('Membres de la discussion',Discu)\n",
    "\n",
    "Test_reseau={str(k):(np.random.choice([0,1]),np.random.choice([False,True]),np.random.random_sample(),np.random.random_sample()) for k in range(1,N+1)}\n",
    "print('Réseau aléatoire :',Test_reseau)\n",
    "\n",
    "def matrice_agents(reseau,N_1dim):\n",
    "    C=np.zeros((N_1dim,N_1dim))\n",
    "    i=0\n",
    "    j=0\n",
    "    for (nom,(opinion,deja_vu,persu,p)) in reseau.items():\n",
    "        C[i,j]=nom\n",
    "        if j<(N_1dim-1):\n",
    "            j=j+1\n",
    "        elif j==(N_1dim-1):\n",
    "            j=0\n",
    "            i=i+1\n",
    "    return C\n",
    "\n",
    "Agents=matrice_agents(Test_reseau,N_1dim)\n",
    "print('Matrice des agents : \\n',Agents)\n",
    "agent=Agents[1,1]\n",
    "nom_agent=str(int(agent))\n",
    "print('Un agent',nom_agent)\n",
    "type(nom_agent)"
   ]
  },
  {
   "cell_type": "code",
   "execution_count": null,
   "metadata": {},
   "outputs": [],
   "source": [
    "def influ_voisinage(discussion,reseau):\n",
    "    for k in discussion:\n",
    "        if size==2:\n",
    "            reseau=force_de_persuasion()"
   ]
  }
 ],
 "metadata": {
  "kernelspec": {
   "display_name": "Python 3",
   "language": "python",
   "name": "python3"
  },
  "language_info": {
   "codemirror_mode": {
    "name": "ipython",
    "version": 3
   },
   "file_extension": ".py",
   "mimetype": "text/x-python",
   "name": "python",
   "nbconvert_exporter": "python",
   "pygments_lexer": "ipython3",
   "version": "3.4.2"
  }
 },
 "nbformat": 4,
 "nbformat_minor": 2
}
