{
 "cells": [
  {
   "cell_type": "markdown",
   "metadata": {},
   "source": [
    "**Influence de la crédibilité de la news sur p**"
   ]
  },
  {
   "cell_type": "code",
   "execution_count": 4,
   "metadata": {
    "scrolled": true
   },
   "outputs": [
    {
     "name": "stdout",
     "output_type": "stream",
     "text": [
      "Crédibilité de l'info: 0.6910090636394297\n",
      "0.74\n"
     ]
    }
   ],
   "source": [
    "#numpy.random.choice(liste(ou entier) , taille de l'array , replace=False pour pas avoir deux fois la meme valeur , proba)\n",
    "\n",
    "import numpy as np\n",
    "import random as rd\n",
    "\n",
    "\n",
    "news = np.random.random_sample()\n",
    "print('Crédibilité de l\\'info:',news)\n",
    "\n",
    "def influ_credib_news(news,p):\n",
    "    #news: crédibilité de la news\n",
    "    #p: param déterminant le chgt ou non de l'opinion    \n",
    "    i = p\n",
    "    i = i+news*(news-i)\n",
    "    return i\n",
    "\n",
    "print(influ_credib_news(0.8,0.5))"
   ]
  },
  {
   "cell_type": "markdown",
   "metadata": {},
   "source": [
    "**Influence du voisinage sur p**"
   ]
  },
  {
   "cell_type": "code",
   "execution_count": 30,
   "metadata": {},
   "outputs": [
    {
     "data": {
      "text/plain": [
       "\"N=15 #nombre de membres du réseau discussion physique\\n#description d'un agent : (nom,opinion,deja_vu,persuasion,chgt_opinion)\\nReseau_discu={str(k):(0,False,fp,0.5) for k in range(N) for fp in np.random.uniform(low=0.0, high=1.0,size=N)}\\nNoms_reseau_discu=[str(k) for k in range(N)]\\n\\nsize = int(np.random.choice(range(2,10)))\\nDiscu = np.random.choice(Noms_reseau_discu,size,replace=False)\\nprint('Membres de la discussion',Discu)\\n\\ndef matrice_discu(L,reseau):\\n    matrice=np.matrix([['00','00','00'],['00','00','00'],['00','00','00']])\\n    i=0\\n    j=0\\n    for (nom,(opinion,deja_vu,persu,p)) in reseau.items():\\n        if nom in L:\\n            matrice[i,j]=nom\\n            if j!=2:\\n                j=j+1\\n            elif j==2:\\n                j=0\\n                i=i+1\\n    return matrice\\n    \\nprint('Matrice discussion :\\n',matrice_discu(Discu.copy(),Reseau_discu))\\n\\nTest_reseau=[(str(k),np.random.choice([0,1]),np.random.choice([False,True]),np.random.random_sample(),np.random.random_sample()) for k in range(N)]\\nprint('Réseau aléatoire :',Test_reseau)\\n\\ndef influ_voisinage(discussion,reseau):\\n    \\n    P=[]    #liste des p (conviction) des agents de la discussion\\n    for listes in discussion:\\n        for k in listes:\\n            for (nom,opinion,deja_vu,persu,p) in reseau:\\n                if k == str(nom):\\n                    if deja_vu:\\n                        P.append(p)\\n    plus_convaincu=max(P)     #p du plus convaincu\\n    moins_convaicnu=min(P)    #p du moins convaincu\\n    pi=0.5                    #current conviction\\n    Pi=[]                     #list of the current convictions\\n    for listes in discussion:\\n        for k in listes:\\n            for (nom,opinion,deja_vu,persu,p) in reseau.items():\\n                if k == str(nom):\\n                    pi=p\\n                    if pi<plus_convaincu:\\n                        pi=pi+((plus_convaincu-pi)/2)\\n                    if pi>moins_convaincu:\\n                        pi=pi+((moins_convaincu-pi)/2)\\n                    Pi.append(nom,pi)\\n    for (name,pi) in Pi:\\n        for (nom,opinion,deja_vu,persu,p) in reseau:\\n            if name == str(nom):\\n                p=pi\\n    return reseau\\n\\nprint(influ_voisinage(matrice_discu(Discu.copy()),Test_reseau))\""
      ]
     },
     "execution_count": 30,
     "metadata": {},
     "output_type": "execute_result"
    }
   ],
   "source": [
    "\"\"\"N=15 #nombre de membres du réseau discussion physique\n",
    "#description d'un agent : (nom,opinion,deja_vu,persuasion,chgt_opinion)\n",
    "Reseau_discu={str(k):(0,False,fp,0.5) for k in range(N) for fp in np.random.uniform(low=0.0, high=1.0,size=N)}\n",
    "Noms_reseau_discu=[str(k) for k in range(N)]\n",
    "\n",
    "size = int(np.random.choice(range(2,10)))\n",
    "Discu = np.random.choice(Noms_reseau_discu,size,replace=False)\n",
    "print('Membres de la discussion',Discu)\n",
    "\n",
    "def matrice_discu(L,reseau):\n",
    "    matrice=np.matrix([['00','00','00'],['00','00','00'],['00','00','00']])\n",
    "    i=0\n",
    "    j=0\n",
    "    for (nom,(opinion,deja_vu,persu,p)) in reseau.items():\n",
    "        if nom in L:\n",
    "            matrice[i,j]=nom\n",
    "            if j!=2:\n",
    "                j=j+1\n",
    "            elif j==2:\n",
    "                j=0\n",
    "                i=i+1\n",
    "    return matrice\n",
    "    \n",
    "print('Matrice discussion :\\n',matrice_discu(Discu.copy(),Reseau_discu))\n",
    "\n",
    "Test_reseau=[(str(k),np.random.choice([0,1]),np.random.choice([False,True]),np.random.random_sample(),np.random.random_sample()) for k in range(N)]\n",
    "print('Réseau aléatoire :',Test_reseau)\n",
    "\n",
    "def influ_voisinage(discussion,reseau):\n",
    "    \n",
    "    P=[]    #liste des p (conviction) des agents de la discussion\n",
    "    for listes in discussion:\n",
    "        for k in listes:\n",
    "            for (nom,opinion,deja_vu,persu,p) in reseau:\n",
    "                if k == str(nom):\n",
    "                    if deja_vu:\n",
    "                        P.append(p)\n",
    "    plus_convaincu=max(P)     #p du plus convaincu\n",
    "    moins_convaicnu=min(P)    #p du moins convaincu\n",
    "    pi=0.5                    #current conviction\n",
    "    Pi=[]                     #list of the current convictions\n",
    "    for listes in discussion:\n",
    "        for k in listes:\n",
    "            for (nom,opinion,deja_vu,persu,p) in reseau.items():\n",
    "                if k == str(nom):\n",
    "                    pi=p\n",
    "                    if pi<plus_convaincu:\n",
    "                        pi=pi+((plus_convaincu-pi)/2)\n",
    "                    if pi>moins_convaincu:\n",
    "                        pi=pi+((moins_convaincu-pi)/2)\n",
    "                    Pi.append(nom,pi)\n",
    "    for (name,pi) in Pi:\n",
    "        for (nom,opinion,deja_vu,persu,p) in reseau:\n",
    "            if name == str(nom):\n",
    "                p=pi\n",
    "    return reseau\n",
    "\n",
    "print(influ_voisinage(matrice_discu(Discu.copy()),Test_reseau))\"\"\""
   ]
  },
  {
   "cell_type": "code",
   "execution_count": 34,
   "metadata": {
    "scrolled": true
   },
   "outputs": [
    {
     "name": "stdout",
     "output_type": "stream",
     "text": [
      "Membres de la discussion ['12' '8' '6' '11' '0']\n",
      "Réseau aléatoire : {'1': (1, False, 0.9107710993019253, 0.20180311642239657), '2': (1, False, 0.7842425918705559, 0.20149207116605106), '3': (1, False, 0.36933012649760566, 0.025390156094239447), '4': (1, True, 0.5559282784302308, 0.07029072624132582), '5': (0, False, 0.08507258102294435, 0.38171001875582955), '6': (0, False, 0.451988280507467, 0.751111726025842), '7': (0, True, 0.6551484245499698, 0.745846917729684), '8': (0, False, 0.3313019568709745, 0.4104590896711058), '9': (1, True, 0.9382530558642875, 0.16605191890905846), '10': (1, True, 0.18599558426154494, 0.43352385975963204), '11': (0, True, 0.530869456233698, 0.4173817477881817), '12': (1, False, 0.22921525267897525, 0.18255224287490035), '13': (1, False, 0.7389171635854367, 0.7294097951212181), '14': (1, False, 0.6188066103784989, 0.642570862186241), '15': (0, False, 0.22410218944470794, 0.4690037317296164), '16': (1, False, 0.7798604765819707, 0.6400829040292508), '17': (1, False, 0.31090690361119777, 0.9519892174880404), '18': (0, True, 0.8025908174881229, 0.4969561629479766), '19': (0, False, 0.7350821945685142, 0.18939584646473673), '20': (0, False, 0.6243378577605888, 0.8926274360201262), '21': (1, False, 0.5316474420918177, 0.05603782565170157), '22': (0, False, 0.4575743902911744, 0.29450743374559496), '23': (1, True, 0.5330791437483519, 0.7382674565066027), '24': (1, True, 0.7572610927750157, 0.2619103642958982), '25': (0, False, 0.515519172930961, 0.6814277936628098)}\n",
      "None\n"
     ]
    }
   ],
   "source": [
    "#description d'un agent : nom:(opinion,deja_vu,force_de_persuasion,conviction)\n",
    "N = 25      #nombre de membres du réseau discussion physique\n",
    "N_1dim = 5  #nombre de membres du réseau sur une dimension (racine de N)\n",
    "\n",
    "#initialisation :\n",
    "Reseau_discu={str(k):(0,False,fp,0.5) for k in range(1,N+1) for fp in np.random.uniform(low=0.0, high=1.0,size=N)}\n",
    "Noms_reseau_discu=[str(k) for k in range(N)]\n",
    "\n",
    "size = int(np.random.choice(range(2,10)))\n",
    "Liste_membres_discu = np.random.choice(Noms_reseau_discu,size,replace=False)\n",
    "print('Membres de la discussion',Discu)\n",
    "\n",
    "#Réseau à valeurs quelconques (au milieu de la simulation par exemple)\n",
    "Test_reseau={str(k):(np.random.choice([0,1]),np.random.choice([False,True]),np.random.random_sample(),np.random.random_sample()) for k in range(1,N+1)}\n",
    "print('Réseau aléatoire :',Test_reseau)\n",
    "\n",
    "#Représentation des agents en 2 dimensions (sur une matrice) :\n",
    "def matrice_agents(reseau,N_1dim):\n",
    "    \"\"\"dict*int->matrice\"\"\"\n",
    "    \n",
    "    C=np.zeros((N_1dim,N_1dim))\n",
    "    i=0\n",
    "    j=0\n",
    "    for (nom,(opinion,deja_vu,persu,p)) in reseau.items():\n",
    "        C[i,j]=nom\n",
    "        if j<(N_1dim-1):\n",
    "            j=j+1\n",
    "        elif j==(N_1dim-1):\n",
    "            j=0\n",
    "            i=i+1\n",
    "    C=np.random.shuffle(C)\n",
    "    return C\n",
    "\n",
    "Agents=matrice_agents(Test_reseau,N_1dim)\n",
    "print(Agents)\n",
    "\n",
    "#Sélection d'un agent et de son voisinage pour établir un discussion\n"
   ]
  },
  {
   "cell_type": "code",
   "execution_count": null,
   "metadata": {
    "collapsed": true
   },
   "outputs": [],
   "source": [
    "def influ_voisinage(discussion,reseau):\n",
    "    if size==2:\n",
    "        "
   ]
  }
 ],
 "metadata": {
  "kernelspec": {
   "display_name": "Python 3",
   "language": "python",
   "name": "python3"
  },
  "language_info": {
   "codemirror_mode": {
    "name": "ipython",
    "version": 3
   },
   "file_extension": ".py",
   "mimetype": "text/x-python",
   "name": "python",
   "nbconvert_exporter": "python",
   "pygments_lexer": "ipython3",
   "version": "3.6.3"
  }
 },
 "nbformat": 4,
 "nbformat_minor": 2
}
