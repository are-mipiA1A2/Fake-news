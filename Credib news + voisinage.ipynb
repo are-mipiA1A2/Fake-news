{
 "cells": [
  {
   "cell_type": "markdown",
   "metadata": {},
   "source": [
    "**Influence de la crédibilité de la news sur p**"
   ]
  },
  {
   "cell_type": "code",
   "execution_count": 2,
   "metadata": {
    "scrolled": true
   },
   "outputs": [
    {
     "name": "stdout",
     "output_type": "stream",
     "text": [
      "Crédibilité de l'info: 0.9697157292245362\n",
      "0.74\n"
     ]
    }
   ],
   "source": [
    "#numpy.random.choice(liste(ou entier) , taille de l'array , replace=False pour pas avoir deux fois la meme valeur , proba)\n",
    "\n",
    "import numpy as np\n",
    "import random as rd\n",
    "\n",
    "\n",
    "news = np.random.random_sample()\n",
    "print('Crédibilité de l\\'info:',news)\n",
    "\n",
    "def influ_credib_news(news,p):\n",
    "    #news: crédibilité de la news\n",
    "    #p: param déterminant le chgt ou non de l'opinion    \n",
    "    i = p\n",
    "    i = i+news*(news-i)\n",
    "    return i\n",
    "\n",
    "print(influ_credib_news(0.8,0.5))"
   ]
  },
  {
   "cell_type": "markdown",
   "metadata": {},
   "source": [
    "**Influence du voisinage sur p**"
   ]
  },
  {
   "cell_type": "code",
   "execution_count": 3,
   "metadata": {},
   "outputs": [
    {
     "data": {
      "text/plain": [
       "\"N=15 #nombre de membres du réseau discussion physique\\n#description d'un agent : (nom,opinion,deja_vu,persuasion,chgt_opinion)\\nReseau_discu={str(k):(0,False,fp,0.5) for k in range(N) for fp in np.random.uniform(low=0.0, high=1.0,size=N)}\\nNoms_reseau_discu=[str(k) for k in range(N)]\\n\\nsize = int(np.random.choice(range(2,10)))\\nDiscu = np.random.choice(Noms_reseau_discu,size,replace=False)\\nprint('Membres de la discussion',Discu)\\n\\ndef matrice_discu(L,reseau):\\n    matrice=np.matrix([['00','00','00'],['00','00','00'],['00','00','00']])\\n    i=0\\n    j=0\\n    for (nom,(opinion,deja_vu,persu,p)) in reseau.items():\\n        if nom in L:\\n            matrice[i,j]=nom\\n            if j!=2:\\n                j=j+1\\n            elif j==2:\\n                j=0\\n                i=i+1\\n    return matrice\\n    \\nprint('Matrice discussion :\\n',matrice_discu(Discu.copy(),Reseau_discu))\\n\\nTest_reseau=[(str(k),np.random.choice([0,1]),np.random.choice([False,True]),np.random.random_sample(),np.random.random_sample()) for k in range(N)]\\nprint('Réseau aléatoire :',Test_reseau)\\n\\ndef influ_voisinage(discussion,reseau):\\n    \\n    P=[]    #liste des p (conviction) des agents de la discussion\\n    for listes in discussion:\\n        for k in listes:\\n            for (nom,opinion,deja_vu,persu,p) in reseau:\\n                if k == str(nom):\\n                    if deja_vu:\\n                        P.append(p)\\n    plus_convaincu=max(P)     #p du plus convaincu\\n    moins_convaicnu=min(P)    #p du moins convaincu\\n    pi=0.5                    #current conviction\\n    Pi=[]                     #list of the current convictions\\n    for listes in discussion:\\n        for k in listes:\\n            for (nom,opinion,deja_vu,persu,p) in reseau.items():\\n                if k == str(nom):\\n                    pi=p\\n                    if pi<plus_convaincu:\\n                        pi=pi+((plus_convaincu-pi)/2)\\n                    if pi>moins_convaincu:\\n                        pi=pi+((moins_convaincu-pi)/2)\\n                    Pi.append(nom,pi)\\n    for (name,pi) in Pi:\\n        for (nom,opinion,deja_vu,persu,p) in reseau:\\n            if name == str(nom):\\n                p=pi\\n    return reseau\\n\\nprint(influ_voisinage(matrice_discu(Discu.copy()),Test_reseau))\""
      ]
     },
     "execution_count": 3,
     "metadata": {},
     "output_type": "execute_result"
    }
   ],
   "source": [
    "\"\"\"N=15 #nombre de membres du réseau discussion physique\n",
    "#description d'un agent : (nom,opinion,deja_vu,persuasion,chgt_opinion)\n",
    "Reseau_discu={str(k):(0,False,fp,0.5) for k in range(N) for fp in np.random.uniform(low=0.0, high=1.0,size=N)}\n",
    "Noms_reseau_discu=[str(k) for k in range(N)]\n",
    "\n",
    "size = int(np.random.choice(range(2,10)))\n",
    "Discu = np.random.choice(Noms_reseau_discu,size,replace=False)\n",
    "print('Membres de la discussion',Discu)\n",
    "\n",
    "def matrice_discu(L,reseau):\n",
    "    matrice=np.matrix([['00','00','00'],['00','00','00'],['00','00','00']])\n",
    "    i=0\n",
    "    j=0\n",
    "    for (nom,(opinion,deja_vu,persu,p)) in reseau.items():\n",
    "        if nom in L:\n",
    "            matrice[i,j]=nom\n",
    "            if j!=2:\n",
    "                j=j+1\n",
    "            elif j==2:\n",
    "                j=0\n",
    "                i=i+1\n",
    "    return matrice\n",
    "    \n",
    "print('Matrice discussion :\\n',matrice_discu(Discu.copy(),Reseau_discu))\n",
    "\n",
    "Test_reseau=[(str(k),np.random.choice([0,1]),np.random.choice([False,True]),np.random.random_sample(),np.random.random_sample()) for k in range(N)]\n",
    "print('Réseau aléatoire :',Test_reseau)\n",
    "\n",
    "def influ_voisinage(discussion,reseau):\n",
    "    \n",
    "    P=[]    #liste des p (conviction) des agents de la discussion\n",
    "    for listes in discussion:\n",
    "        for k in listes:\n",
    "            for (nom,opinion,deja_vu,persu,p) in reseau:\n",
    "                if k == str(nom):\n",
    "                    if deja_vu:\n",
    "                        P.append(p)\n",
    "    plus_convaincu=max(P)     #p du plus convaincu\n",
    "    moins_convaicnu=min(P)    #p du moins convaincu\n",
    "    pi=0.5                    #current conviction\n",
    "    Pi=[]                     #list of the current convictions\n",
    "    for listes in discussion:\n",
    "        for k in listes:\n",
    "            for (nom,opinion,deja_vu,persu,p) in reseau.items():\n",
    "                if k == str(nom):\n",
    "                    pi=p\n",
    "                    if pi<plus_convaincu:\n",
    "                        pi=pi+((plus_convaincu-pi)/2)\n",
    "                    if pi>moins_convaincu:\n",
    "                        pi=pi+((moins_convaincu-pi)/2)\n",
    "                    Pi.append(nom,pi)\n",
    "    for (name,pi) in Pi:\n",
    "        for (nom,opinion,deja_vu,persu,p) in reseau:\n",
    "            if name == str(nom):\n",
    "                p=pi\n",
    "    return reseau\n",
    "\n",
    "print(influ_voisinage(matrice_discu(Discu.copy()),Test_reseau))\"\"\""
   ]
  },
  {
   "cell_type": "code",
   "execution_count": 5,
   "metadata": {
    "scrolled": true
   },
   "outputs": [
    {
     "name": "stdout",
     "output_type": "stream",
     "text": [
      "Réseau aléatoire : {'1': (0, False, 0.7203084047432925, 0.521704674328691), '2': (0, True, 0.002125476242240243, 0.4295194980093868), '3': (0, True, 0.7229085797118171, 0.7364687587049173), '4': (1, False, 0.11893021512502377, 0.802996996017149), '5': (0, False, 0.8231862734871533, 0.255363990414758), '6': (0, False, 0.23964161006032014, 0.8616793168846528), '7': (0, True, 0.4177350888764817, 0.9577695516502415), '8': (1, True, 0.11723050037486094, 0.4282140912755086), '9': (1, True, 0.6469343057672746, 0.2143484909696476), '10': (1, True, 0.7093414763576475, 0.9083845859360067), '11': (1, False, 0.351389280855366, 0.14314119769910383), '12': (0, True, 0.6804718801384179, 0.2762931852648042), '13': (0, False, 0.32235746744803917, 0.4385703271790683), '14': (0, True, 0.5886082061418879, 0.2363124377415975), '15': (0, True, 0.6919750579032161, 0.8664707410772591), '16': (0, False, 0.15935964581858875, 0.777124362570929), '17': (0, True, 0.0818641574336586, 0.14744808049939861), '18': (1, True, 0.9989451722194868, 0.35534444089956074), '19': (0, False, 0.07821845811715755, 0.46385394360115284), '20': (0, True, 0.43352365630248113, 0.019799323586081607), '21': (1, False, 0.9845422704420419, 0.055258795919460146), '22': (1, True, 0.8079540132955422, 0.19978221305436927), '23': (1, True, 0.9619806652472027, 0.3308358295708457), '24': (0, False, 0.7016766338148697, 0.6150637400332413), '25': (1, True, 0.11040227708402917, 0.8392809145543558)}\n",
      "Agents :\n",
      " [[ 1  2  3  4  5]\n",
      " [ 6  7  8  9 10]\n",
      " [11 12 13 14 15]\n",
      " [16 17 18 19 20]\n",
      " [21 22 23 24 25]]\n"
     ]
    }
   ],
   "source": [
    "#description d'un agent : nom:(opinion,deja_vu,force_de_persuasion,conviction)\n",
    "N = 25      #nombre de membres du réseau discussion physique\n",
    "N_1dim = 5  #nombre de membres du réseau sur une dimension (racine de N)\n",
    "\n",
    "#initialisation :\n",
    "Reseau_discu={str(k):(0,False,fp,0.5) for k in range(1,N+1) for fp in np.random.uniform(low=0.0, high=1.0,size=N)}\n",
    "Noms_reseau_discu=[k for k in range(N)]\n",
    "\n",
    "\"\"\"size = int(np.random.choice(range(2,10)))\n",
    "Liste_membres_discu = np.random.choice(Noms_reseau_discu,size,replace=False)\n",
    "print('Membres de la discussion',Liste_membres_discu)\"\"\"\n",
    "\n",
    "#Réseau à valeurs quelconques (au milieu de la simulation par exemple)\n",
    "Test_reseau={str(k):(np.random.choice([0,1]),np.random.choice([False,True]),np.random.random_sample(),np.random.random_sample()) for k in range(1,N+1)}\n",
    "print('Réseau aléatoire :',Test_reseau)\n",
    "\n",
    "#Représentation des agents en 2 dimensions (sur une matrice) :\n",
    "Agents=np.arange(1,N_1dim*N_1dim+1).reshape(N_1dim,N_1dim)\n",
    "print('Agents :\\n',Agents)"
   ]
  },
  {
   "cell_type": "code",
   "execution_count": 6,
   "metadata": {},
   "outputs": [
    {
     "name": "stdout",
     "output_type": "stream",
     "text": [
      "Population :\n",
      " [[ 1  2  3  4  5]\n",
      " [ 6  7  8  9 10]\n",
      " [11 12 13 14 15]\n",
      " [16 17 18 19 20]\n",
      " [21 22 23 24 25]]\n",
      "Matrice discussion :\n",
      " [[0 0 0]\n",
      " [0 1 2]\n",
      " [0 6 7]]\n"
     ]
    }
   ],
   "source": [
    "#Sélection d'un agent et de son voisinage pour établir un discussion\n",
    "def selection_voisinage(Matrice,i):\n",
    "    '''Sélection aléatoire des voisinages d'un individu\n",
    "    '''\n",
    "    Ma=[]\n",
    "    n=1  #numéro de la ligne\n",
    "\n",
    "    if i//N_1dim==0:\n",
    "        Ma.append([0,0,0])\n",
    "        \n",
    "    for l in Matrice:\n",
    "        if (n==(i//N_1dim) or n==(i//N_1dim+1) or n==(i//N_1dim+2)) and (i%N_1dim!=0):\n",
    "                if (i%N_1dim!=1) and (i%N_1dim!=0):\n",
    "                    Ma.append([l[i%N_1dim-2],l[i%N_1dim-1],l[i%N_1dim]])\n",
    "                    n=n+1\n",
    "                elif (i%N_1dim==1):\n",
    "                    Ma.append([0,l[i%N_1dim-1],l[i%N_1dim]])\n",
    "                    n=n+1\n",
    "        elif (n==(i//N_1dim-1) or n==(i//N_1dim) or n==(i//N_1dim+1)) and (i%N_1dim==0):\n",
    "            Ma.append([l[i%N_1dim-2],l[i%N_1dim-1],0])\n",
    "            n=n+1\n",
    "            \n",
    "        else:\n",
    "            n=n+1\n",
    "            \n",
    "    if i//N_1dim==(N_1dim-1):\n",
    "        Ma.append([0,0,0])\n",
    "    \n",
    "    A=np.mat(Ma)\n",
    "    return A\n",
    "\n",
    "Population=np.arange(1,N_1dim*N_1dim+1).reshape(N_1dim,N_1dim)\n",
    "Mat_discu=selection_voisinage(Population,1)\n",
    "print('Population :\\n',Population)\n",
    "print('Matrice discussion :\\n',selection_voisinage(Population,1))"
   ]
  },
  {
   "cell_type": "code",
   "execution_count": 22,
   "metadata": {
    "scrolled": true
   },
   "outputs": [
    {
     "name": "stdout",
     "output_type": "stream",
     "text": [
      "{'1': (0, False, 0.7203084047432925, 0.6700403071645904), '2': (0, True, 0.002125476242240243, 0.6295951065382434), '3': (0, True, 0.7229085797118171, 0.7364687587049173), '4': (1, False, 0.11893021512502377, 0.802996996017149), '5': (0, False, 0.8231862734871533, 0.255363990414758), '6': (0, False, 0.23964161006032014, 0.6699028376473366), '7': (0, True, 0.4177350888764817, 0.6699028376473366), '8': (1, True, 0.11723050037486094, 0.4282140912755086), '9': (1, True, 0.6469343057672746, 0.2143484909696476), '10': (1, True, 0.7093414763576475, 0.9083845859360067), '11': (1, False, 0.351389280855366, 0.14314119769910383), '12': (0, True, 0.6804718801384179, 0.2762931852648042), '13': (0, False, 0.32235746744803917, 0.4385703271790683), '14': (0, True, 0.5886082061418879, 0.2363124377415975), '15': (0, True, 0.6919750579032161, 0.8664707410772591), '16': (0, False, 0.15935964581858875, 0.777124362570929), '17': (0, True, 0.0818641574336586, 0.14744808049939861), '18': (1, True, 0.9989451722194868, 0.35534444089956074), '19': (0, False, 0.07821845811715755, 0.46385394360115284), '20': (0, True, 0.43352365630248113, 0.019799323586081607), '21': (1, False, 0.9845422704420419, 0.055258795919460146), '22': (1, True, 0.8079540132955422, 0.19978221305436927), '23': (1, True, 0.9619806652472027, 0.3308358295708457), '24': (0, False, 0.7016766338148697, 0.6150637400332413), '25': (1, True, 0.11040227708402917, 0.8392809145543558)}\n"
     ]
    }
   ],
   "source": [
    "#Modification du paramètre px en fonction de la force de persuasion de y et vice versa :\n",
    "def force_persu(x, y, reseau):\n",
    "        \n",
    "    opx,deja_vux,fpx,px=reseau[str(x)]\n",
    "    opy,deja_vuy,fpy,py=reseau[str(y)]\n",
    "    if fpx>fpy:\n",
    "        py=py+fpy*(px-py)\n",
    "    elif fpy>fpx:\n",
    "        px=px+fpx*(py-px)\n",
    "                \n",
    "    reseau[str(x)]=(opx,deja_vux,fpx,px)\n",
    "    reseau[str(y)]=(opy,deja_vuy,fpy,py)\n",
    "    \n",
    "    return reseau\n",
    "\n",
    "\n",
    "\n",
    "#Influence du voisinage :\n",
    "    # si 2 personnes, force persu. Sinon, moyenne des p pondérée des fp, puis si (pi-moy)>seuil, pi ne change pas, sinon pi->moy\n",
    "def influ_voisinage(mat_discu,reseau,seuil):\n",
    "    \n",
    "    P=[]   #liste des convictions des membres de la discussion\n",
    "    F=[]   #liste des forces de persuasion des membres de la discussion\n",
    "    N=[]   #liste des noms des membres de la discussion\n",
    "    a_central=mat_discu[1,1] #agent central de la matrice discu\n",
    "    i=0\n",
    "    \n",
    "    for k in np.nditer(mat_discu):\n",
    "        if k!=0:\n",
    "            op_k,deja_k,fp_k,p_k=reseau[str(k)]\n",
    "            N.append(int(k))\n",
    "            P.append(p_k)\n",
    "            F.append(fp_k)\n",
    "            \n",
    "    if len(N)==2:\n",
    "        reseau=force_persu(N[0],N[1],reseau)\n",
    "    else:\n",
    "        for a in N:\n",
    "            op_a,deja_a,fp_a,p_a=reseau[str(a)]\n",
    "            other_p=P[0:a]+P[a+1:len(P)]\n",
    "            other_fp=F[0:a]+F[a+1:len(F)]            \n",
    "            moy=np.average(other_p,weights=other_fp)\n",
    "            if abs(p_a-moy)<seuil:\n",
    "                p_a=moy\n",
    "            reseau[str(a)]=(op_a,deja_a,fp_a,p_a)\n",
    "    \n",
    "            \n",
    "    return reseau\n",
    "\n",
    "print(influ_voisinage(Mat_discu,Test_reseau,0.2))"
   ]
  },
  {
   "cell_type": "code",
   "execution_count": null,
   "metadata": {},
   "outputs": [],
   "source": []
  }
 ],
 "metadata": {
  "kernelspec": {
   "display_name": "Python 3",
   "language": "python",
   "name": "python3"
  },
  "language_info": {
   "codemirror_mode": {
    "name": "ipython",
    "version": 3
   },
   "file_extension": ".py",
   "mimetype": "text/x-python",
   "name": "python",
   "nbconvert_exporter": "python",
   "pygments_lexer": "ipython3",
   "version": "3.6.4"
  }
 },
 "nbformat": 4,
 "nbformat_minor": 2
}
