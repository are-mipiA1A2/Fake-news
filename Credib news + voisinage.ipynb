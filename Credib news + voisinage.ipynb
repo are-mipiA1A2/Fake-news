{
 "cells": [
  {
   "cell_type": "markdown",
   "metadata": {},
   "source": [
    "**Influence de la crédibilité de la news sur p**"
   ]
  },
  {
   "cell_type": "code",
   "execution_count": 128,
   "metadata": {
    "scrolled": true
   },
   "outputs": [
    {
     "name": "stdout",
     "output_type": "stream",
     "text": [
      "Crédibilité de l'info: 0.08457030692231526\n",
      "0.74\n"
     ]
    }
   ],
   "source": [
    "#numpy.random.choice(liste(ou entier) , taille de l'array , replace=False pour pas avoir deux fois la meme valeur , proba)\n",
    "\n",
    "import numpy as np\n",
    "import random as rd\n",
    "\n",
    "\n",
    "news = np.random.random_sample()\n",
    "print('Crédibilité de l\\'info:',news)\n",
    "\n",
    "def influ_credib_news(news,p):\n",
    "    i = p\n",
    "    i = i+news*(news-i)\n",
    "    return i\n",
    "\n",
    "print(influ_credib_news(0.8,0.5))"
   ]
  },
  {
   "cell_type": "markdown",
   "metadata": {},
   "source": [
    "**Influence du voisinage sur p**"
   ]
  },
  {
   "cell_type": "code",
   "execution_count": 148,
   "metadata": {},
   "outputs": [
    {
     "name": "stdout",
     "output_type": "stream",
     "text": [
      "Membres de la discussion ['2' '0' '10' '8' '7']\n",
      "[['0' '2' '7']\n",
      " ['8' '10' '00']\n",
      " ['00' '00' '00']]\n"
     ]
    }
   ],
   "source": [
    "N=15\n",
    "#description d'un agent : (nom,opinion,deja_vu,persuasion)\n",
    "Reseau_discu=[(str(k),0,False,0.5) for k in range(N)]\n",
    "Membres_reseau_discu=[str(k) for k in range(N)]\n",
    "#print(Reseau_discu)\n",
    "\n",
    "size = int(np.random.choice(range(2,10)))\n",
    "Discu = np.random.choice(Membres_reseau_discu,size,replace=False)\n",
    "print('Membres de la discussion',Discu)\n",
    "\n",
    "def matrice_discu(L,p):\n",
    "    matrice=np.matrix([['00','00','00'],['00','00','00'],['00','00','00']])\n",
    "    i=0\n",
    "    j=0\n",
    "    for (nom,opinion,deja_vu,persu) in Reseau_discu:\n",
    "        if nom in L:\n",
    "            matrice[i,j]=nom\n",
    "            if j!=2:\n",
    "                j=j+1\n",
    "            elif j==2:\n",
    "                j=0\n",
    "                i=i+1\n",
    "    return matrice\n",
    "    \n",
    "print(matrice_discu(Discu.copy(),0.5))\n",
    "\n",
    "\n",
    "def influ_voisinage"
   ]
  }
 ],
 "metadata": {
  "kernelspec": {
   "display_name": "Python 3",
   "language": "python",
   "name": "python3"
  },
  "language_info": {
   "codemirror_mode": {
    "name": "ipython",
    "version": 3
   },
   "file_extension": ".py",
   "mimetype": "text/x-python",
   "name": "python",
   "nbconvert_exporter": "python",
   "pygments_lexer": "ipython3",
   "version": "3.4.2"
  }
 },
 "nbformat": 4,
 "nbformat_minor": 2
}
