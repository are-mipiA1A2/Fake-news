{
 "cells": [
  {
   "cell_type": "markdown",
   "metadata": {},
   "source": [
    "**Influence de la crédibilité de la news sur p**"
   ]
  },
  {
   "cell_type": "code",
   "execution_count": 39,
   "metadata": {
    "scrolled": true
   },
   "outputs": [
    {
     "name": "stdout",
     "output_type": "stream",
     "text": [
      "Crédibilité de l'info: 0.5887391057618591\n",
      "0.74\n"
     ]
    }
   ],
   "source": [
    "#numpy.random.choice(liste(ou entier) , taille de l'array , replace=False pour pas avoir deux fois la meme valeur , proba)\n",
    "\n",
    "import numpy as np\n",
    "import random as rd\n",
    "\n",
    "\n",
    "news = np.random.random_sample()\n",
    "print('Crédibilité de l\\'info:',news)\n",
    "\n",
    "def influ_credib_news(news,p):\n",
    "    #news: crédibilité de la news\n",
    "    #p: param déterminant le chgt ou non de l'opinion    \n",
    "    i = p\n",
    "    i = i+news*(news-i)\n",
    "    return i\n",
    "\n",
    "print(influ_credib_news(0.8,0.5))"
   ]
  },
  {
   "cell_type": "markdown",
   "metadata": {},
   "source": [
    "**Influence du voisinage sur p**"
   ]
  },
  {
   "cell_type": "code",
   "execution_count": 30,
   "metadata": {},
   "outputs": [
    {
     "data": {
      "text/plain": [
       "\"N=15 #nombre de membres du réseau discussion physique\\n#description d'un agent : (nom,opinion,deja_vu,persuasion,chgt_opinion)\\nReseau_discu={str(k):(0,False,fp,0.5) for k in range(N) for fp in np.random.uniform(low=0.0, high=1.0,size=N)}\\nNoms_reseau_discu=[str(k) for k in range(N)]\\n\\nsize = int(np.random.choice(range(2,10)))\\nDiscu = np.random.choice(Noms_reseau_discu,size,replace=False)\\nprint('Membres de la discussion',Discu)\\n\\ndef matrice_discu(L,reseau):\\n    matrice=np.matrix([['00','00','00'],['00','00','00'],['00','00','00']])\\n    i=0\\n    j=0\\n    for (nom,(opinion,deja_vu,persu,p)) in reseau.items():\\n        if nom in L:\\n            matrice[i,j]=nom\\n            if j!=2:\\n                j=j+1\\n            elif j==2:\\n                j=0\\n                i=i+1\\n    return matrice\\n    \\nprint('Matrice discussion :\\n',matrice_discu(Discu.copy(),Reseau_discu))\\n\\nTest_reseau=[(str(k),np.random.choice([0,1]),np.random.choice([False,True]),np.random.random_sample(),np.random.random_sample()) for k in range(N)]\\nprint('Réseau aléatoire :',Test_reseau)\\n\\ndef influ_voisinage(discussion,reseau):\\n    \\n    P=[]    #liste des p (conviction) des agents de la discussion\\n    for listes in discussion:\\n        for k in listes:\\n            for (nom,opinion,deja_vu,persu,p) in reseau:\\n                if k == str(nom):\\n                    if deja_vu:\\n                        P.append(p)\\n    plus_convaincu=max(P)     #p du plus convaincu\\n    moins_convaicnu=min(P)    #p du moins convaincu\\n    pi=0.5                    #current conviction\\n    Pi=[]                     #list of the current convictions\\n    for listes in discussion:\\n        for k in listes:\\n            for (nom,opinion,deja_vu,persu,p) in reseau.items():\\n                if k == str(nom):\\n                    pi=p\\n                    if pi<plus_convaincu:\\n                        pi=pi+((plus_convaincu-pi)/2)\\n                    if pi>moins_convaincu:\\n                        pi=pi+((moins_convaincu-pi)/2)\\n                    Pi.append(nom,pi)\\n    for (name,pi) in Pi:\\n        for (nom,opinion,deja_vu,persu,p) in reseau:\\n            if name == str(nom):\\n                p=pi\\n    return reseau\\n\\nprint(influ_voisinage(matrice_discu(Discu.copy()),Test_reseau))\""
      ]
     },
     "execution_count": 30,
     "metadata": {},
     "output_type": "execute_result"
    }
   ],
   "source": [
    "\"\"\"N=15 #nombre de membres du réseau discussion physique\n",
    "#description d'un agent : (nom,opinion,deja_vu,persuasion,chgt_opinion)\n",
    "Reseau_discu={str(k):(0,False,fp,0.5) for k in range(N) for fp in np.random.uniform(low=0.0, high=1.0,size=N)}\n",
    "Noms_reseau_discu=[str(k) for k in range(N)]\n",
    "\n",
    "size = int(np.random.choice(range(2,10)))\n",
    "Discu = np.random.choice(Noms_reseau_discu,size,replace=False)\n",
    "print('Membres de la discussion',Discu)\n",
    "\n",
    "def matrice_discu(L,reseau):\n",
    "    matrice=np.matrix([['00','00','00'],['00','00','00'],['00','00','00']])\n",
    "    i=0\n",
    "    j=0\n",
    "    for (nom,(opinion,deja_vu,persu,p)) in reseau.items():\n",
    "        if nom in L:\n",
    "            matrice[i,j]=nom\n",
    "            if j!=2:\n",
    "                j=j+1\n",
    "            elif j==2:\n",
    "                j=0\n",
    "                i=i+1\n",
    "    return matrice\n",
    "    \n",
    "print('Matrice discussion :\\n',matrice_discu(Discu.copy(),Reseau_discu))\n",
    "\n",
    "Test_reseau=[(str(k),np.random.choice([0,1]),np.random.choice([False,True]),np.random.random_sample(),np.random.random_sample()) for k in range(N)]\n",
    "print('Réseau aléatoire :',Test_reseau)\n",
    "\n",
    "def influ_voisinage(discussion,reseau):\n",
    "    \n",
    "    P=[]    #liste des p (conviction) des agents de la discussion\n",
    "    for listes in discussion:\n",
    "        for k in listes:\n",
    "            for (nom,opinion,deja_vu,persu,p) in reseau:\n",
    "                if k == str(nom):\n",
    "                    if deja_vu:\n",
    "                        P.append(p)\n",
    "    plus_convaincu=max(P)     #p du plus convaincu\n",
    "    moins_convaicnu=min(P)    #p du moins convaincu\n",
    "    pi=0.5                    #current conviction\n",
    "    Pi=[]                     #list of the current convictions\n",
    "    for listes in discussion:\n",
    "        for k in listes:\n",
    "            for (nom,opinion,deja_vu,persu,p) in reseau.items():\n",
    "                if k == str(nom):\n",
    "                    pi=p\n",
    "                    if pi<plus_convaincu:\n",
    "                        pi=pi+((plus_convaincu-pi)/2)\n",
    "                    if pi>moins_convaincu:\n",
    "                        pi=pi+((moins_convaincu-pi)/2)\n",
    "                    Pi.append(nom,pi)\n",
    "    for (name,pi) in Pi:\n",
    "        for (nom,opinion,deja_vu,persu,p) in reseau:\n",
    "            if name == str(nom):\n",
    "                p=pi\n",
    "    return reseau\n",
    "\n",
    "print(influ_voisinage(matrice_discu(Discu.copy()),Test_reseau))\"\"\""
   ]
  },
  {
   "cell_type": "code",
   "execution_count": 18,
   "metadata": {
    "scrolled": true
   },
   "outputs": [
    {
     "name": "stdout",
     "output_type": "stream",
     "text": [
      "Membres de la discussion [23 10 12 17  8 16  4  2]\n",
      "Réseau aléatoire : {'17': (1, False, 0.9042574864519366, 0.25144352017936544), '11': (1, False, 0.7233288069598902, 0.9005134129598105), '9': (1, True, 0.7982143247703694, 0.8088303170772944), '5': (0, True, 0.7903717921093343, 0.09546070276936625), '12': (1, True, 0.6174189632905707, 0.9364229162869907), '3': (0, True, 0.7513024250420219, 0.7736451673991783), '24': (0, False, 0.7865398451222205, 0.4652299979420932), '22': (1, False, 0.27905485045489375, 0.4766069298664686), '16': (0, False, 0.1780169033225626, 0.6663588700792893), '8': (1, True, 0.45827563620857004, 0.5353125854060017), '13': (0, False, 0.3512935091348638, 0.8694769733609649), '21': (1, False, 0.35734728630224355, 0.9594241620996065), '23': (0, True, 0.9291835554953728, 0.8219467313463689), '19': (0, False, 0.8431313485434869, 0.3857674922403137), '15': (0, True, 0.043207684403046676, 0.30416844561528755), '10': (0, True, 0.28314218481591247, 0.4674377146361638), '20': (1, False, 0.3434959736577333, 0.9864256935780481), '1': (1, False, 0.48156297349852173, 0.3356689548376951), '7': (0, True, 0.7033315081811269, 0.037723470421850425), '14': (0, True, 0.7133286235027858, 0.4482083062924451), '2': (0, True, 0.008054899418335704, 0.10864632337691216), '18': (1, True, 0.8130558176841587, 0.5515035868937789), '6': (0, False, 0.2348047858162856, 0.5748517573969836), '4': (1, False, 0.9556462698748105, 0.746258938596878), '25': (1, False, 0.33397181563853406, 0.6790749217902019)}\n",
      "Agents :\n",
      " [[ 1  2  3  4  5]\n",
      " [ 6  7  8  9 10]\n",
      " [11 12 13 14 15]\n",
      " [16 17 18 19 20]\n",
      " [21 22 23 24 25]]\n"
     ]
    }
   ],
   "source": [
    "#description d'un agent : nom:(opinion,deja_vu,force_de_persuasion,conviction)\n",
    "N = 25      #nombre de membres du réseau discussion physique\n",
    "N_1dim = 5  #nombre de membres du réseau sur une dimension (racine de N)\n",
    "\n",
    "#initialisation :\n",
    "Reseau_discu={str(k):(0,False,fp,0.5) for k in range(1,N+1) for fp in np.random.uniform(low=0.0, high=1.0,size=N)}\n",
    "Noms_reseau_discu=[k for k in range(N)]\n",
    "\n",
    "\"\"\"size = int(np.random.choice(range(2,10)))\n",
    "Liste_membres_discu = np.random.choice(Noms_reseau_discu,size,replace=False)\n",
    "print('Membres de la discussion',Liste_membres_discu)\"\"\"\"\n",
    "\n",
    "#Réseau à valeurs quelconques (au milieu de la simulation par exemple)\n",
    "Test_reseau={str(k):(np.random.choice([0,1]),np.random.choice([False,True]),np.random.random_sample(),np.random.random_sample()) for k in range(1,N+1)}\n",
    "print('Réseau aléatoire :',Test_reseau)\n",
    "\n",
    "#Représentation des agents en 2 dimensions (sur une matrice) :\n",
    "Agents=np.arange(1,N_1dim*N_1dim+1).reshape(N_1dim,N_1dim)\n",
    "print('Agents :\\n',Agents)"
   ]
  },
  {
   "cell_type": "code",
   "execution_count": 46,
   "metadata": {},
   "outputs": [
    {
     "name": "stdout",
     "output_type": "stream",
     "text": [
      "Population :\n",
      " [[ 1  2  3  4  5]\n",
      " [ 6  7  8  9 10]\n",
      " [11 12 13 14 15]\n",
      " [16 17 18 19 20]\n",
      " [21 22 23 24 25]]\n",
      "Matrice discussion :\n",
      " [[0 0 0]\n",
      " [0 1 2]\n",
      " [0 6 7]]\n"
     ]
    }
   ],
   "source": [
    "#Sélection d'un agent et de son voisinage pour établir un discussion\n",
    "def selection_voisinage(Matrice,i):\n",
    "    '''Sélection aléatoire des voisinages d'un individu\n",
    "    '''\n",
    "    Ma=[]\n",
    "    n=1  #numéro de la ligne\n",
    "\n",
    "    if i//N_1dim==0:\n",
    "        Ma.append([0,0,0])\n",
    "        \n",
    "    for l in Matrice:\n",
    "        if (n==(i//N_1dim) or n==(i//N_1dim+1) or n==(i//N_1dim+2)) and (i%N_1dim!=0):\n",
    "                if (i%N_1dim!=1) and (i%N_1dim!=0):\n",
    "                    Ma.append([l[i%N_1dim-2],l[i%N_1dim-1],l[i%N_1dim]])\n",
    "                    n=n+1\n",
    "                elif (i%N_1dim==1):\n",
    "                    Ma.append([0,l[i%N_1dim-1],l[i%N_1dim]])\n",
    "                    n=n+1\n",
    "        elif (n==(i//N_1dim-1) or n==(i//N_1dim) or n==(i//N_1dim+1)) and (i%N_1dim==0):\n",
    "            Ma.append([l[i%N_1dim-2],l[i%N_1dim-1],0])\n",
    "            n=n+1\n",
    "            \n",
    "        else:\n",
    "            n=n+1\n",
    "            \n",
    "    if i//N_1dim==(N_1dim-1):\n",
    "        Ma.append([0,0,0])\n",
    "    \n",
    "    A=np.mat(Ma)\n",
    "    return A\n",
    "\n",
    "Population=np.arange(1,N_1dim*N_1dim+1).reshape(N_1dim,N_1dim)\n",
    "Mat_discu=selection_voisinage(Population,1)\n",
    "print('Population :\\n',Population)\n",
    "print('Matrice discussion :\\n',selection_voisinage(Population,1))"
   ]
  },
  {
   "cell_type": "code",
   "execution_count": 64,
   "metadata": {
    "scrolled": true
   },
   "outputs": [
    {
     "name": "stdout",
     "output_type": "stream",
     "text": [
      "{'17': (0, False, 0.7373112812573912, 0.5), '11': (0, False, 0.4214337568566501, 0.5), '9': (0, False, 0.5387831094461808, 0.5), '5': (0, False, 0.5916401359145931, 0.5), '12': (0, False, 0.5898682074588764, 0.5), '3': (0, False, 0.16642994276408507, 0.5), '24': (0, False, 0.7235093909153378, 0.5), '22': (0, False, 0.9679502731185755, 0.5), '16': (0, False, 0.9897359997448446, 0.5), '8': (0, False, 0.8061358499503103, 0.5), '13': (0, False, 0.9902305164783051, 0.5), '21': (0, False, 0.11284259443553102, 0.5), '23': (0, False, 0.4087701843569005, 0.5), '19': (0, False, 0.6037363037144746, 0.5), '15': (0, False, 0.6157181290730674, 0.5), '10': (0, False, 0.9100034210586934, 0.5), '20': (0, False, 0.23717221338010797, 0.5), '1': (0, False, 0.44760635933438875, 0.5), '7': (0, False, 0.3816041299284264, 0.5), '14': (0, False, 0.1861742593315049, 0.5), '2': (0, False, 0.9539797011478132, 0.5), '18': (0, False, 0.39730754165534454, 0.5), '6': (0, False, 0.3703585668431252, 0.5), '4': (0, False, 0.6527373249314107, 0.5), '25': (0, False, 0.8085617276642778, 0.5)}\n",
      "[1, 2, 6, 7]\n",
      "0.22762270610317628\n",
      "0.15847527443400597\n",
      "0.2269514821500439\n",
      "0.2269514821500439\n"
     ]
    }
   ],
   "source": [
    "#Modification du paramètre px en fonction de la force de persuasion de y et vice versa :\n",
    "def force_persu(x, y, reseau):\n",
    "        \n",
    "    opx,deja_vux,fpx,px=reseau[str(x)]\n",
    "    opy,deja_vuy,fpy,py=reseau[str(y)]\n",
    "    if fpx>fpy:\n",
    "        py=py+fpy*(px-py)\n",
    "    elif fpy>fpx:\n",
    "        px=px+fpx*(py-px)\n",
    "                \n",
    "    reseau[str(x)]=(opx,deja_vux,fpx,px)\n",
    "    reseau[str(y)]=(opy,deja_vuy,fpy,py)\n",
    "    \n",
    "    return reseau\n",
    "\n",
    "print(force_persu(1,7,Reseau_discu))\n",
    "\n",
    "\n",
    "#Influence du voisinage :\n",
    "    # si 2 personnes, force persu. Sinon, moyenne des p pondérée des fp, puis si (pi-moy)>seuil, pi ne change pas, sinon pi->moy\n",
    "def influ_voisinage(mat_discu,reseau,seuil):\n",
    "    \n",
    "    P=[]   #liste des convictions des membres de la discussion\n",
    "    F=[]   #liste des forces de persuasion des membres de la discussion\n",
    "    N=[]   #liste des noms des membres de la discussion\n",
    "    a_central=mat_discu[1,1] #agent central de la matrice discu\n",
    "    i=0\n",
    "    \n",
    "    for k in np.nditer(mat_discu):\n",
    "        if k!=0:\n",
    "            op_k,deja_k,fp_k,p_k=reseau[str(k)]\n",
    "            N.append(int(k))\n",
    "            P.append(p_k)\n",
    "            F.append(fp_k)\n",
    "    print(N)\n",
    "            \n",
    "    if len(N)==2:\n",
    "        reseau=force_persu(N[0],N[1],reseau)\n",
    "    else:\n",
    "        for a in N:\n",
    "            other_p=P[0:a]+P[a+1:len(P)]\n",
    "            other_fp=F[0:a]+F[a+1:len(F)]            \n",
    "            moyenne=np.average(other_p,weights=other_fp)\n",
    "            print(moyenne)\n",
    "    return None\n",
    "influ_voisinage(Mat_discu,Test_reseau,0.5)"
   ]
  },
  {
   "cell_type": "code",
   "execution_count": 62,
   "metadata": {},
   "outputs": [
    {
     "name": "stdout",
     "output_type": "stream",
     "text": [
      "[0, 1, 3, 4, 5]\n"
     ]
    }
   ],
   "source": [
    "L = [0,1,2,3,4,5]\n",
    "M = L[0:2]+L[3:6]\n",
    "print(M)\n",
    "\n"
   ]
  },
  {
   "cell_type": "code",
   "execution_count": null,
   "metadata": {},
   "outputs": [],
   "source": []
  }
 ],
 "metadata": {
  "kernelspec": {
   "display_name": "Python 3",
   "language": "python",
   "name": "python3"
  },
  "language_info": {
   "codemirror_mode": {
    "name": "ipython",
    "version": 3
   },
   "file_extension": ".py",
   "mimetype": "text/x-python",
   "name": "python",
   "nbconvert_exporter": "python",
   "pygments_lexer": "ipython3",
   "version": "3.4.2"
  }
 },
 "nbformat": 4,
 "nbformat_minor": 2
}
