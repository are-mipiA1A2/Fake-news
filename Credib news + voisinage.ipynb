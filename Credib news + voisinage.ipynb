{
 "cells": [
  {
   "cell_type": "markdown",
   "metadata": {},
   "source": [
    "**Influence de la crédibilité de la news sur p**"
   ]
  },
  {
   "cell_type": "code",
   "execution_count": 1,
   "metadata": {
    "scrolled": true
   },
   "outputs": [
    {
     "name": "stdout",
     "output_type": "stream",
     "text": [
      "Crédibilité de l'info: 0.08914771909282393\n",
      "0.74\n"
     ]
    }
   ],
   "source": [
    "#numpy.random.choice(liste(ou entier) , taille de l'array , replace=False pour pas avoir deux fois la meme valeur , proba)\n",
    "\n",
    "import numpy as np\n",
    "import random as rd\n",
    "\n",
    "\n",
    "news = np.random.random_sample()\n",
    "print('Crédibilité de l\\'info:',news)\n",
    "\n",
    "def influ_credib_news(news,p):\n",
    "    #news: crédibilité de la news\n",
    "    #p: param déterminant le chgt ou non de l'opinion    \n",
    "    i = p\n",
    "    i = i+news*(news-i)\n",
    "    return i\n",
    "\n",
    "print(influ_credib_news(0.8,0.5))"
   ]
  },
  {
   "cell_type": "markdown",
   "metadata": {},
   "source": [
    "**Influence du voisinage sur p**"
   ]
  },
  {
   "cell_type": "code",
   "execution_count": 18,
   "metadata": {},
   "outputs": [
    {
     "name": "stdout",
     "output_type": "stream",
     "text": [
      "Membres de la discussion ['11' '0' '9' '10' '12' '8' '3']\n",
      "[['0' '3' '8']\n",
      " ['9' '10' '11']\n",
      " ['12' '00' '00']]\n",
      "Réseau aléatoire : [('0', 1, False, 0.25014500621656777, 0.6630857071490432), ('1', 1, False, 0.44552510234153175, 0.556640925039278), ('2', 0, False, 0.3695236403311023, 0.9682912008078888), ('3', 1, True, 0.21754757037119332, 0.21573458126224898), ('4', 0, False, 0.7081671300955815, 0.6294567679641961), ('5', 0, True, 0.7723391028402312, 0.8592560403267031), ('6', 1, True, 0.12558748605478565, 0.4656572135597321), ('7', 0, True, 0.6229858114124766, 0.8412696850934159), ('8', 1, True, 0.8563649265646917, 0.05256577219205272), ('9', 1, False, 0.6493452515750189, 0.3572445888092771), ('10', 0, True, 0.14219867439156664, 0.6699813033389755), ('11', 0, True, 0.38337293204374945, 0.5688628536959365), ('12', 1, True, 0.08934566993950455, 0.7722575974756065), ('13', 1, False, 0.8213548454017232, 0.5730156155627216), ('14', 1, True, 0.64448165478676, 0.03760509159603864)]\n"
     ]
    },
    {
     "ename": "ValueError",
     "evalue": "The truth value of an array with more than one element is ambiguous. Use a.any() or a.all()",
     "output_type": "error",
     "traceback": [
      "\u001b[0;31m---------------------------------------------------------------------------\u001b[0m",
      "\u001b[0;31mValueError\u001b[0m                                Traceback (most recent call last)",
      "\u001b[0;32m<ipython-input-18-d298be24d59e>\u001b[0m in \u001b[0;36m<module>\u001b[0;34m()\u001b[0m\n\u001b[1;32m     54\u001b[0m     \u001b[0;32mreturn\u001b[0m \u001b[0mreseau\u001b[0m\u001b[0;34m\u001b[0m\u001b[0m\n\u001b[1;32m     55\u001b[0m \u001b[0;34m\u001b[0m\u001b[0m\n\u001b[0;32m---> 56\u001b[0;31m \u001b[0mprint\u001b[0m\u001b[0;34m(\u001b[0m\u001b[0minflu_voisinage\u001b[0m\u001b[0;34m(\u001b[0m\u001b[0mmatrice_discu\u001b[0m\u001b[0;34m(\u001b[0m\u001b[0mDiscu\u001b[0m\u001b[0;34m.\u001b[0m\u001b[0mcopy\u001b[0m\u001b[0;34m(\u001b[0m\u001b[0;34m)\u001b[0m\u001b[0;34m)\u001b[0m\u001b[0;34m,\u001b[0m\u001b[0mTest_reseau\u001b[0m\u001b[0;34m)\u001b[0m\u001b[0;34m)\u001b[0m\u001b[0;34m\u001b[0m\u001b[0m\n\u001b[0m",
      "\u001b[0;32m<ipython-input-18-d298be24d59e>\u001b[0m in \u001b[0;36minflu_voisinage\u001b[0;34m(discussion, reseau)\u001b[0m\n\u001b[1;32m     32\u001b[0m     \u001b[0;32mfor\u001b[0m \u001b[0mk\u001b[0m \u001b[0;32min\u001b[0m \u001b[0mdiscussion\u001b[0m\u001b[0;34m:\u001b[0m\u001b[0;34m\u001b[0m\u001b[0m\n\u001b[1;32m     33\u001b[0m         \u001b[0;32mfor\u001b[0m \u001b[0;34m(\u001b[0m\u001b[0mnom\u001b[0m\u001b[0;34m,\u001b[0m\u001b[0mopinion\u001b[0m\u001b[0;34m,\u001b[0m\u001b[0mdeja_vu\u001b[0m\u001b[0;34m,\u001b[0m\u001b[0mpersu\u001b[0m\u001b[0;34m,\u001b[0m\u001b[0mp\u001b[0m\u001b[0;34m)\u001b[0m \u001b[0;32min\u001b[0m \u001b[0mreseau\u001b[0m\u001b[0;34m:\u001b[0m\u001b[0;34m\u001b[0m\u001b[0m\n\u001b[0;32m---> 34\u001b[0;31m             \u001b[0;32mif\u001b[0m \u001b[0mk\u001b[0m \u001b[0;34m==\u001b[0m \u001b[0mnom\u001b[0m\u001b[0;34m:\u001b[0m\u001b[0;34m\u001b[0m\u001b[0m\n\u001b[0m\u001b[1;32m     35\u001b[0m                 \u001b[0;32mif\u001b[0m \u001b[0mdeja_vu\u001b[0m\u001b[0;34m:\u001b[0m\u001b[0;34m\u001b[0m\u001b[0m\n\u001b[1;32m     36\u001b[0m                     \u001b[0mP\u001b[0m\u001b[0;34m.\u001b[0m\u001b[0mappend\u001b[0m\u001b[0;34m(\u001b[0m\u001b[0mp\u001b[0m\u001b[0;34m)\u001b[0m\u001b[0;34m\u001b[0m\u001b[0m\n",
      "\u001b[0;31mValueError\u001b[0m: The truth value of an array with more than one element is ambiguous. Use a.any() or a.all()"
     ]
    }
   ],
   "source": [
    "N=15 #nombre de membres du réseau discussion physique\n",
    "#description d'un agent : (nom,opinion,deja_vu,persuasion,chgt_opinion)\n",
    "Reseau_discu=[(str(k),0,False,0.5,0.5) for k in range(N)]\n",
    "Noms_reseau_discu=[str(k) for k in range(N)]\n",
    "\n",
    "size = int(np.random.choice(range(2,10)))\n",
    "Discu = np.random.choice(Noms_reseau_discu,size,replace=False)\n",
    "print('Membres de la discussion',Discu)\n",
    "\n",
    "def matrice_discu(L):\n",
    "    matrice=np.matrix([['00','00','00'],['00','00','00'],['00','00','00']])\n",
    "    i=0\n",
    "    j=0\n",
    "    for (nom,opinion,deja_vu,persu,p) in Reseau_discu:\n",
    "        if nom in L:\n",
    "            matrice[i,j]=nom\n",
    "            if j!=2:\n",
    "                j=j+1\n",
    "            elif j==2:\n",
    "                j=0\n",
    "                i=i+1\n",
    "    return matrice\n",
    "    \n",
    "print(matrice_discu(Discu.copy()))\n",
    "\n",
    "Test_reseau=[(str(k),np.random.choice([0,1]),np.random.choice([False,True]),np.random.random_sample(),np.random.random_sample()) for k in range(N)]\n",
    "print('Réseau aléatoire :',Test_reseau)\n",
    "\n",
    "def influ_voisinage(discussion,reseau):\n",
    "    \n",
    "    P=[]    #liste des p(conviction) de la discussion\n",
    "    for k in discussion:\n",
    "        for (nom,opinion,deja_vu,persu,p) in reseau:\n",
    "            if k == nom:\n",
    "                if deja_vu:\n",
    "                    P.append(p)\n",
    "    plus_convaincu=max(P)     #p du plus convaincu\n",
    "    moins_convaicnu=min(P)    #p du moins convaincu\n",
    "    pi=0.5                    #current conviction\n",
    "    Pi=[]                     #list of the current convictions\n",
    "    for k in discussion:\n",
    "        for (nom,opinion,deja_vu,persu,p) in reseau:\n",
    "            if k == nom:\n",
    "                pi=p\n",
    "                if pi<plus_convaincu:\n",
    "                    pi=pi+((plus_convaincu-pi)/2)\n",
    "                if pi>moins_convaincu:\n",
    "                    pi=pi+((moins_convaincu-pi)/2)\n",
    "                Pi.append(nom,pi)\n",
    "    for (name,pi) in Pi:\n",
    "        for (nom,opinion,deja_vu,persu,p) in reseau:\n",
    "            if name == nom:\n",
    "                p=pi\n",
    "    return reseau\n",
    "\n",
    "print(influ_voisinage(matrice_discu(Discu.copy()),Test_reseau))"
   ]
  }
 ],
 "metadata": {
  "kernelspec": {
   "display_name": "Python 3",
   "language": "python",
   "name": "python3"
  },
  "language_info": {
   "codemirror_mode": {
    "name": "ipython",
    "version": 3
   },
   "file_extension": ".py",
   "mimetype": "text/x-python",
   "name": "python",
   "nbconvert_exporter": "python",
   "pygments_lexer": "ipython3",
   "version": "3.4.2"
  }
 },
 "nbformat": 4,
 "nbformat_minor": 2
}
