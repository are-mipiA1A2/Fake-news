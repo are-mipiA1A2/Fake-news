{
 "cells": [
  {
   "cell_type": "markdown",
   "metadata": {},
   "source": [
    "# Discussion physique"
   ]
  },
  {
   "cell_type": "markdown",
   "metadata": {},
   "source": [
    "Dans cette première partie, nous nous concentrerons sur la propagation d'une fake news par le seul biais d'une interaction entre agents physiquement proches. Cette discussion pourra avoir lieu **entre 2 à 9 personnes**.\n",
    "\n",
    "On rappelle la description d'un agent : \n",
    "\n",
    "|Caractéristique||Nom    |Type   |Intervalle     |Valeur initiale  | Fixe ?    |\n",
    "|:-------------:||:-----:|:-----:|:-------------:|:---------------:|:---------:|\n",
    "|**Nom** : nom de l'agent (clé du dict)                                  ||**nom**    |str    |[str(0),str(N)]|str(k)|Oui|\n",
    "|**Opinion** : y croit (1) ou non (0)                                    ||**op**     |int    |[0,1]          |0     |Non|\n",
    "|**Déjà vu** : a déjà été confronté à la news (True) ou pas (False)      ||**deja_vu**|bool   |[True,False]   |False |Non|\n",
    "|**Force de persuasion** : capacité à convaincre qqun (accrue qd tend vers 1) ||**fp**|float  |[0,1]          |Random|Oui|\n",
    "|**Conviction** : caractérise la conviction à la news (tend vers 1) ou non (tend vers 0)||**p**|float  |[0,1] |0.5   |Non| \n",
    "\n",
    "**Processus de discussion détaillé :** \n",
    "- **1ère étape : Mise à jour des convictions**  \n",
    "\n",
    "A partir d'une matrice représentant l'ensemble de la population, nous sélectionnerons un agent et son voisinage pour créer une liste de 2 à 9 personnes : la **liste discussion**.\n",
    "- si il n'y a que _2 personnes_ dans la liste discussion, seule la **force de persuasion** influera et ce sur un seul agent, celui dont la force de persuasion est la plus faible. Celle-ci est régie par la loi suivante : lorsque $  fp_i $ < $  fp_j $ on applique la formule: $ p_i \\leftarrow p_i + fp_i  \\cdot ( p_j - p_i ) $\n",
    "- si la discussion comprend _de 3 à 9 personnes_, ce sera le **voisinage** qui influera sur la conviction de chacun selon la loi suivante. Chaque individu modifie sa conviction en fonction de la moyenne des convictions des autres pondérée de leur force de persuasion ($ moy = \\frac{\\sum p_i*fp_i}{\\sum fp_i} $) et du seuil de persuasion $\\sigma$ : si $ |p_i-moy| < \\sigma $, alors $ p_i \\leftarrow moy $ sinon, $p_i$ ne change pas.  \n",
    "\n",
    "De plus, la conviction sera affectée par la **crédibilité de la news** $news$ par la loi suivante : $ p_i \\leftarrow p_i + fp_i \\cdot ( news - p_i ) $ \n",
    "- **2ème étape : Mise à jour des opinions**  \n",
    "Pour chaque agent, on modifie son opinion en fonction de sa conviction : si $ p_i  > 0.5 $ , $op_i$ passe de $0$ à $1$ et inversement."
   ]
  },
  {
   "cell_type": "markdown",
   "metadata": {},
   "source": [
    "# Initialisation du système"
   ]
  },
  {
   "cell_type": "markdown",
   "metadata": {},
   "source": [
    "Nous initialisons **une matrice** de $ N\\_1dim*N\\_1dim=N $ individus (nous nous aviserons donc de choisir N tel qu'il soit un carré parfait). De plus, nous modélisons un réseau discussion par **un dictionaire**, qui associe à chaque individu un tuple, de la forme $ dict[str:tuple[int,bool,float,float]] $. Celui-ci représentera intégralement un agent et ses caractéristiques."
   ]
  },
  {
   "cell_type": "code",
   "execution_count": 1,
   "metadata": {
    "scrolled": true
   },
   "outputs": [
    {
     "name": "stdout",
     "output_type": "stream",
     "text": [
      "Réseau aléatoire :\n",
      " {'1': (0, False, 0.7346610644792022, 0.6477871249978855), '2': (0, False, 0.45525028831027037, 0.26946477240128097), '3': (1, False, 0.912963782459134, 0.22072990873325526), '4': (1, False, 0.8862085155815076, 0.757202584897424), '5': (1, False, 0.9825138050903007, 0.9631282079132993), '6': (1, False, 0.028747756157672333, 0.900310729498335), '7': (0, True, 0.002107295007200416, 0.38632638413879294), '8': (0, False, 0.19336685203411685, 0.41955404803995444), '9': (1, True, 0.19662693644421148, 0.5973916975025212), '10': (1, True, 0.8032316100869032, 0.13855506366579617), '11': (0, False, 0.4008885277405718, 0.419208628445233), '12': (0, True, 0.23314933782228642, 0.27837861409227727), '13': (1, False, 0.689953603962745, 0.9893369133950484), '14': (0, False, 0.7325228084721132, 0.9629208077202279), '15': (0, True, 0.13208159666548458, 0.9773101286645968), '16': (0, True, 0.9943512396814158, 0.3566780732467155), '17': (1, False, 0.04211193981001771, 0.875672204483548), '18': (0, False, 0.6478742782225536, 0.521580978114206), '19': (0, False, 0.7355950224429216, 0.3810286830997561), '20': (1, True, 0.013252623858411972, 0.7216551981412856), '21': (1, True, 0.7573602954953781, 0.04603339231734205), '22': (1, False, 0.23418290181284784, 0.25315007563207603), '23': (1, True, 0.8141819948566883, 0.5895678090217558), '24': (1, False, 0.27547215230309097, 0.6499266503575573), '25': (1, True, 0.45340973038363874, 0.8192009224028736), '26': (1, False, 0.0843464559569631, 0.6900439753505022), '27': (0, True, 0.6160383002672526, 0.9885674353466826), '28': (0, True, 0.47488773372865556, 0.06297613608804764), '29': (1, True, 0.37877048917506884, 0.9889032951212711), '30': (1, True, 0.08481073062834388, 0.2745799774978668), '31': (1, True, 0.04916795121563855, 0.9549186273744877), '32': (1, False, 0.7962309491700036, 0.9898262469041501), '33': (1, True, 0.6493880600962325, 0.6043587398735806), '34': (0, True, 0.2888911039500788, 0.11270702808477484), '35': (1, True, 0.19054695812868194, 0.21088448746791943), '36': (0, False, 0.8036773267678554, 0.5472637634682193), '37': (0, False, 0.1399039589917972, 0.42431532568209285), '38': (0, True, 0.5689601862756412, 0.0790097359550338), '39': (1, True, 0.5206129725640497, 0.2640902283505998), '40': (1, False, 0.3372386603217786, 0.6112193397684882), '41': (0, True, 0.621849325312672, 0.8341733314678648), '42': (1, True, 0.6855291787037966, 0.9024329624461949), '43': (1, True, 0.23282508999890594, 0.43661042880280676), '44': (1, True, 0.5239130443472733, 0.6906614533872629), '45': (1, False, 0.6041442257211752, 0.1119414967006177), '46': (1, True, 0.06457051108404854, 0.16140340700799516), '47': (0, True, 0.6026176915107486, 0.8783024908052921), '48': (0, False, 0.13108371542511588, 0.11993475363381256), '49': (1, False, 0.4666109251608651, 0.10479279180775702), '50': (0, False, 0.8172592586268479, 0.4397942519131183), '51': (1, False, 0.994515988970065, 0.27784383035934435), '52': (1, False, 0.6265718706769222, 0.8090596180031419), '53': (1, False, 0.26529178375134765, 0.33005833763774206), '54': (1, True, 0.2796204263124378, 0.44254560894879746), '55': (0, True, 0.19400877893485657, 0.7346524898795904), '56': (1, False, 0.1382884842424369, 0.31459902295217246), '57': (1, True, 0.7672960464037083, 0.9270184649496296), '58': (1, False, 0.9809705057135284, 0.9437832988847805), '59': (0, True, 0.5307953264199156, 0.9095200860660426), '60': (0, False, 0.683416702125764, 0.5185432964717079), '61': (0, True, 0.8618902353214366, 0.4368602581380785), '62': (1, True, 0.7813966339179083, 0.06313181070487806), '63': (0, False, 0.7584818111848629, 0.03127577366107892), '64': (1, True, 0.6827319377312204, 0.2258632220848782), '65': (0, False, 0.8815209263510448, 0.2763388334006607), '66': (1, False, 0.7494128993043554, 0.32064182001708674), '67': (0, False, 0.9252457170760502, 0.697519088462313), '68': (1, True, 0.3840563253220397, 0.8873105989945915), '69': (1, False, 0.8879559314472157, 0.3447954429474438), '70': (1, False, 0.7066104691389236, 0.7077594759224658), '71': (1, True, 0.34208013535387416, 0.17317171586968982), '72': (1, False, 0.6738466494260917, 0.9616116606799799), '73': (1, True, 0.768191220738593, 0.18552885544781572), '74': (0, True, 0.9937533235360066, 0.37430953268988065), '75': (0, True, 0.7739800082440348, 0.5035714800124045), '76': (1, False, 0.40888235056126876, 0.6956091659661733), '77': (0, False, 0.520142762641774, 0.40348449399195185), '78': (1, False, 0.3176290713399441, 0.4239186555937676), '79': (0, True, 0.6602877582578469, 0.397797005987081), '80': (0, False, 0.7842444386113587, 0.5496779484723149), '81': (1, True, 0.2134253529659801, 0.23345352031042277), '82': (0, True, 0.06904145424223129, 0.2025544922714887), '83': (0, True, 0.017487363786915733, 0.5499508630567245), '84': (0, True, 0.2830483631574233, 0.6317519043490912), '85': (0, True, 0.10737429164591472, 0.23202240180566225), '86': (0, True, 0.7735788557721753, 0.10231879625911122), '87': (0, True, 0.2292981353294481, 0.608332024768974), '88': (1, False, 0.8959098427444502, 0.6580410054278337), '89': (0, True, 0.17712402857227139, 0.9573195966573749), '90': (1, False, 0.5164235657405799, 0.044916670625998245), '91': (0, True, 0.8177021601629956, 0.28237115318074857), '92': (0, True, 0.7985778114954192, 0.08600507193987161), '93': (1, False, 0.2897115787057247, 0.25764636104303196), '94': (0, False, 0.9844779668205927, 0.807279285222984), '95': (1, True, 0.9365820336036356, 0.12710756909656096), '96': (1, True, 0.8133378970542452, 0.07604276651594066), '97': (0, True, 0.7145565480495074, 0.5718866963282359), '98': (1, False, 0.4089963261353229, 0.3701594289159613), '99': (1, False, 0.8103635748140661, 0.5024581962431487), '100': (0, False, 0.4318093429035913, 0.8771780456872789), '101': (0, False, 0.3710250841891427, 0.9100735235723889), '102': (0, False, 0.868917061814305, 0.14790964817457775), '103': (0, False, 0.06640067773692282, 0.038318041347403464), '104': (1, False, 0.8803251761724148, 0.07711725072577469), '105': (1, False, 0.03896965559517629, 0.6703915111387677), '106': (1, True, 0.652196762436163, 0.2851870009946925), '107': (1, False, 0.34367253984636004, 0.24811380915285253), '108': (1, True, 0.4094246278142494, 0.7727230212232435), '109': (0, True, 0.34170415688745404, 0.2982888853562171), '110': (0, False, 0.35921283227487344, 0.6423855627551758), '111': (1, True, 0.43911536279977625, 0.330849067253967), '112': (1, True, 0.08036479436358102, 0.4245842083564322), '113': (1, True, 0.2689986073632008, 0.5452496408013542), '114': (0, False, 0.2517883088014973, 0.1526556268561292), '115': (0, True, 0.03383988536313565, 0.9449033027199342), '116': (1, False, 0.3073478989732905, 0.5309478472542511), '117': (1, False, 0.43033471340840035, 0.5628471966526539), '118': (0, True, 0.20700260888942146, 0.6872970626481472), '119': (0, False, 0.5102353850901067, 0.8935692515708831), '120': (1, False, 0.6696078468266423, 0.9528369051792607), '121': (0, False, 0.11315406277493845, 0.41371968095007783)} \n",
      "\n",
      "Agents :\n",
      " [[  1   2   3   4   5   6   7   8   9  10  11]\n",
      " [ 12  13  14  15  16  17  18  19  20  21  22]\n",
      " [ 23  24  25  26  27  28  29  30  31  32  33]\n",
      " [ 34  35  36  37  38  39  40  41  42  43  44]\n",
      " [ 45  46  47  48  49  50  51  52  53  54  55]\n",
      " [ 56  57  58  59  60  61  62  63  64  65  66]\n",
      " [ 67  68  69  70  71  72  73  74  75  76  77]\n",
      " [ 78  79  80  81  82  83  84  85  86  87  88]\n",
      " [ 89  90  91  92  93  94  95  96  97  98  99]\n",
      " [100 101 102 103 104 105 106 107 108 109 110]\n",
      " [111 112 113 114 115 116 117 118 119 120 121]]\n"
     ]
    }
   ],
   "source": [
    "import numpy as np\n",
    "import random\n",
    "\n",
    "#description d'un agent : nom:(opinion, deja_vu , force_de_persuasion , conviction)\n",
    "#                         nom:(   op  , deja_vu ,       fp            ,     p     )\n",
    "N_1dim = 11    #nombre de membres du réseau sur une dimension (racine de N)\n",
    "N = N_1dim**2  #nombre de membres du réseau discussion physique\n",
    "\n",
    "#Initialisation :\n",
    "Reseau_discu={str(k):(0,False,fp,0.5) for k in range(1,N+1) for fp in np.random.uniform(low=0.0, high=1.0,size=N)}\n",
    "Noms_reseau_discu=[k for k in range(N)]\n",
    "\n",
    "#Réseau à valeurs quelconques (au milieu de la simulation par exemple)\n",
    "Test_reseau={str(k):(np.random.choice([0,1]),np.random.choice([False,True]),np.random.random_sample(),np.random.random_sample()) for k in range(1,N+1)}\n",
    "print('Réseau aléatoire :\\n',Test_reseau,'\\n')\n",
    "\n",
    "#Représentation des agents en 2 dimensions (sur une matrice) :\n",
    "Agents=np.arange(1,N_1dim*N_1dim+1).reshape(N_1dim,N_1dim)\n",
    "print('Agents :\\n',Agents)"
   ]
  },
  {
   "cell_type": "markdown",
   "metadata": {},
   "source": [
    "# Facteurs modifiant les paramètres"
   ]
  },
  {
   "cell_type": "markdown",
   "metadata": {},
   "source": [
    "## Influence de la crédibilité de la news sur p"
   ]
  },
  {
   "cell_type": "code",
   "execution_count": 35,
   "metadata": {
    "scrolled": true
   },
   "outputs": [
    {
     "name": "stdout",
     "output_type": "stream",
     "text": [
      "Crédibilité de l'info: 0.5840746791567739\n",
      "0.5630560093675805\n"
     ]
    }
   ],
   "source": [
    "#Influence crébibilité news sur le p d'une personne\n",
    "news = np.random.random_sample()\n",
    "print('Crédibilité de l\\'info:',news)\n",
    "\n",
    "def influ_credib_news(news,p,fp):\n",
    "    #news: crédibilité de la news\n",
    "    #p: param déterminant le chgt ou non de l'opinion    \n",
    "    i = p\n",
    "    i = i+fp*(news-i)\n",
    "    return i\n",
    "\n",
    "print(influ_credib_news(news,0.5,0.75))"
   ]
  },
  {
   "cell_type": "markdown",
   "metadata": {},
   "source": [
    "## Influence du voisinage sur p"
   ]
  },
  {
   "cell_type": "code",
   "execution_count": 31,
   "metadata": {},
   "outputs": [
    {
     "name": "stdout",
     "output_type": "stream",
     "text": [
      "Agent central: 55\n",
      "Voisinage de l'agent central : [44 55 66 43 54 65 34 45 56]\n",
      "Population :\n",
      " [[  1   2   3   4   5   6   7   8   9  10  11]\n",
      " [ 12  13  14  15  16  17  18  19  20  21  22]\n",
      " [ 23  24  25  26  27  28  29  30  31  32  33]\n",
      " [ 34  35  36  37  38  39  40  41  42  43  44]\n",
      " [ 45  46  47  48  49  50  51  52  53  54  55]\n",
      " [ 56  57  58  59  60  61  62  63  64  65  66]\n",
      " [ 67  68  69  70  71  72  73  74  75  76  77]\n",
      " [ 78  79  80  81  82  83  84  85  86  87  88]\n",
      " [ 89  90  91  92  93  94  95  96  97  98  99]\n",
      " [100 101 102 103 104 105 106 107 108 109 110]\n",
      " [111 112 113 114 115 116 117 118 119 120 121]]\n",
      "Liste des personnes qui vont discuter : [44 56 54 65 43]\n"
     ]
    }
   ],
   "source": [
    "#Sélection d'un agent et de son voisinage pour établir un discussion\n",
    "def selection_voisinage_bis(Matrice,n_1dim):\n",
    "    '''Sélection aléatoire des voisinages d'un individu\n",
    "    '''\n",
    "    L=[]                               #liste voisinage (pers susceptibles de discuter)\n",
    "    Ldiscu=[]                          #liste discussion (pers qui vont discuter)\n",
    "    size=np.random.choice(range(2,10)) #nb pers discussion\n",
    "    \n",
    "    ic=np.random.choice(range(n_1dim)) #ic,jc : indices de l'agent central\n",
    "    jc=np.random.choice(range(n_1dim))\n",
    "    a_central=Matrice[ic,jc]\n",
    "    print('Agent central:',a_central)\n",
    "    \n",
    "    if ic>0 and ic<(n_1dim-1) and jc>0 and jc<(n_1dim-1):\n",
    "        L=np.reshape(Matrice[ic-1 : ic+2 , jc-1 : jc+2] , 9)        \n",
    "    elif ic==0 and jc>0 and jc<(n_1dim-1):          #a_central sur arête sup\n",
    "        L=[(Matrice[ic,jc-1 : jc+2])\n",
    "           ,(Matrice[ic+1,jc-1 : jc+2])\n",
    "           ,(Matrice[n_1dim-1, jc-1 : jc+2])]\n",
    "        L=np.reshape(L,9)\n",
    "    elif ic==(n_1dim-1) and jc>0 and jc<(n_1dim-1): #a_central sur arête inf\n",
    "        L=[(Matrice[ic,jc-1 : jc+2])\n",
    "           ,(Matrice[ic-1,jc-1 : jc+2])\n",
    "           ,(Matrice[0, jc-1 : jc+2])]\n",
    "        L=np.reshape(L,9)        \n",
    "    elif jc==0 and ic>0 and ic<(n_1dim-1):          #a_central sur arête gauche\n",
    "        L=[(Matrice[ic-1 : ic+2,jc])\n",
    "           ,(Matrice[ic-1 : ic+2,jc+1])\n",
    "           ,(Matrice[ic-1 : ic+2,n_1dim-1])]\n",
    "        L=np.reshape(L,9)        \n",
    "    elif jc==(n_1dim-1) and ic>0 and ic<(n_1dim-1): #a_central sur arête droite\n",
    "        L=[(Matrice[ic-1 : ic+2,jc])\n",
    "           ,(Matrice[ic-1 : ic+2,jc-1])\n",
    "           ,(Matrice[ic-1 : ic+2,0])]\n",
    "        L=np.reshape(L,9)        \n",
    "    elif a_central==1:                              #a_central sur coin sup/gauche\n",
    "        L=[n_1dim,a_central,2,n_1dim*2,n_1dim+1,n_1dim+2,n_1dim*n_1dim,n_1dim*(n_1dim-1)+1,n_1dim*(n_1dim-1)+2]\n",
    "        L=np.array(L)        \n",
    "    elif a_central==n_1dim:                                                    #a_central sur coin sup/droit\n",
    "        L=[n_1dim-1,a_central,1,n_1dim*2-1,n_1dim*2,n_1dim+1,n_1dim*n_1dim-1,n_1dim*n_1dim,n_1dim*(n_1dim-1)+1]\n",
    "        L=np.array(L)\n",
    "    elif a_central==n_1dim*(n_1dim-1)+1:            #a_central sur coin inf/gauche\n",
    "        L=[n_1dim*(n_1dim-1),Matrice[ic-1,jc],Matrice[ic-1,jc+1]\n",
    "          ,n_1dim*n_1dim,a_central,Matrice[ic,jc+1]\n",
    "          ,1,2,n_1dim]\n",
    "        L=np.array(L)        \n",
    "    elif a_central==(n_1dim*n_1dim):                #a_central sur coin inf/droit\n",
    "        L=[a_central-n_1dim-1,a_central-n_1dim,Matrice[ic-1,0]\n",
    "          ,a_central-1,a_central,a_central-n_1dim+1\n",
    "          ,1,n_1dim-1,n_1dim]\n",
    "        L=np.array(L)\n",
    "    \n",
    "    print('Voisinage de l\\'agent central :',L)\n",
    "    Ldiscu=np.random.choice(L,size,replace=False)\n",
    "             \n",
    "    return Ldiscu\n",
    "\n",
    "Population=np.arange(1,N_1dim*N_1dim+1).reshape(N_1dim,N_1dim)\n",
    "List_discu=selection_voisinage_bis(Population,N_1dim)\n",
    "print('Population :\\n',Population)\n",
    "print('Liste des personnes qui vont discuter :',List_discu)"
   ]
  },
  {
   "cell_type": "code",
   "execution_count": 32,
   "metadata": {
    "scrolled": false
   },
   "outputs": [
    {
     "name": "stdout",
     "output_type": "stream",
     "text": [
      "{'1': (0, False, 0.7346610644792022, 0.6477871249978855), '2': (0, False, 0.45525028831027037, 0.26946477240128097), '3': (1, False, 0.912963782459134, 0.22072990873325526), '4': (1, False, 0.8862085155815076, 0.757202584897424), '5': (1, False, 0.9825138050903007, 0.9631282079132993), '6': (1, False, 0.028747756157672333, 0.900310729498335), '7': (0, True, 0.002107295007200416, 0.38632638413879294), '8': (0, False, 0.19336685203411685, 0.41955404803995444), '9': (1, True, 0.19662693644421148, 0.5973916975025212), '10': (1, True, 0.8032316100869032, 0.13855506366579617), '11': (0, False, 0.4008885277405718, 0.419208628445233), '12': (0, True, 0.23314933782228642, 0.27837861409227727), '13': (1, False, 0.689953603962745, 0.9893369133950484), '14': (0, False, 0.7325228084721132, 0.9629208077202279), '15': (0, True, 0.13208159666548458, 0.9773101286645968), '16': (0, True, 0.9943512396814158, 0.3566780732467155), '17': (1, False, 0.04211193981001771, 0.875672204483548), '18': (0, False, 0.6478742782225536, 0.521580978114206), '19': (0, False, 0.7355950224429216, 0.3810286830997561), '20': (1, True, 0.013252623858411972, 0.9197191246530819), '21': (1, True, 0.7573602954953781, 0.04603339231734205), '22': (1, False, 0.23418290181284784, 0.25315007563207603), '23': (1, True, 0.8141819948566883, 0.5895678090217558), '24': (1, False, 0.27547215230309097, 0.6499266503575573), '25': (1, True, 0.45340973038363874, 0.8192009224028736), '26': (1, False, 0.0843464559569631, 0.6900439753505022), '27': (0, True, 0.6160383002672526, 0.9885674353466826), '28': (0, True, 0.47488773372865556, 0.06297613608804764), '29': (1, True, 0.37877048917506884, 0.9889032951212711), '30': (1, True, 0.08481073062834388, 0.2745799774978668), '31': (1, True, 0.04916795121563855, 0.9549186273744877), '32': (1, False, 0.7962309491700036, 0.9197191246530819), '33': (1, True, 0.6493880600962325, 0.6043587398735806), '34': (0, True, 0.2888911039500788, 0.11270702808477484), '35': (1, True, 0.19054695812868194, 0.21088448746791943), '36': (0, False, 0.8036773267678554, 0.5472637634682193), '37': (0, False, 0.1399039589917972, 0.42431532568209285), '38': (0, True, 0.5689601862756412, 0.0790097359550338), '39': (1, True, 0.5206129725640497, 0.2640902283505998), '40': (1, False, 0.3372386603217786, 0.6112193397684882), '41': (0, True, 0.621849325312672, 0.9197191246530819), '42': (1, True, 0.6855291787037966, 0.9024329624461949), '43': (1, True, 0.23282508999890594, 0.4252323241747414), '44': (1, True, 0.5239130443472733, 0.6906614533872629), '45': (1, False, 0.6041442257211752, 0.1119414967006177), '46': (1, True, 0.06457051108404854, 0.16140340700799516), '47': (0, True, 0.6026176915107486, 0.8783024908052921), '48': (0, False, 0.13108371542511588, 0.11993475363381256), '49': (1, False, 0.4666109251608651, 0.10479279180775702), '50': (0, False, 0.8172592586268479, 0.4397942519131183), '51': (1, False, 0.994515988970065, 0.27784383035934435), '52': (1, False, 0.6265718706769222, 0.8090596180031419), '53': (1, False, 0.26529178375134765, 0.33005833763774206), '54': (1, True, 0.2796204263124378, 0.4252323241747414), '55': (0, True, 0.19400877893485657, 0.7346524898795904), '56': (1, False, 0.1382884842424369, 0.4252323241747414), '57': (1, True, 0.7672960464037083, 0.9270184649496296), '58': (1, False, 0.9809705057135284, 0.9437832988847805), '59': (0, True, 0.5307953264199156, 0.9095200860660426), '60': (0, False, 0.683416702125764, 0.5185432964717079), '61': (0, True, 0.8618902353214366, 0.4368602581380785), '62': (1, True, 0.7813966339179083, 0.06313181070487806), '63': (0, False, 0.7584818111848629, 0.03127577366107892), '64': (1, True, 0.6827319377312204, 0.2258632220848782), '65': (0, False, 0.8815209263510448, 0.4252323241747414), '66': (1, False, 0.7494128993043554, 0.32064182001708674), '67': (0, False, 0.9252457170760502, 0.697519088462313), '68': (1, True, 0.3840563253220397, 0.8873105989945915), '69': (1, False, 0.8879559314472157, 0.3447954429474438), '70': (1, False, 0.7066104691389236, 0.7077594759224658), '71': (1, True, 0.34208013535387416, 0.17317171586968982), '72': (1, False, 0.6738466494260917, 0.9616116606799799), '73': (1, True, 0.768191220738593, 0.18552885544781572), '74': (0, True, 0.9937533235360066, 0.37430953268988065), '75': (0, True, 0.7739800082440348, 0.5035714800124045), '76': (1, False, 0.40888235056126876, 0.6956091659661733), '77': (0, False, 0.520142762641774, 0.40348449399195185), '78': (1, False, 0.3176290713399441, 0.4239186555937676), '79': (0, True, 0.6602877582578469, 0.397797005987081), '80': (0, False, 0.7842444386113587, 0.5496779484723149), '81': (1, True, 0.2134253529659801, 0.23345352031042277), '82': (0, True, 0.06904145424223129, 0.2025544922714887), '83': (0, True, 0.017487363786915733, 0.5499508630567245), '84': (0, True, 0.2830483631574233, 0.6317519043490912), '85': (0, True, 0.10737429164591472, 0.23202240180566225), '86': (0, True, 0.7735788557721753, 0.10231879625911122), '87': (0, True, 0.2292981353294481, 0.608332024768974), '88': (1, False, 0.8959098427444502, 0.6580410054278337), '89': (0, True, 0.17712402857227139, 0.9573195966573749), '90': (1, False, 0.5164235657405799, 0.044916670625998245), '91': (0, True, 0.8177021601629956, 0.28237115318074857), '92': (0, True, 0.7985778114954192, 0.08600507193987161), '93': (1, False, 0.2897115787057247, 0.25764636104303196), '94': (0, False, 0.9844779668205927, 0.807279285222984), '95': (1, True, 0.9365820336036356, 0.12710756909656096), '96': (1, True, 0.8133378970542452, 0.07604276651594066), '97': (0, True, 0.7145565480495074, 0.5718866963282359), '98': (1, False, 0.4089963261353229, 0.3701594289159613), '99': (1, False, 0.8103635748140661, 0.5024581962431487), '100': (0, False, 0.4318093429035913, 0.8771780456872789), '101': (0, False, 0.3710250841891427, 0.9100735235723889), '102': (0, False, 0.868917061814305, 0.14790964817457775), '103': (0, False, 0.06640067773692282, 0.038318041347403464), '104': (1, False, 0.8803251761724148, 0.07711725072577469), '105': (1, False, 0.03896965559517629, 0.6703915111387677), '106': (1, True, 0.652196762436163, 0.2851870009946925), '107': (1, False, 0.34367253984636004, 0.24811380915285253), '108': (1, True, 0.4094246278142494, 0.7727230212232435), '109': (0, True, 0.34170415688745404, 0.2982888853562171), '110': (0, False, 0.35921283227487344, 0.6423855627551758), '111': (1, True, 0.43911536279977625, 0.330849067253967), '112': (1, True, 0.08036479436358102, 0.4245842083564322), '113': (1, True, 0.2689986073632008, 0.5452496408013542), '114': (0, False, 0.2517883088014973, 0.1526556268561292), '115': (0, True, 0.03383988536313565, 0.9449033027199342), '116': (1, False, 0.3073478989732905, 0.5309478472542511), '117': (1, False, 0.43033471340840035, 0.5628471966526539), '118': (0, True, 0.20700260888942146, 0.6872970626481472), '119': (0, False, 0.5102353850901067, 0.8935692515708831), '120': (1, False, 0.6696078468266423, 0.9528369051792607), '121': (0, False, 0.11315406277493845, 0.41371968095007783)}\n"
     ]
    }
   ],
   "source": [
    "#Modification du paramètre p de x en fonction de la force de persuasion de y et vice versa :\n",
    "def force_persu(x, y, reseau):\n",
    "        \n",
    "    opx,deja_vux,fpx,px=reseau[str(x)]\n",
    "    opy,deja_vuy,fpy,py=reseau[str(y)]\n",
    "    if fpx>fpy:\n",
    "        py=py+fpy*(px-py)\n",
    "    elif fpy>fpx:\n",
    "        px=px+fpx*(py-px)\n",
    "    \n",
    "    reseau[str(x)]=(opx,deja_vux,fpx,px)\n",
    "    reseau[str(y)]=(opy,deja_vuy,fpy,py)\n",
    "    \n",
    "    return reseau\n",
    "\n",
    "\n",
    "#Influence du voisinage :\n",
    "    # si 2 personnes, force persu. Sinon, moyenne des p pondérée des fp; si abs(pi-moy)>seuil, pi=pi, sinon pi=moy\n",
    "def influ_voisinage(list_discu,reseau,seuil):\n",
    "    \n",
    "    P=[]   #liste des convictions des membres de la discussion\n",
    "    F=[]   #liste des forces de persuasion des membres de la discussion\n",
    "    N=[]   #liste des noms des membres de la discussion\n",
    "    i=0\n",
    "    \n",
    "    for k in list_discu:\n",
    "        op_k,deja_k,fp_k,p_k=reseau[str(k)]\n",
    "        N.append(int(k))\n",
    "        P.append(p_k)\n",
    "        F.append(fp_k)\n",
    "            \n",
    "    if len(N)==2:\n",
    "        reseau=force_persu(N[0],N[1],reseau)\n",
    "    else:\n",
    "        for a in N:\n",
    "            op_a,deja_a,fp_a,p_a=reseau[str(a)]\n",
    "            other_p=P[0:a]+P[a+1:len(P)]\n",
    "            other_fp=F[0:a]+F[a+1:len(F)]            \n",
    "            moy=np.average(other_p,weights=other_fp)\n",
    "            if abs(p_a-moy)<seuil:\n",
    "                p_a=moy\n",
    "            reseau[str(a)]=(op_a,deja_a,fp_a,p_a)\n",
    "    \n",
    "            \n",
    "    return reseau\n",
    "\n",
    "print(influ_voisinage(List_discu,Test_reseau,0.2))"
   ]
  },
  {
   "cell_type": "markdown",
   "metadata": {},
   "source": [
    "## Modification du paramètre \"deja_vu\""
   ]
  },
  {
   "cell_type": "code",
   "execution_count": null,
   "metadata": {},
   "outputs": [],
   "source": [
    "#Modif deja_vu :\n",
    "def deja_vu(reseau):\n",
    "    for (nom,(op,deja_vu,fp,p)) in reseau.items():\n",
    "        if p!=0.5:\n",
    "            deja_vu=True\n",
    "        reseau[nom]=(op,deja_vu,fp,p)\n",
    "        \n",
    "    return reseau"
   ]
  },
  {
   "cell_type": "markdown",
   "metadata": {},
   "source": [
    "# Définition d'un pas de temps"
   ]
  },
  {
   "cell_type": "markdown",
   "metadata": {},
   "source": [
    "Pendant un pas de temps, le paramètre p d'un ou plusieurs individus sera modifié"
   ]
  },
  {
   "cell_type": "code",
   "execution_count": null,
   "metadata": {},
   "outputs": [],
   "source": [
    "def one_step(reseau,agent):\n",
    "    "
   ]
  },
  {
   "cell_type": "markdown",
   "metadata": {},
   "source": [
    "**Brouillons + tests + mémos numpy**"
   ]
  },
  {
   "cell_type": "code",
   "execution_count": null,
   "metadata": {},
   "outputs": [],
   "source": [
    "\"\"\"numpy.random.choice(liste(ou entier) , taille de l'array , replace=False ne pas avoir 2 fois la meme valeur , proba)\n",
    "   Parcours d'une matrice : for k in np.nditer(matrice)\n",
    "   \n",
    "N=15 #nombre de membres du réseau discussion physique\n",
    "#description d'un agent : (nom,opinion,deja_vu,persuasion,chgt_opinion)\n",
    "Reseau_discu={str(k):(0,False,fp,0.5) for k in range(N) for fp in np.random.uniform(low=0.0, high=1.0,size=N)}\n",
    "Noms_reseau_discu=[str(k) for k in range(N)]\n",
    "\n",
    "size = int(np.random.choice(range(2,10)))\n",
    "Discu = np.random.choice(Noms_reseau_discu,size,replace=False)\n",
    "print('Membres de la discussion',Discu)\n",
    "\n",
    "def matrice_discu(L,reseau):\n",
    "    matrice=np.matrix([['00','00','00'],['00','00','00'],['00','00','00']])\n",
    "    i=0\n",
    "    j=0\n",
    "    for (nom,(opinion,deja_vu,persu,p)) in reseau.items():\n",
    "        if nom in L:\n",
    "            matrice[i,j]=nom\n",
    "            if j!=2:\n",
    "                j=j+1\n",
    "            elif j==2:\n",
    "                j=0\n",
    "                i=i+1\n",
    "    return matrice\n",
    "    \n",
    "print('Matrice discussion :\\n',matrice_discu(Discu.copy(),Reseau_discu))\n",
    "\n",
    "Test_reseau=[(str(k),np.random.choice([0,1]),np.random.choice([False,True]),np.random.random_sample(),np.random.random_sample()) for k in range(N)]\n",
    "print('Réseau aléatoire :',Test_reseau)\n",
    "\n",
    "\"\"\""
   ]
  }
 ],
 "metadata": {
  "kernelspec": {
   "display_name": "Python 3",
   "language": "python",
   "name": "python3"
  },
  "language_info": {
   "codemirror_mode": {
    "name": "ipython",
    "version": 3
   },
   "file_extension": ".py",
   "mimetype": "text/x-python",
   "name": "python",
   "nbconvert_exporter": "python",
   "pygments_lexer": "ipython3",
   "version": "3.6.4"
  }
 },
 "nbformat": 4,
 "nbformat_minor": 2
}
