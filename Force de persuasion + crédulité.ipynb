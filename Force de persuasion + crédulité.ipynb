{
 "cells": [
  {
   "cell_type": "code",
   "execution_count": 3,
   "metadata": {},
   "outputs": [
    {
     "name": "stdout",
     "output_type": "stream",
     "text": [
      "{'Snap': array([47, 26,  3, 43, 30, 44, 25, 20,  7, 20, 46, 17, 14,  7, 28, 23, 21,\n",
      "       18,  0, 31, 26, 23, 42, 42, 22]), 'Twitter': array([41,  1,  4, 48, 22, 26, 18, 40,  8,  4,  3, 47, 34, 22, 47, 30,  0,\n",
      "       12, 32, 42]), 'Facebook': array([ 9, 12, 12,  9, 39, 45, 17, 36,  4, 42,  5,  3, 47, 40, 17, 27,  1,\n",
      "       48, 28, 38, 15, 35,  8,  3, 25,  1, 38, 38, 16, 43])} {'Famille_3': array([13, 37, 34, 25, 40, 44,  9, 14, 39,  0, 43, 17,  1, 12,  5, 42, 16,\n",
      "        3,  6, 15, 34, 11, 25, 41, 16]), 'Famille_1': array([42, 26, 18, 18,  3, 16,  0,  8, 33,  9, 15, 42,  5,  3, 11, 30, 47,\n",
      "       13, 40, 48, 46, 11, 23,  6, 14, 33, 13,  4, 25,  1]), 'Famille_2': array([29, 10, 47,  7, 30,  0, 19,  4,  1, 45, 37,  2, 10, 44,  3,  5, 37,\n",
      "       18, 32, 42])}\n"
     ]
    }
   ],
   "source": [
    "import numpy as np\n",
    "N=50\n",
    "\n",
    "\n",
    "Réseaux_sociaux={'Facebook': np.random.randint(low=0, high=N, size=(N-20),dtype=int),\n",
    "'Twitter': np.random.randint(low=0, high=N, size=(N-30),dtype=int),\n",
    "'Snap': np.random.randint(low=0, high=N, size=(N-25),dtype=int)}\n",
    "\n",
    "Réseaux_physiques={'Famille_1': np.random.randint(low=0, high=N, size=(N-20),dtype=int),\n",
    "'Famille_2': np.random.randint(low=0, high=N, size=(N-30),dtype=int),\n",
    "'Famille_3': np.random.randint(low=0, high=N, size=(N-25),dtype=int)}\n",
    "\n",
    "\n",
    "print(Réseaux_sociaux,\n",
    "      Réseaux_physiques)\n"
   ]
  },
  {
   "cell_type": "code",
   "execution_count": 10,
   "metadata": {},
   "outputs": [
    {
     "name": "stdout",
     "output_type": "stream",
     "text": [
      "[ 8 35 29 38 34 25 41 45  5 26  6  6 33 38  9 39 49 48 21 13 24 45 48 19\n",
      " 21 18 33 43 31 31]\n"
     ]
    }
   ],
   "source": [
    "N=50\n",
    "state = np.random.randint(low=0, high=N, size=(30),dtype=int)\n",
    "\n",
    "print(state)"
   ]
  },
  {
   "cell_type": "code",
   "execution_count": 91,
   "metadata": {},
   "outputs": [
    {
     "name": "stdout",
     "output_type": "stream",
     "text": [
      "L= [0.04331698 0.20747759 0.24346302 0.00793849 0.31579543 0.0440719\n",
      " 0.8817737  0.77905601 0.7615252  0.04915719 0.61991382 0.53277346\n",
      " 0.03982765 0.20567201 0.23813469 0.45874799 0.60921883 0.04410686\n",
      " 0.6539596  0.33861356]\n",
      "f: 0.20567201194358975\n",
      "(0, 0)\n"
     ]
    }
   ],
   "source": [
    "import numpy as np\n",
    "\n",
    "def bounded_update_opinion(x, y, N):\n",
    "    \"\"\"Rule to use to update the opinions.\"\"\"\n",
    "    \n",
    "    #modification de l'opinion binaire de x et y en fonction de f, une force de persuasion tirée aléatoirement dans la liste L\n",
    "    #L étant la liste des forces de persuasion des individus dans N\n",
    "    \n",
    "    L= np.random.uniform(low=0.0, high=1.0, size=20)\n",
    "    for f in np.random.choice(L, size=1):\n",
    "        print('L=',L)\n",
    "        print('f:',f)\n",
    "        if f>0.8:\n",
    "            x = x + 1\n",
    "            y = y + 1\n",
    "            \n",
    "    return x, y\n",
    "\n",
    "x=0\n",
    "y=0\n",
    "N=15\n",
    "print(bounded_update_opinion(x, y, N))"
   ]
  },
  {
   "cell_type": "code",
   "execution_count": 58,
   "metadata": {},
   "outputs": [
    {
     "name": "stdout",
     "output_type": "stream",
     "text": [
      "LR= {0: (1, False, 8), 1: (0, True, 9), 2: (1, False, 3), 3: (1, True, 8), 4: (1, True, 2), 5: (0, False, 6), 6: (1, False, 5), 7: (0, True, 2), 8: (1, False, 4), 9: (0, True, 8), 10: (0, False, 7), 11: (0, True, 3), 12: (0, True, 3), 13: (1, False, 9), 14: (0, True, 1)}\n",
      "New_LR= {0: (1, False, 8), 1: (0, True, 9), 2: (1, False, 3), 3: (1, True, 8), 4: (1, True, 2), 5: (1, True, 6), 6: (1, False, 5), 7: (0, True, 2), 8: (1, False, 4), 9: (0, True, 8), 10: (0, False, 7), 11: (0, True, 3), 12: (0, True, 3), 13: (1, False, 9), 14: (0, True, 1)}\n"
     ]
    }
   ],
   "source": [
    "import numpy as np\n",
    "\n",
    "N=15\n",
    "LR={c:(np.random.choice([0,1]),np.random.choice([False,True]),d) for c in range(N) \n",
    "    for d in np.random.randint(10,size=N,dtype=int)}\n",
    "print(\"LR=\",LR)\n",
    "\n",
    "def crédulité(c1, c2, LR):\n",
    "    #changement de l'opinion selon la crédulité des agents lorsque les deux agents se rencontrent\n",
    "    \n",
    "    op1,dejavu1,créd1=LR[c1]\n",
    "    op2,dejavu2,créd2=LR[c2]\n",
    "    if (dejavu1==False):\n",
    "        if (dejavu2==True):\n",
    "            dejavu1=True\n",
    "            op1=op2\n",
    "    elif dejavu2==False:\n",
    "        if (dejavu1==True):\n",
    "            dejavu2=True\n",
    "            op2=op1\n",
    "\n",
    "    elif (dejavu1==True) and (dejavu2==True):    \n",
    "        if créd1>créd2:\n",
    "            op2=op1\n",
    "        elif créd1<créd2:\n",
    "            op1=op2\n",
    "    \n",
    "    LR[c1]=(op1,dejavu1,créd1)\n",
    "    LR[c2]=(op2,dejavu2,créd2)\n",
    "    \n",
    "    return LR\n",
    "\n",
    "\n",
    "print(\"New_LR=\",crédulité(3, 5, LR))"
   ]
  },
  {
   "cell_type": "code",
   "execution_count": 65,
   "metadata": {},
   "outputs": [
    {
     "name": "stdout",
     "output_type": "stream",
     "text": [
      "L= {0: (0, True, 3, 0.10941012516841098), 1: (0, False, 4, 0.7790528286771261), 2: (0, False, 6, 0.24775531964550424), 3: (1, True, 6, 0.3412269762912836), 4: (1, True, 5, 0.2964076334573622), 5: (1, False, 5, 0.5953053743682637), 6: (0, False, 4, 0.8906507748898553), 7: (0, True, 7, 0.4110297690927137), 8: (0, False, 9, 0.6947254400738011), 9: (1, False, 2, 0.6786613352467503), 10: (1, True, 8, 0.8583449884744441), 11: (1, False, 9, 0.6907464847809386), 12: (0, False, 3, 0.5429280487324437), 13: (1, False, 6, 0.5721949512465833), 14: (0, True, 1, 0.3255145249697673)}\n",
      "New_L= {0: (0, True, 3, 0.10941012516841098), 1: (0, False, 4, 0.7790528286771261), 2: (0, False, 6, 0.24775531964550424), 3: (1, True, 6, 0.3412269762912836), 4: (1, True, 5, 0.2964076334573622), 5: (1, True, 5, 0.5953053743682637), 6: (0, False, 4, 0.8906507748898553), 7: (0, True, 7, 0.4110297690927137), 8: (0, False, 9, 0.6947254400738011), 9: (1, False, 2, 0.6786613352467503), 10: (1, True, 8, 0.8583449884744441), 11: (1, False, 9, 0.6907464847809386), 12: (0, False, 3, 0.5429280487324437), 13: (1, False, 6, 0.5721949512465833), 14: (0, True, 1, 0.3255145249697673)}\n"
     ]
    }
   ],
   "source": [
    "import numpy as np\n",
    "\n",
    "N=15\n",
    "L={c:(np.random.choice([0,1]),np.random.choice([False,True]),d,p) for c in range(N) \n",
    "    for d in np.random.randint(10,size=N,dtype=int)\n",
    "   for p in np.random.uniform(low=0.0, high=1.0, size=N)}\n",
    "print(\"L=\",L)\n",
    "\n",
    "\n",
    "def crédulité2(c1, c2, L):\n",
    "    #changement du paramètre p selon la crédulité des agents lorsque les deux agents se rencontrent\n",
    "    \n",
    "    op1,dejavu1,créd1,p1=L[c1]\n",
    "    op2,dejavu2,créd2,p2=L[c2]\n",
    "    if (dejavu1==False):\n",
    "        if (dejavu2==True):\n",
    "            dejavu1=True\n",
    "            op1=op2\n",
    "    elif dejavu2==False:\n",
    "        if (dejavu1==True):\n",
    "            dejavu2=True\n",
    "            op2=op1\n",
    "\n",
    "    elif (dejavu1==True) and (dejavu2==True):    \n",
    "        if créd1>créd2:\n",
    "            p1=p1*1.2\n",
    "        elif créd1<créd2:\n",
    "            p2=p2*1.2\n",
    "    \n",
    "    L[c1]=(op1,dejavu1,créd1,p1)\n",
    "    L[c2]=(op2,dejavu2,créd2,p2)\n",
    "    \n",
    "    return L\n",
    "\n",
    "print(\"New_L=\",crédulité2(3, 5, L))"
   ]
  },
  {
   "cell_type": "code",
   "execution_count": 310,
   "metadata": {},
   "outputs": [
    {
     "name": "stdout",
     "output_type": "stream",
     "text": [
      "L [[2.99937067 4.68460497 1.09947067 4.73791499 4.38815545]\n",
      " [0.60923748 3.43459742 4.82505243 4.64768884 3.67605969]\n",
      " [1.19799176 4.53956227 0.75835451 0.13762477 0.36142897]\n",
      " [0.61339735 4.32563185 1.28235341 0.59008107 2.55366529]\n",
      " [0.25218888 3.30565241 2.98443799 1.43199717 2.04590552]]\n",
      "[[3.434597418240679, 4.825052427276683, 4.647688843138274], [4.539562266347335, 0.758354513417332, 0.13762477458026112], [4.325631846166356, 1.2823534101188234, 0.5900810663187006]]\n"
     ]
    }
   ],
   "source": [
    "L=np.random.uniform(low=0, high=5, size=(5,5))\n",
    "print(\"L\",L)\n",
    "i=(a,b)\n",
    "a=3\n",
    "b=3\n",
    "\n",
    "def selection_voisinage(Matrice,i):\n",
    "\n",
    "    Ma=[]\n",
    "    n=1\n",
    "\n",
    "    for l in L:\n",
    "        if n==(a-1) or n==a:\n",
    "            Ma.append([l[b-2],l[b-1],l[b]])\n",
    "            n=n+1\n",
    "        elif n==a+1:\n",
    "            Ma.append([l[b-2],l[b-1],l[b]])\n",
    "            return Ma\n",
    "        else:\n",
    "            n=n+1\n",
    "            \n",
    "    return Ma\n",
    "print(selection_voisinage(L,i))"
   ]
  },
  {
   "cell_type": "code",
   "execution_count": null,
   "metadata": {},
   "outputs": [],
   "source": []
  },
  {
   "cell_type": "code",
   "execution_count": null,
   "metadata": {},
   "outputs": [],
   "source": []
  }
 ],
 "metadata": {
  "kernelspec": {
   "display_name": "Python 3",
   "language": "python",
   "name": "python3"
  },
  "language_info": {
   "codemirror_mode": {
    "name": "ipython",
    "version": 3
   },
   "file_extension": ".py",
   "mimetype": "text/x-python",
   "name": "python",
   "nbconvert_exporter": "python",
   "pygments_lexer": "ipython3",
   "version": "3.4.2"
  }
 },
 "nbformat": 4,
 "nbformat_minor": 2
}
