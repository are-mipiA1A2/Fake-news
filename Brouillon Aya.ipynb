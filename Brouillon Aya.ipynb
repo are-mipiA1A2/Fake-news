{
 "cells": [
  {
   "cell_type": "code",
   "execution_count": 59,
   "metadata": {},
   "outputs": [],
   "source": [
    "#co = nb de reseaux moy = nb res('1')+nb res('2')+...+nb res('N') / nb pers\n",
    "co = 9\n",
    "N = 100\n",
    "\"\"\"D={str(k) : np.random.choice(range(11)) for k in range(1,26)}\n",
    "L=[value for (key,value) in D.items()]\n",
    "moy=sum(L)/25\n",
    "\n",
    "print(D)\n",
    "print(L)\n",
    "\n",
    "def nb_res(co,N):\n",
    "    total=co*N\n",
    "    LR=np.random.choice(range(11),size=N-1)\n",
    "    while (total-sum(LR))>10 or sum(LR)>total:\n",
    "        LR=np.random.choice(range(11),size=N-1)\n",
    "    LR=list(LR)\n",
    "    LR.append(total-sum(LR))\n",
    "    return LR\n",
    "\n",
    "print(nb_res(co,N))\n",
    "print(np.average(nb_res(co,N)))\"\"\"\n",
    "\n",
    "def nb_res(co,N):\n",
    "    LR=np.random.normal(loc=co,scale=1)"
   ]
  }
 ],
 "metadata": {
  "kernelspec": {
   "display_name": "Python 3",
   "language": "python",
   "name": "python3"
  },
  "language_info": {
   "codemirror_mode": {
    "name": "ipython",
    "version": 3
   },
   "file_extension": ".py",
   "mimetype": "text/x-python",
   "name": "python",
   "nbconvert_exporter": "python",
   "pygments_lexer": "ipython3",
   "version": "3.6.4"
  }
 },
 "nbformat": 4,
 "nbformat_minor": 2
}
